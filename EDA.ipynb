{
 "cells": [
  {
   "cell_type": "markdown",
   "metadata": {},
   "source": [
    "<h1 align=\"center\"> Project Setup </h1>"
   ]
  },
  {
   "cell_type": "markdown",
   "metadata": {},
   "source": [
    "#### Install Packages"
   ]
  },
  {
   "cell_type": "code",
   "execution_count": 2,
   "metadata": {},
   "outputs": [
    {
     "name": "stdout",
     "output_type": "stream",
     "text": [
      "Requirement already satisfied: yellowbrick in /Users/kesnel/opt/anaconda3/lib/python3.8/site-packages (1.3.post1)\n",
      "Requirement already satisfied: scikit-learn>=0.20 in /Users/kesnel/opt/anaconda3/lib/python3.8/site-packages (from yellowbrick) (0.23.2)\n",
      "Requirement already satisfied: matplotlib!=3.0.0,>=2.0.2 in /Users/kesnel/opt/anaconda3/lib/python3.8/site-packages (from yellowbrick) (3.3.2)\n",
      "Requirement already satisfied: numpy<1.20,>=1.16.0 in /Users/kesnel/opt/anaconda3/lib/python3.8/site-packages (from yellowbrick) (1.19.2)\n",
      "Requirement already satisfied: scipy>=1.0.0 in /Users/kesnel/opt/anaconda3/lib/python3.8/site-packages (from yellowbrick) (1.5.2)\n",
      "Requirement already satisfied: cycler>=0.10.0 in /Users/kesnel/opt/anaconda3/lib/python3.8/site-packages (from yellowbrick) (0.10.0)\n",
      "Requirement already satisfied: six in /Users/kesnel/opt/anaconda3/lib/python3.8/site-packages (from cycler>=0.10.0->yellowbrick) (1.15.0)\n",
      "Requirement already satisfied: certifi>=2020.06.20 in /Users/kesnel/opt/anaconda3/lib/python3.8/site-packages (from matplotlib!=3.0.0,>=2.0.2->yellowbrick) (2020.6.20)\n",
      "Requirement already satisfied: python-dateutil>=2.1 in /Users/kesnel/opt/anaconda3/lib/python3.8/site-packages (from matplotlib!=3.0.0,>=2.0.2->yellowbrick) (2.8.1)\n",
      "Requirement already satisfied: pyparsing!=2.0.4,!=2.1.2,!=2.1.6,>=2.0.3 in /Users/kesnel/opt/anaconda3/lib/python3.8/site-packages (from matplotlib!=3.0.0,>=2.0.2->yellowbrick) (2.4.7)\n",
      "Requirement already satisfied: kiwisolver>=1.0.1 in /Users/kesnel/opt/anaconda3/lib/python3.8/site-packages (from matplotlib!=3.0.0,>=2.0.2->yellowbrick) (1.3.0)\n",
      "Requirement already satisfied: pillow>=6.2.0 in /Users/kesnel/opt/anaconda3/lib/python3.8/site-packages (from matplotlib!=3.0.0,>=2.0.2->yellowbrick) (8.0.1)\n",
      "Requirement already satisfied: joblib>=0.11 in /Users/kesnel/opt/anaconda3/lib/python3.8/site-packages (from scikit-learn>=0.20->yellowbrick) (0.17.0)\n",
      "Requirement already satisfied: threadpoolctl>=2.0.0 in /Users/kesnel/opt/anaconda3/lib/python3.8/site-packages (from scikit-learn>=0.20->yellowbrick) (2.1.0)\n"
     ]
    }
   ],
   "source": [
    "!pip install yellowbrick"
   ]
  },
  {
   "cell_type": "markdown",
   "metadata": {},
   "source": [
    "#### Importing Dependencies"
   ]
  },
  {
   "cell_type": "code",
   "execution_count": 3,
   "metadata": {},
   "outputs": [],
   "source": [
    "import os\n",
    "import sys\n",
    "\n",
    "import numpy as np\n",
    "import pandas as pd\n",
    "import matplotlib.pyplot as plt\n",
    "import seaborn as sns\n",
    "\n",
    "from sklearn.cluster import KMeans\n",
    "\n",
    "import warnings\n",
    "warnings.filterwarnings('ignore')"
   ]
  },
  {
   "cell_type": "markdown",
   "metadata": {},
   "source": [
    "#### Importing Datasets"
   ]
  },
  {
   "cell_type": "code",
   "execution_count": 4,
   "metadata": {},
   "outputs": [],
   "source": [
    "# Display all columns in the DataFrame using pandas settings\n",
    "pd.set_option('display.max_columns', None)"
   ]
  },
  {
   "cell_type": "code",
   "execution_count": 5,
   "metadata": {},
   "outputs": [],
   "source": [
    "df_imports = pd.read_excel('data/simple_WTO_dataset_merchandise_imports_by_product_group_annual_million_US_dollar.xlsx')"
   ]
  },
  {
   "cell_type": "markdown",
   "metadata": {},
   "source": [
    "<br><br>"
   ]
  },
  {
   "cell_type": "markdown",
   "metadata": {},
   "source": [
    "<h1 align=\"center\"> Summary</h1>"
   ]
  },
  {
   "cell_type": "markdown",
   "metadata": {},
   "source": [
    "### Objective"
   ]
  },
  {
   "cell_type": "markdown",
   "metadata": {},
   "source": [
    "This project focuses on how the country will be able to know the right market to export their products. This will allow the country to get a good guide on foreign trade, and know which countries have High demand in different sectors, especially agricultural products.\n",
    "\n",
    "The specific objectives of this project are:\n",
    "1. Analyzethedatasetthatwearegoingtocollecttobetterunderstandandgive\n",
    "some insight on the international trade\n",
    "2. ChoosethebestplacewiththeHighdemandforagriculturalproductssothat Haiti can promote and sell its products"
   ]
  },
  {
   "cell_type": "markdown",
   "metadata": {},
   "source": [
    "<hr>"
   ]
  },
  {
   "cell_type": "markdown",
   "metadata": {},
   "source": [
    "### Hypothesis: Research Question?"
   ]
  },
  {
   "cell_type": "markdown",
   "metadata": {},
   "source": [
    "What is the question that you would like to answer in order to make a decision."
   ]
  },
  {
   "cell_type": "markdown",
   "metadata": {},
   "source": [
    "<hr>"
   ]
  },
  {
   "cell_type": "markdown",
   "metadata": {},
   "source": [
    "### Data Source"
   ]
  },
  {
   "cell_type": "markdown",
   "metadata": {},
   "source": [
    "For this project we will be using the World Trade Organization(WTO) data portal to have access to. The WTO Data portal contains statistical indicators, Available time series cover merchandise trade and trade in services statistics, market access indicators (bound, applied & preferential tariffs), non-tariff information as well as other indicators."
   ]
  },
  {
   "cell_type": "markdown",
   "metadata": {},
   "source": [
    "<br><br>"
   ]
  },
  {
   "cell_type": "markdown",
   "metadata": {},
   "source": [
    "<h1 align=\"center\"> Data Cleaning </h1>"
   ]
  },
  {
   "cell_type": "markdown",
   "metadata": {},
   "source": [
    "#### Introduce the Data"
   ]
  },
  {
   "cell_type": "code",
   "execution_count": 7,
   "metadata": {},
   "outputs": [
    {
     "name": "stdout",
     "output_type": "stream",
     "text": [
      "------ Imports Dataset ------\n"
     ]
    },
    {
     "data": {
      "text/html": [
       "<div>\n",
       "<style scoped>\n",
       "    .dataframe tbody tr th:only-of-type {\n",
       "        vertical-align: middle;\n",
       "    }\n",
       "\n",
       "    .dataframe tbody tr th {\n",
       "        vertical-align: top;\n",
       "    }\n",
       "\n",
       "    .dataframe thead th {\n",
       "        text-align: right;\n",
       "    }\n",
       "</style>\n",
       "<table border=\"1\" class=\"dataframe\">\n",
       "  <thead>\n",
       "    <tr style=\"text-align: right;\">\n",
       "      <th></th>\n",
       "      <th>Indicator</th>\n",
       "      <th>Merchandise imports by product group – annual (Million US dollar)</th>\n",
       "      <th>Unnamed: 2</th>\n",
       "      <th>Unnamed: 3</th>\n",
       "      <th>Unnamed: 4</th>\n",
       "      <th>Unnamed: 5</th>\n",
       "      <th>Unnamed: 6</th>\n",
       "      <th>Unnamed: 7</th>\n",
       "      <th>Unnamed: 8</th>\n",
       "      <th>Unnamed: 9</th>\n",
       "      <th>Unnamed: 10</th>\n",
       "      <th>Unnamed: 11</th>\n",
       "      <th>Unnamed: 12</th>\n",
       "    </tr>\n",
       "  </thead>\n",
       "  <tbody>\n",
       "    <tr>\n",
       "      <th>0</th>\n",
       "      <td>NaN</td>\n",
       "      <td>NaN</td>\n",
       "      <td>NaN</td>\n",
       "      <td>NaN</td>\n",
       "      <td>NaN</td>\n",
       "      <td>NaN</td>\n",
       "      <td>NaN</td>\n",
       "      <td>NaN</td>\n",
       "      <td>NaN</td>\n",
       "      <td>NaN</td>\n",
       "      <td>NaN</td>\n",
       "      <td>NaN</td>\n",
       "      <td>NaN</td>\n",
       "    </tr>\n",
       "    <tr>\n",
       "      <th>1</th>\n",
       "      <td>Reporting Economy</td>\n",
       "      <td>Product/Sector</td>\n",
       "      <td>Partner Economy</td>\n",
       "      <td>2010.0</td>\n",
       "      <td>2011.0</td>\n",
       "      <td>2012.0</td>\n",
       "      <td>2013.0</td>\n",
       "      <td>2014.0</td>\n",
       "      <td>2015.0</td>\n",
       "      <td>2016.0</td>\n",
       "      <td>2017.0</td>\n",
       "      <td>2018.0</td>\n",
       "      <td>2019.0</td>\n",
       "    </tr>\n",
       "    <tr>\n",
       "      <th>2</th>\n",
       "      <td>Afghanistan</td>\n",
       "      <td>SI3_AGG - AG - Agricultural products</td>\n",
       "      <td>World</td>\n",
       "      <td>706.0</td>\n",
       "      <td>897.0</td>\n",
       "      <td>1248.0</td>\n",
       "      <td>1200.0</td>\n",
       "      <td>1064.0</td>\n",
       "      <td>1485.0</td>\n",
       "      <td>1539.0</td>\n",
       "      <td>1740.0</td>\n",
       "      <td>2656.0</td>\n",
       "      <td>2484.0</td>\n",
       "    </tr>\n",
       "    <tr>\n",
       "      <th>3</th>\n",
       "      <td>Afghanistan</td>\n",
       "      <td>SI3_AGG - MI - Fuels and mining products</td>\n",
       "      <td>World</td>\n",
       "      <td>1090.0</td>\n",
       "      <td>2240.0</td>\n",
       "      <td>3118.0</td>\n",
       "      <td>2999.0</td>\n",
       "      <td>2657.0</td>\n",
       "      <td>1658.0</td>\n",
       "      <td>1045.0</td>\n",
       "      <td>1181.0</td>\n",
       "      <td>1102.0</td>\n",
       "      <td>340.0</td>\n",
       "    </tr>\n",
       "  </tbody>\n",
       "</table>\n",
       "</div>"
      ],
      "text/plain": [
       "           Indicator  \\\n",
       "0                NaN   \n",
       "1  Reporting Economy   \n",
       "2        Afghanistan   \n",
       "3        Afghanistan   \n",
       "\n",
       "    Merchandise imports by product group – annual (Million US dollar)  \\\n",
       "0                                                NaN                    \n",
       "1                                     Product/Sector                    \n",
       "2               SI3_AGG - AG - Agricultural products                    \n",
       "3           SI3_AGG - MI - Fuels and mining products                    \n",
       "\n",
       "        Unnamed: 2  Unnamed: 3  Unnamed: 4  Unnamed: 5  Unnamed: 6  \\\n",
       "0              NaN         NaN         NaN         NaN         NaN   \n",
       "1  Partner Economy      2010.0      2011.0      2012.0      2013.0   \n",
       "2            World       706.0       897.0      1248.0      1200.0   \n",
       "3            World      1090.0      2240.0      3118.0      2999.0   \n",
       "\n",
       "   Unnamed: 7  Unnamed: 8  Unnamed: 9  Unnamed: 10  Unnamed: 11  Unnamed: 12  \n",
       "0         NaN         NaN         NaN          NaN          NaN          NaN  \n",
       "1      2014.0      2015.0      2016.0       2017.0       2018.0       2019.0  \n",
       "2      1064.0      1485.0      1539.0       1740.0       2656.0       2484.0  \n",
       "3      2657.0      1658.0      1045.0       1181.0       1102.0        340.0  "
      ]
     },
     "metadata": {},
     "output_type": "display_data"
    }
   ],
   "source": [
    "# Displaying the countries import product dataframe\n",
    "print('------ Imports Dataset ------')\n",
    "display(df_imports.head(4))"
   ]
  },
  {
   "cell_type": "code",
   "execution_count": 9,
   "metadata": {},
   "outputs": [
    {
     "name": "stdout",
     "output_type": "stream",
     "text": [
      "------------------------------ Dataset Shape ------------------------------\n",
      "The Imports dataset has 1293 Rows and 13 columns\n",
      "------------------------------ Dataframe Columns ------------------------------\n"
     ]
    },
    {
     "data": {
      "text/plain": [
       "Index(['Indicator',\n",
       "       '  Merchandise imports by product group – annual (Million US dollar)',\n",
       "       'Unnamed: 2', 'Unnamed: 3', 'Unnamed: 4', 'Unnamed: 5', 'Unnamed: 6',\n",
       "       'Unnamed: 7', 'Unnamed: 8', 'Unnamed: 9', 'Unnamed: 10', 'Unnamed: 11',\n",
       "       'Unnamed: 12'],\n",
       "      dtype='object')"
      ]
     },
     "metadata": {},
     "output_type": "display_data"
    },
    {
     "name": "stdout",
     "output_type": "stream",
     "text": [
      "------------------------------ Data types ------------------------------\n"
     ]
    },
    {
     "data": {
      "text/plain": [
       "Indicator                                                               object\n",
       "  Merchandise imports by product group – annual (Million US dollar)     object\n",
       "Unnamed: 2                                                              object\n",
       "Unnamed: 3                                                             float64\n",
       "Unnamed: 4                                                             float64\n",
       "Unnamed: 5                                                             float64\n",
       "Unnamed: 6                                                             float64\n",
       "Unnamed: 7                                                             float64\n",
       "Unnamed: 8                                                             float64\n",
       "Unnamed: 9                                                             float64\n",
       "Unnamed: 10                                                            float64\n",
       "Unnamed: 11                                                            float64\n",
       "Unnamed: 12                                                            float64\n",
       "dtype: object"
      ]
     },
     "metadata": {},
     "output_type": "display_data"
    }
   ],
   "source": [
    "print('------------------------------ Dataset Shape ------------------------------')\n",
    "print('The Imports dataset has',df_imports.shape[0], 'Rows and', df_imports.shape[1],'columns')\n",
    "\n",
    "print('------------------------------ Dataframe Columns ------------------------------')\n",
    "display(df_imports.columns)\n",
    "\n",
    "print('------------------------------ Data types ------------------------------')\n",
    "display(df_imports.dtypes)"
   ]
  },
  {
   "cell_type": "code",
   "execution_count": 10,
   "metadata": {},
   "outputs": [
    {
     "name": "stdout",
     "output_type": "stream",
     "text": [
      "-------- Imports column names --------\n"
     ]
    },
    {
     "data": {
      "text/plain": [
       "Index(['Indicator',\n",
       "       '  Merchandise imports by product group – annual (Million US dollar)',\n",
       "       'Unnamed: 2', 'Unnamed: 3', 'Unnamed: 4', 'Unnamed: 5', 'Unnamed: 6',\n",
       "       'Unnamed: 7', 'Unnamed: 8', 'Unnamed: 9', 'Unnamed: 10', 'Unnamed: 11',\n",
       "       'Unnamed: 12'],\n",
       "      dtype='object')"
      ]
     },
     "metadata": {},
     "output_type": "display_data"
    },
    {
     "name": "stdout",
     "output_type": "stream",
     "text": [
      "-------- Imports Dataframe with new cols names --------\n"
     ]
    },
    {
     "data": {
      "text/html": [
       "<div>\n",
       "<style scoped>\n",
       "    .dataframe tbody tr th:only-of-type {\n",
       "        vertical-align: middle;\n",
       "    }\n",
       "\n",
       "    .dataframe tbody tr th {\n",
       "        vertical-align: top;\n",
       "    }\n",
       "\n",
       "    .dataframe thead th {\n",
       "        text-align: right;\n",
       "    }\n",
       "</style>\n",
       "<table border=\"1\" class=\"dataframe\">\n",
       "  <thead>\n",
       "    <tr style=\"text-align: right;\">\n",
       "      <th></th>\n",
       "      <th>Reporting Economy</th>\n",
       "      <th>Product/Sector</th>\n",
       "      <th>Partner Economy</th>\n",
       "      <th>2010</th>\n",
       "      <th>2011</th>\n",
       "      <th>2012</th>\n",
       "      <th>2013</th>\n",
       "      <th>2014</th>\n",
       "      <th>2015</th>\n",
       "      <th>2016</th>\n",
       "      <th>2017</th>\n",
       "      <th>2018</th>\n",
       "      <th>2019</th>\n",
       "    </tr>\n",
       "  </thead>\n",
       "  <tbody>\n",
       "    <tr>\n",
       "      <th>0</th>\n",
       "      <td>NaN</td>\n",
       "      <td>NaN</td>\n",
       "      <td>NaN</td>\n",
       "      <td>NaN</td>\n",
       "      <td>NaN</td>\n",
       "      <td>NaN</td>\n",
       "      <td>NaN</td>\n",
       "      <td>NaN</td>\n",
       "      <td>NaN</td>\n",
       "      <td>NaN</td>\n",
       "      <td>NaN</td>\n",
       "      <td>NaN</td>\n",
       "      <td>NaN</td>\n",
       "    </tr>\n",
       "    <tr>\n",
       "      <th>1</th>\n",
       "      <td>Reporting Economy</td>\n",
       "      <td>Product/Sector</td>\n",
       "      <td>Partner Economy</td>\n",
       "      <td>2010.0</td>\n",
       "      <td>2011.0</td>\n",
       "      <td>2012.0</td>\n",
       "      <td>2013.0</td>\n",
       "      <td>2014.0</td>\n",
       "      <td>2015.0</td>\n",
       "      <td>2016.0</td>\n",
       "      <td>2017.0</td>\n",
       "      <td>2018.0</td>\n",
       "      <td>2019.0</td>\n",
       "    </tr>\n",
       "    <tr>\n",
       "      <th>2</th>\n",
       "      <td>Afghanistan</td>\n",
       "      <td>SI3_AGG - AG - Agricultural products</td>\n",
       "      <td>World</td>\n",
       "      <td>706.0</td>\n",
       "      <td>897.0</td>\n",
       "      <td>1248.0</td>\n",
       "      <td>1200.0</td>\n",
       "      <td>1064.0</td>\n",
       "      <td>1485.0</td>\n",
       "      <td>1539.0</td>\n",
       "      <td>1740.0</td>\n",
       "      <td>2656.0</td>\n",
       "      <td>2484.0</td>\n",
       "    </tr>\n",
       "    <tr>\n",
       "      <th>3</th>\n",
       "      <td>Afghanistan</td>\n",
       "      <td>SI3_AGG - MI - Fuels and mining products</td>\n",
       "      <td>World</td>\n",
       "      <td>1090.0</td>\n",
       "      <td>2240.0</td>\n",
       "      <td>3118.0</td>\n",
       "      <td>2999.0</td>\n",
       "      <td>2657.0</td>\n",
       "      <td>1658.0</td>\n",
       "      <td>1045.0</td>\n",
       "      <td>1181.0</td>\n",
       "      <td>1102.0</td>\n",
       "      <td>340.0</td>\n",
       "    </tr>\n",
       "    <tr>\n",
       "      <th>4</th>\n",
       "      <td>Afghanistan</td>\n",
       "      <td>SI3_AGG - MAIS - Iron and steel</td>\n",
       "      <td>World</td>\n",
       "      <td>42.0</td>\n",
       "      <td>69.0</td>\n",
       "      <td>96.0</td>\n",
       "      <td>93.0</td>\n",
       "      <td>82.0</td>\n",
       "      <td>25.0</td>\n",
       "      <td>25.0</td>\n",
       "      <td>29.0</td>\n",
       "      <td>218.0</td>\n",
       "      <td>51.0</td>\n",
       "    </tr>\n",
       "  </tbody>\n",
       "</table>\n",
       "</div>"
      ],
      "text/plain": [
       "   Reporting Economy                            Product/Sector  \\\n",
       "0                NaN                                       NaN   \n",
       "1  Reporting Economy                            Product/Sector   \n",
       "2        Afghanistan      SI3_AGG - AG - Agricultural products   \n",
       "3        Afghanistan  SI3_AGG - MI - Fuels and mining products   \n",
       "4        Afghanistan           SI3_AGG - MAIS - Iron and steel   \n",
       "\n",
       "   Partner Economy    2010    2011    2012    2013    2014    2015    2016  \\\n",
       "0              NaN     NaN     NaN     NaN     NaN     NaN     NaN     NaN   \n",
       "1  Partner Economy  2010.0  2011.0  2012.0  2013.0  2014.0  2015.0  2016.0   \n",
       "2            World   706.0   897.0  1248.0  1200.0  1064.0  1485.0  1539.0   \n",
       "3            World  1090.0  2240.0  3118.0  2999.0  2657.0  1658.0  1045.0   \n",
       "4            World    42.0    69.0    96.0    93.0    82.0    25.0    25.0   \n",
       "\n",
       "     2017    2018    2019  \n",
       "0     NaN     NaN     NaN  \n",
       "1  2017.0  2018.0  2019.0  \n",
       "2  1740.0  2656.0  2484.0  \n",
       "3  1181.0  1102.0   340.0  \n",
       "4    29.0   218.0    51.0  "
      ]
     },
     "metadata": {},
     "output_type": "display_data"
    }
   ],
   "source": [
    "# Display all columns\n",
    "print('-------- Imports column names --------')\n",
    "display(df_imports.columns)\n",
    "\n",
    "# Change columns name\n",
    "map_cols_name = {\n",
    "    'Indicator':'Reporting Economy',\n",
    "    '  Merchandise imports by product group – annual (Million US dollar)': 'Product/Sector',\n",
    "    'Unnamed: 2': 'Partner Economy',\n",
    "    'Unnamed: 3': '2010',\n",
    "    'Unnamed: 4': '2011',\n",
    "    'Unnamed: 5': '2012',\n",
    "    'Unnamed: 6': '2013',\n",
    "    'Unnamed: 7': '2014',\n",
    "    'Unnamed: 8': '2015',\n",
    "    'Unnamed: 9': '2016',\n",
    "    'Unnamed: 10': '2017',\n",
    "    'Unnamed: 11': '2018',\n",
    "    'Unnamed: 12': '2019',\n",
    "}\n",
    "\n",
    "# Change all default column names\n",
    "renamed_cols_df = df_imports.rename(columns=map_cols_name)\n",
    "\n",
    "print('-------- Imports Dataframe with new cols names --------')\n",
    "display(renamed_cols_df.head(5))"
   ]
  },
  {
   "cell_type": "code",
   "execution_count": 12,
   "metadata": {},
   "outputs": [
    {
     "data": {
      "text/html": [
       "<div>\n",
       "<style scoped>\n",
       "    .dataframe tbody tr th:only-of-type {\n",
       "        vertical-align: middle;\n",
       "    }\n",
       "\n",
       "    .dataframe tbody tr th {\n",
       "        vertical-align: top;\n",
       "    }\n",
       "\n",
       "    .dataframe thead th {\n",
       "        text-align: right;\n",
       "    }\n",
       "</style>\n",
       "<table border=\"1\" class=\"dataframe\">\n",
       "  <thead>\n",
       "    <tr style=\"text-align: right;\">\n",
       "      <th></th>\n",
       "      <th>Reporting Economy</th>\n",
       "      <th>Product/Sector</th>\n",
       "      <th>Partner Economy</th>\n",
       "      <th>2010</th>\n",
       "      <th>2011</th>\n",
       "      <th>2012</th>\n",
       "      <th>2013</th>\n",
       "      <th>2014</th>\n",
       "      <th>2015</th>\n",
       "      <th>2016</th>\n",
       "      <th>2017</th>\n",
       "      <th>2018</th>\n",
       "      <th>2019</th>\n",
       "    </tr>\n",
       "  </thead>\n",
       "  <tbody>\n",
       "    <tr>\n",
       "      <th>0</th>\n",
       "      <td>Afghanistan</td>\n",
       "      <td>SI3_AGG - AG - Agricultural products</td>\n",
       "      <td>World</td>\n",
       "      <td>706.0</td>\n",
       "      <td>897.0</td>\n",
       "      <td>1248.0</td>\n",
       "      <td>1200.0</td>\n",
       "      <td>1064.0</td>\n",
       "      <td>1485.0</td>\n",
       "      <td>1539.0</td>\n",
       "      <td>1740.0</td>\n",
       "      <td>2656.0</td>\n",
       "      <td>2484.0</td>\n",
       "    </tr>\n",
       "    <tr>\n",
       "      <th>1</th>\n",
       "      <td>Afghanistan</td>\n",
       "      <td>SI3_AGG - MI - Fuels and mining products</td>\n",
       "      <td>World</td>\n",
       "      <td>1090.0</td>\n",
       "      <td>2240.0</td>\n",
       "      <td>3118.0</td>\n",
       "      <td>2999.0</td>\n",
       "      <td>2657.0</td>\n",
       "      <td>1658.0</td>\n",
       "      <td>1045.0</td>\n",
       "      <td>1181.0</td>\n",
       "      <td>1102.0</td>\n",
       "      <td>340.0</td>\n",
       "    </tr>\n",
       "    <tr>\n",
       "      <th>2</th>\n",
       "      <td>Afghanistan</td>\n",
       "      <td>SI3_AGG - MAIS - Iron and steel</td>\n",
       "      <td>World</td>\n",
       "      <td>42.0</td>\n",
       "      <td>69.0</td>\n",
       "      <td>96.0</td>\n",
       "      <td>93.0</td>\n",
       "      <td>82.0</td>\n",
       "      <td>25.0</td>\n",
       "      <td>25.0</td>\n",
       "      <td>29.0</td>\n",
       "      <td>218.0</td>\n",
       "      <td>51.0</td>\n",
       "    </tr>\n",
       "    <tr>\n",
       "      <th>3</th>\n",
       "      <td>Afghanistan</td>\n",
       "      <td>SI3_AGG - MACH - Chemicals</td>\n",
       "      <td>World</td>\n",
       "      <td>82.0</td>\n",
       "      <td>98.0</td>\n",
       "      <td>136.0</td>\n",
       "      <td>131.0</td>\n",
       "      <td>116.0</td>\n",
       "      <td>96.0</td>\n",
       "      <td>98.0</td>\n",
       "      <td>110.0</td>\n",
       "      <td>281.0</td>\n",
       "      <td>621.0</td>\n",
       "    </tr>\n",
       "    <tr>\n",
       "      <th>4</th>\n",
       "      <td>Afghanistan</td>\n",
       "      <td>SI3_AGG - MAMT - Machinery and transport equip...</td>\n",
       "      <td>World</td>\n",
       "      <td>339.0</td>\n",
       "      <td>245.0</td>\n",
       "      <td>342.0</td>\n",
       "      <td>329.0</td>\n",
       "      <td>291.0</td>\n",
       "      <td>214.0</td>\n",
       "      <td>360.0</td>\n",
       "      <td>407.0</td>\n",
       "      <td>869.0</td>\n",
       "      <td>1502.0</td>\n",
       "    </tr>\n",
       "    <tr>\n",
       "      <th>...</th>\n",
       "      <td>...</td>\n",
       "      <td>...</td>\n",
       "      <td>...</td>\n",
       "      <td>...</td>\n",
       "      <td>...</td>\n",
       "      <td>...</td>\n",
       "      <td>...</td>\n",
       "      <td>...</td>\n",
       "      <td>...</td>\n",
       "      <td>...</td>\n",
       "      <td>...</td>\n",
       "      <td>...</td>\n",
       "      <td>...</td>\n",
       "    </tr>\n",
       "    <tr>\n",
       "      <th>1282</th>\n",
       "      <td>Zimbabwe</td>\n",
       "      <td>SI3_AGG - MAIS - Iron and steel</td>\n",
       "      <td>World</td>\n",
       "      <td>105.0</td>\n",
       "      <td>160.0</td>\n",
       "      <td>149.0</td>\n",
       "      <td>138.0</td>\n",
       "      <td>147.0</td>\n",
       "      <td>141.0</td>\n",
       "      <td>137.0</td>\n",
       "      <td>119.0</td>\n",
       "      <td>173.0</td>\n",
       "      <td>144.0</td>\n",
       "    </tr>\n",
       "    <tr>\n",
       "      <th>1283</th>\n",
       "      <td>Zimbabwe</td>\n",
       "      <td>SI3_AGG - MACH - Chemicals</td>\n",
       "      <td>World</td>\n",
       "      <td>605.0</td>\n",
       "      <td>2650.0</td>\n",
       "      <td>1049.0</td>\n",
       "      <td>1850.0</td>\n",
       "      <td>1083.0</td>\n",
       "      <td>961.0</td>\n",
       "      <td>796.0</td>\n",
       "      <td>835.0</td>\n",
       "      <td>1234.0</td>\n",
       "      <td>895.0</td>\n",
       "    </tr>\n",
       "    <tr>\n",
       "      <th>1284</th>\n",
       "      <td>Zimbabwe</td>\n",
       "      <td>SI3_AGG - MAMT - Machinery and transport equip...</td>\n",
       "      <td>World</td>\n",
       "      <td>1859.0</td>\n",
       "      <td>1831.0</td>\n",
       "      <td>1911.0</td>\n",
       "      <td>1554.0</td>\n",
       "      <td>1328.0</td>\n",
       "      <td>1415.0</td>\n",
       "      <td>1147.0</td>\n",
       "      <td>1096.0</td>\n",
       "      <td>1553.0</td>\n",
       "      <td>1160.0</td>\n",
       "    </tr>\n",
       "    <tr>\n",
       "      <th>1285</th>\n",
       "      <td>Zimbabwe</td>\n",
       "      <td>SI3_AGG - MATE - Textiles</td>\n",
       "      <td>World</td>\n",
       "      <td>67.0</td>\n",
       "      <td>88.0</td>\n",
       "      <td>91.0</td>\n",
       "      <td>87.0</td>\n",
       "      <td>83.0</td>\n",
       "      <td>73.0</td>\n",
       "      <td>53.0</td>\n",
       "      <td>62.0</td>\n",
       "      <td>80.0</td>\n",
       "      <td>66.0</td>\n",
       "    </tr>\n",
       "    <tr>\n",
       "      <th>1286</th>\n",
       "      <td>Zimbabwe</td>\n",
       "      <td>SI3_AGG - MACL - Clothing</td>\n",
       "      <td>World</td>\n",
       "      <td>17.0</td>\n",
       "      <td>24.0</td>\n",
       "      <td>24.0</td>\n",
       "      <td>46.0</td>\n",
       "      <td>29.0</td>\n",
       "      <td>25.0</td>\n",
       "      <td>19.0</td>\n",
       "      <td>15.0</td>\n",
       "      <td>24.0</td>\n",
       "      <td>13.0</td>\n",
       "    </tr>\n",
       "  </tbody>\n",
       "</table>\n",
       "<p>1287 rows × 13 columns</p>\n",
       "</div>"
      ],
      "text/plain": [
       "     Reporting Economy                                     Product/Sector  \\\n",
       "0          Afghanistan               SI3_AGG - AG - Agricultural products   \n",
       "1          Afghanistan           SI3_AGG - MI - Fuels and mining products   \n",
       "2          Afghanistan                    SI3_AGG - MAIS - Iron and steel   \n",
       "3          Afghanistan                         SI3_AGG - MACH - Chemicals   \n",
       "4          Afghanistan  SI3_AGG - MAMT - Machinery and transport equip...   \n",
       "...                ...                                                ...   \n",
       "1282          Zimbabwe                    SI3_AGG - MAIS - Iron and steel   \n",
       "1283          Zimbabwe                         SI3_AGG - MACH - Chemicals   \n",
       "1284          Zimbabwe  SI3_AGG - MAMT - Machinery and transport equip...   \n",
       "1285          Zimbabwe                          SI3_AGG - MATE - Textiles   \n",
       "1286          Zimbabwe                          SI3_AGG - MACL - Clothing   \n",
       "\n",
       "     Partner Economy    2010    2011    2012    2013    2014    2015    2016  \\\n",
       "0              World   706.0   897.0  1248.0  1200.0  1064.0  1485.0  1539.0   \n",
       "1              World  1090.0  2240.0  3118.0  2999.0  2657.0  1658.0  1045.0   \n",
       "2              World    42.0    69.0    96.0    93.0    82.0    25.0    25.0   \n",
       "3              World    82.0    98.0   136.0   131.0   116.0    96.0    98.0   \n",
       "4              World   339.0   245.0   342.0   329.0   291.0   214.0   360.0   \n",
       "...              ...     ...     ...     ...     ...     ...     ...     ...   \n",
       "1282           World   105.0   160.0   149.0   138.0   147.0   141.0   137.0   \n",
       "1283           World   605.0  2650.0  1049.0  1850.0  1083.0   961.0   796.0   \n",
       "1284           World  1859.0  1831.0  1911.0  1554.0  1328.0  1415.0  1147.0   \n",
       "1285           World    67.0    88.0    91.0    87.0    83.0    73.0    53.0   \n",
       "1286           World    17.0    24.0    24.0    46.0    29.0    25.0    19.0   \n",
       "\n",
       "        2017    2018    2019  \n",
       "0     1740.0  2656.0  2484.0  \n",
       "1     1181.0  1102.0   340.0  \n",
       "2       29.0   218.0    51.0  \n",
       "3      110.0   281.0   621.0  \n",
       "4      407.0   869.0  1502.0  \n",
       "...      ...     ...     ...  \n",
       "1282   119.0   173.0   144.0  \n",
       "1283   835.0  1234.0   895.0  \n",
       "1284  1096.0  1553.0  1160.0  \n",
       "1285    62.0    80.0    66.0  \n",
       "1286    15.0    24.0    13.0  \n",
       "\n",
       "[1287 rows x 13 columns]"
      ]
     },
     "metadata": {},
     "output_type": "display_data"
    }
   ],
   "source": [
    "'''\n",
    "Remove the first 2 rows in the imports dataframe \n",
    "And also drop rows that contains the world import record and Haiti record\n",
    "'''\n",
    "drop_first_rows = renamed_cols_df.index[:2]\n",
    "drop_countries_n_world = renamed_cols_df.loc[(renamed_cols_df['Reporting Economy'] == \"Haiti\") | (renamed_cols_df['Reporting Economy'] == \"World\")]\n",
    "\n",
    "dropped_first_rows_df = renamed_cols_df.drop(drop_first_rows)\n",
    "dropped_rows_df = dropped_first_rows_df.drop(drop_countries_n_world.index, axis=0).reset_index(drop=True)\n",
    "\n",
    "display(dropped_rows_df)"
   ]
  },
  {
   "cell_type": "code",
   "execution_count": 13,
   "metadata": {},
   "outputs": [
    {
     "name": "stdout",
     "output_type": "stream",
     "text": [
      "------------ Display values in the Product/Sectors on the Import dataset columns ------------\n"
     ]
    },
    {
     "data": {
      "text/plain": [
       "SI3_AGG - AG - Agricultural products                  184\n",
       "SI3_AGG - MAIS - Iron and steel                       184\n",
       "SI3_AGG - MAMT - Machinery and transport equipment    184\n",
       "SI3_AGG - MACL - Clothing                             184\n",
       "SI3_AGG - MI - Fuels and mining products              184\n",
       "SI3_AGG - MACH - Chemicals                            184\n",
       "SI3_AGG - MATE - Textiles                             183\n",
       "Name: Product/Sector, dtype: int64"
      ]
     },
     "metadata": {},
     "output_type": "display_data"
    },
    {
     "name": "stdout",
     "output_type": "stream",
     "text": [
      "---- Final import dataframe ----\n"
     ]
    },
    {
     "data": {
      "text/html": [
       "<div>\n",
       "<style scoped>\n",
       "    .dataframe tbody tr th:only-of-type {\n",
       "        vertical-align: middle;\n",
       "    }\n",
       "\n",
       "    .dataframe tbody tr th {\n",
       "        vertical-align: top;\n",
       "    }\n",
       "\n",
       "    .dataframe thead th {\n",
       "        text-align: right;\n",
       "    }\n",
       "</style>\n",
       "<table border=\"1\" class=\"dataframe\">\n",
       "  <thead>\n",
       "    <tr style=\"text-align: right;\">\n",
       "      <th></th>\n",
       "      <th>Reporting Economy</th>\n",
       "      <th>Product/Sector</th>\n",
       "      <th>2010</th>\n",
       "      <th>2011</th>\n",
       "      <th>2012</th>\n",
       "      <th>2013</th>\n",
       "      <th>2014</th>\n",
       "      <th>2015</th>\n",
       "      <th>2016</th>\n",
       "      <th>2017</th>\n",
       "      <th>2018</th>\n",
       "      <th>2019</th>\n",
       "    </tr>\n",
       "  </thead>\n",
       "  <tbody>\n",
       "    <tr>\n",
       "      <th>0</th>\n",
       "      <td>Afghanistan</td>\n",
       "      <td>Agricultural products</td>\n",
       "      <td>706.0</td>\n",
       "      <td>897.0</td>\n",
       "      <td>1248.0</td>\n",
       "      <td>1200.0</td>\n",
       "      <td>1064.0</td>\n",
       "      <td>1485.0</td>\n",
       "      <td>1539.0</td>\n",
       "      <td>1740.0</td>\n",
       "      <td>2656.0</td>\n",
       "      <td>2484.0</td>\n",
       "    </tr>\n",
       "    <tr>\n",
       "      <th>1</th>\n",
       "      <td>Afghanistan</td>\n",
       "      <td>Fuels and mining products</td>\n",
       "      <td>1090.0</td>\n",
       "      <td>2240.0</td>\n",
       "      <td>3118.0</td>\n",
       "      <td>2999.0</td>\n",
       "      <td>2657.0</td>\n",
       "      <td>1658.0</td>\n",
       "      <td>1045.0</td>\n",
       "      <td>1181.0</td>\n",
       "      <td>1102.0</td>\n",
       "      <td>340.0</td>\n",
       "    </tr>\n",
       "    <tr>\n",
       "      <th>2</th>\n",
       "      <td>Afghanistan</td>\n",
       "      <td>Iron and steel</td>\n",
       "      <td>42.0</td>\n",
       "      <td>69.0</td>\n",
       "      <td>96.0</td>\n",
       "      <td>93.0</td>\n",
       "      <td>82.0</td>\n",
       "      <td>25.0</td>\n",
       "      <td>25.0</td>\n",
       "      <td>29.0</td>\n",
       "      <td>218.0</td>\n",
       "      <td>51.0</td>\n",
       "    </tr>\n",
       "    <tr>\n",
       "      <th>3</th>\n",
       "      <td>Afghanistan</td>\n",
       "      <td>Chemicals</td>\n",
       "      <td>82.0</td>\n",
       "      <td>98.0</td>\n",
       "      <td>136.0</td>\n",
       "      <td>131.0</td>\n",
       "      <td>116.0</td>\n",
       "      <td>96.0</td>\n",
       "      <td>98.0</td>\n",
       "      <td>110.0</td>\n",
       "      <td>281.0</td>\n",
       "      <td>621.0</td>\n",
       "    </tr>\n",
       "    <tr>\n",
       "      <th>4</th>\n",
       "      <td>Afghanistan</td>\n",
       "      <td>Machinery and transport equipment</td>\n",
       "      <td>339.0</td>\n",
       "      <td>245.0</td>\n",
       "      <td>342.0</td>\n",
       "      <td>329.0</td>\n",
       "      <td>291.0</td>\n",
       "      <td>214.0</td>\n",
       "      <td>360.0</td>\n",
       "      <td>407.0</td>\n",
       "      <td>869.0</td>\n",
       "      <td>1502.0</td>\n",
       "    </tr>\n",
       "  </tbody>\n",
       "</table>\n",
       "</div>"
      ],
      "text/plain": [
       "  Reporting Economy                     Product/Sector    2010    2011  \\\n",
       "0       Afghanistan              Agricultural products   706.0   897.0   \n",
       "1       Afghanistan          Fuels and mining products  1090.0  2240.0   \n",
       "2       Afghanistan                     Iron and steel    42.0    69.0   \n",
       "3       Afghanistan                          Chemicals    82.0    98.0   \n",
       "4       Afghanistan  Machinery and transport equipment   339.0   245.0   \n",
       "\n",
       "     2012    2013    2014    2015    2016    2017    2018    2019  \n",
       "0  1248.0  1200.0  1064.0  1485.0  1539.0  1740.0  2656.0  2484.0  \n",
       "1  3118.0  2999.0  2657.0  1658.0  1045.0  1181.0  1102.0   340.0  \n",
       "2    96.0    93.0    82.0    25.0    25.0    29.0   218.0    51.0  \n",
       "3   136.0   131.0   116.0    96.0    98.0   110.0   281.0   621.0  \n",
       "4   342.0   329.0   291.0   214.0   360.0   407.0   869.0  1502.0  "
      ]
     },
     "metadata": {},
     "output_type": "display_data"
    }
   ],
   "source": [
    "print('------------ Display values in the Product/Sectors on the Import dataset columns ------------')\n",
    "display(dropped_rows_df['Product/Sector'].value_counts())\n",
    "\n",
    "# Remove all non use coverage CODE before the last hyphen in all value in the \"Product/sector\" column\n",
    "dropped_rows_df['Product/Sector'] = dropped_rows_df['Product/Sector'].apply(lambda x: x.split('- ')[-1])\n",
    "\n",
    "# Also drop the ['Partner Economy']columns\n",
    "df_final = dropped_rows_df.drop(['Partner Economy'],axis=1)\n",
    "\n",
    "print('---- Final import dataframe ----')\n",
    "display(df_final.head())"
   ]
  },
  {
   "cell_type": "markdown",
   "metadata": {},
   "source": [
    "#### More data cleaning"
   ]
  },
  {
   "cell_type": "code",
   "execution_count": 17,
   "metadata": {},
   "outputs": [],
   "source": [
    "df_melt = df_final.copy()"
   ]
  },
  {
   "cell_type": "code",
   "execution_count": 19,
   "metadata": {},
   "outputs": [
    {
     "data": {
      "text/html": [
       "<div>\n",
       "<style scoped>\n",
       "    .dataframe tbody tr th:only-of-type {\n",
       "        vertical-align: middle;\n",
       "    }\n",
       "\n",
       "    .dataframe tbody tr th {\n",
       "        vertical-align: top;\n",
       "    }\n",
       "\n",
       "    .dataframe thead th {\n",
       "        text-align: right;\n",
       "    }\n",
       "</style>\n",
       "<table border=\"1\" class=\"dataframe\">\n",
       "  <thead>\n",
       "    <tr style=\"text-align: right;\">\n",
       "      <th></th>\n",
       "      <th>Year</th>\n",
       "      <th>Reporting Economy</th>\n",
       "      <th>Agricultural products</th>\n",
       "      <th>Chemicals</th>\n",
       "      <th>Clothing</th>\n",
       "      <th>Fuels and mining products</th>\n",
       "      <th>Iron and steel</th>\n",
       "      <th>Machinery and transport equipment</th>\n",
       "      <th>Textiles</th>\n",
       "    </tr>\n",
       "  </thead>\n",
       "  <tbody>\n",
       "    <tr>\n",
       "      <th>0</th>\n",
       "      <td>2010</td>\n",
       "      <td>Afghanistan</td>\n",
       "      <td>706.0</td>\n",
       "      <td>82.0</td>\n",
       "      <td>12.0</td>\n",
       "      <td>1090.0</td>\n",
       "      <td>42.0</td>\n",
       "      <td>339.0</td>\n",
       "      <td>118.0</td>\n",
       "    </tr>\n",
       "    <tr>\n",
       "      <th>1</th>\n",
       "      <td>2010</td>\n",
       "      <td>Albania</td>\n",
       "      <td>872.0</td>\n",
       "      <td>464.0</td>\n",
       "      <td>173.0</td>\n",
       "      <td>802.0</td>\n",
       "      <td>209.0</td>\n",
       "      <td>875.0</td>\n",
       "      <td>168.0</td>\n",
       "    </tr>\n",
       "    <tr>\n",
       "      <th>2</th>\n",
       "      <td>2010</td>\n",
       "      <td>Algeria</td>\n",
       "      <td>7350.0</td>\n",
       "      <td>4452.0</td>\n",
       "      <td>183.0</td>\n",
       "      <td>1493.0</td>\n",
       "      <td>5235.0</td>\n",
       "      <td>16716.0</td>\n",
       "      <td>351.0</td>\n",
       "    </tr>\n",
       "    <tr>\n",
       "      <th>3</th>\n",
       "      <td>2010</td>\n",
       "      <td>Angola</td>\n",
       "      <td>2882.0</td>\n",
       "      <td>963.0</td>\n",
       "      <td>127.0</td>\n",
       "      <td>3233.0</td>\n",
       "      <td>1046.0</td>\n",
       "      <td>6475.0</td>\n",
       "      <td>108.0</td>\n",
       "    </tr>\n",
       "    <tr>\n",
       "      <th>4</th>\n",
       "      <td>2010</td>\n",
       "      <td>Antigua and Barbuda</td>\n",
       "      <td>113.0</td>\n",
       "      <td>33.0</td>\n",
       "      <td>8.0</td>\n",
       "      <td>6.0</td>\n",
       "      <td>6.0</td>\n",
       "      <td>99.0</td>\n",
       "      <td>12.0</td>\n",
       "    </tr>\n",
       "  </tbody>\n",
       "</table>\n",
       "</div>"
      ],
      "text/plain": [
       "   Year    Reporting Economy  Agricultural products  Chemicals  Clothing  \\\n",
       "0  2010          Afghanistan                  706.0       82.0      12.0   \n",
       "1  2010              Albania                  872.0      464.0     173.0   \n",
       "2  2010              Algeria                 7350.0     4452.0     183.0   \n",
       "3  2010               Angola                 2882.0      963.0     127.0   \n",
       "4  2010  Antigua and Barbuda                  113.0       33.0       8.0   \n",
       "\n",
       "   Fuels and mining products  Iron and steel  \\\n",
       "0                     1090.0            42.0   \n",
       "1                      802.0           209.0   \n",
       "2                     1493.0          5235.0   \n",
       "3                     3233.0          1046.0   \n",
       "4                        6.0             6.0   \n",
       "\n",
       "   Machinery and transport equipment  Textiles  \n",
       "0                              339.0     118.0  \n",
       "1                              875.0     168.0  \n",
       "2                            16716.0     351.0  \n",
       "3                             6475.0     108.0  \n",
       "4                               99.0      12.0  "
      ]
     },
     "execution_count": 19,
     "metadata": {},
     "output_type": "execute_result"
    }
   ],
   "source": [
    "# Melt the Dataframe\n",
    "df_melt = pd.melt(frame=df_final, \n",
    "                  id_vars=['Product/Sector','Reporting Economy'], \n",
    "                  var_name='Year', \n",
    "                  value_name=\"Million US dollar\")\n",
    "\n",
    "# Reshape the dataframe using pivot_table\n",
    "reshape = df_melt.pivot_table(columns='Product/Sector',\n",
    "                             index=['Year','Reporting Economy'],\n",
    "                             values=\"Million US dollar\")\n",
    "\n",
    "# Reset the index to have a beautifull dataframe\n",
    "reshape = reshape.reset_index()\n",
    "\n",
    "# Remove Index name\n",
    "reshape = reshape.rename_axis(None, axis=1)\n",
    "\n",
    "# Display the reshape DF \n",
    "reshape.head()"
   ]
  },
  {
   "cell_type": "markdown",
   "metadata": {},
   "source": [
    "#### Treatment of Missing Values"
   ]
  },
  {
   "cell_type": "code",
   "execution_count": 20,
   "metadata": {},
   "outputs": [
    {
     "data": {
      "text/plain": [
       "Year                                 0\n",
       "Reporting Economy                    0\n",
       "Agricultural products                2\n",
       "Chemicals                            0\n",
       "Clothing                             2\n",
       "Fuels and mining products            0\n",
       "Iron and steel                       2\n",
       "Machinery and transport equipment    0\n",
       "Textiles                             4\n",
       "dtype: int64"
      ]
     },
     "execution_count": 20,
     "metadata": {},
     "output_type": "execute_result"
    }
   ],
   "source": [
    "# Checking for missing values in the import dataset\n",
    "reshape.isnull().sum()"
   ]
  },
  {
   "cell_type": "code",
   "execution_count": 21,
   "metadata": {},
   "outputs": [
    {
     "data": {
      "text/plain": [
       "(1750, 9)"
      ]
     },
     "execution_count": 21,
     "metadata": {},
     "output_type": "execute_result"
    }
   ],
   "source": [
    "reshape.shape"
   ]
  },
  {
   "cell_type": "code",
   "execution_count": 25,
   "metadata": {},
   "outputs": [
    {
     "name": "stdout",
     "output_type": "stream",
     "text": [
      "0 value\n"
     ]
    }
   ],
   "source": [
    "# check if we don't have Duplicated values in the dataframe\n",
    "print(reshape.duplicated().sum(), 'value')"
   ]
  },
  {
   "cell_type": "code",
   "execution_count": 26,
   "metadata": {},
   "outputs": [],
   "source": [
    "# Dealing with missing single value with the fillna function\n",
    "df_reshape_fill_na = reshape.fillna(0)"
   ]
  },
  {
   "cell_type": "code",
   "execution_count": 27,
   "metadata": {},
   "outputs": [
    {
     "name": "stdout",
     "output_type": "stream",
     "text": [
      "---- World import dataset ----\n"
     ]
    },
    {
     "data": {
      "text/plain": [
       "Year                                 0\n",
       "Reporting Economy                    0\n",
       "Agricultural products                0\n",
       "Chemicals                            0\n",
       "Clothing                             0\n",
       "Fuels and mining products            0\n",
       "Iron and steel                       0\n",
       "Machinery and transport equipment    0\n",
       "Textiles                             0\n",
       "dtype: int64"
      ]
     },
     "metadata": {},
     "output_type": "display_data"
    },
    {
     "name": "stdout",
     "output_type": "stream",
     "text": [
      "---------------\n"
     ]
    },
    {
     "data": {
      "text/plain": [
       "'Now all of our empty values have been successfully filled with 0'"
      ]
     },
     "metadata": {},
     "output_type": "display_data"
    }
   ],
   "source": [
    "print('---- World import dataset ----')\n",
    "display(df_reshape_fill_na.isna().sum())\n",
    "\n",
    "\n",
    "print('---------------')\n",
    "display('Now all of our empty values have been successfully filled with 0')"
   ]
  },
  {
   "cell_type": "code",
   "execution_count": 30,
   "metadata": {},
   "outputs": [
    {
     "name": "stdout",
     "output_type": "stream",
     "text": [
      "-------- old data type --------\n"
     ]
    },
    {
     "data": {
      "text/plain": [
       "Year                                  object\n",
       "Reporting Economy                     object\n",
       "Agricultural products                float64\n",
       "Chemicals                            float64\n",
       "Clothing                             float64\n",
       "Fuels and mining products            float64\n",
       "Iron and steel                       float64\n",
       "Machinery and transport equipment    float64\n",
       "Textiles                             float64\n",
       "dtype: object"
      ]
     },
     "metadata": {},
     "output_type": "display_data"
    },
    {
     "name": "stdout",
     "output_type": "stream",
     "text": [
      "-------- New import data type --------\n"
     ]
    },
    {
     "data": {
      "text/plain": [
       "Year                                 object\n",
       "Reporting Economy                    object\n",
       "Agricultural products                 int64\n",
       "Chemicals                             int64\n",
       "Clothing                              int64\n",
       "Fuels and mining products             int64\n",
       "Iron and steel                        int64\n",
       "Machinery and transport equipment     int64\n",
       "Textiles                              int64\n",
       "dtype: object"
      ]
     },
     "metadata": {},
     "output_type": "display_data"
    }
   ],
   "source": [
    "# Change data type Float --> Int\n",
    "print('-------- old data type --------')\n",
    "display(df_reshape_fill_na.dtypes)\n",
    "\n",
    "\n",
    "# Change Float type to Int (From the \"Agricultural products\" to \"Total merchandise\" columns)\n",
    "df_reshape_fill_na.iloc[:,2:] = df_reshape_fill_na.iloc[:,2:].astype(int)\n",
    "\n",
    "# Dataframe final\n",
    "df = df_reshape_fill_na\n",
    "\n",
    "print('-------- New import data type --------')\n",
    "display(df.dtypes)"
   ]
  },
  {
   "cell_type": "code",
   "execution_count": 31,
   "metadata": {},
   "outputs": [
    {
     "name": "stdout",
     "output_type": "stream",
     "text": [
      "-------- Display the final dataframe --------\n"
     ]
    },
    {
     "data": {
      "text/html": [
       "<div>\n",
       "<style scoped>\n",
       "    .dataframe tbody tr th:only-of-type {\n",
       "        vertical-align: middle;\n",
       "    }\n",
       "\n",
       "    .dataframe tbody tr th {\n",
       "        vertical-align: top;\n",
       "    }\n",
       "\n",
       "    .dataframe thead th {\n",
       "        text-align: right;\n",
       "    }\n",
       "</style>\n",
       "<table border=\"1\" class=\"dataframe\">\n",
       "  <thead>\n",
       "    <tr style=\"text-align: right;\">\n",
       "      <th></th>\n",
       "      <th>Year</th>\n",
       "      <th>Reporting Economy</th>\n",
       "      <th>Agricultural products</th>\n",
       "      <th>Chemicals</th>\n",
       "      <th>Clothing</th>\n",
       "      <th>Fuels and mining products</th>\n",
       "      <th>Iron and steel</th>\n",
       "      <th>Machinery and transport equipment</th>\n",
       "      <th>Textiles</th>\n",
       "    </tr>\n",
       "  </thead>\n",
       "  <tbody>\n",
       "    <tr>\n",
       "      <th>0</th>\n",
       "      <td>2010</td>\n",
       "      <td>Afghanistan</td>\n",
       "      <td>706</td>\n",
       "      <td>82</td>\n",
       "      <td>12</td>\n",
       "      <td>1090</td>\n",
       "      <td>42</td>\n",
       "      <td>339</td>\n",
       "      <td>118</td>\n",
       "    </tr>\n",
       "    <tr>\n",
       "      <th>1</th>\n",
       "      <td>2010</td>\n",
       "      <td>Albania</td>\n",
       "      <td>872</td>\n",
       "      <td>464</td>\n",
       "      <td>173</td>\n",
       "      <td>802</td>\n",
       "      <td>209</td>\n",
       "      <td>875</td>\n",
       "      <td>168</td>\n",
       "    </tr>\n",
       "    <tr>\n",
       "      <th>2</th>\n",
       "      <td>2010</td>\n",
       "      <td>Algeria</td>\n",
       "      <td>7350</td>\n",
       "      <td>4452</td>\n",
       "      <td>183</td>\n",
       "      <td>1493</td>\n",
       "      <td>5235</td>\n",
       "      <td>16716</td>\n",
       "      <td>351</td>\n",
       "    </tr>\n",
       "    <tr>\n",
       "      <th>3</th>\n",
       "      <td>2010</td>\n",
       "      <td>Angola</td>\n",
       "      <td>2882</td>\n",
       "      <td>963</td>\n",
       "      <td>127</td>\n",
       "      <td>3233</td>\n",
       "      <td>1046</td>\n",
       "      <td>6475</td>\n",
       "      <td>108</td>\n",
       "    </tr>\n",
       "    <tr>\n",
       "      <th>4</th>\n",
       "      <td>2010</td>\n",
       "      <td>Antigua and Barbuda</td>\n",
       "      <td>113</td>\n",
       "      <td>33</td>\n",
       "      <td>8</td>\n",
       "      <td>6</td>\n",
       "      <td>6</td>\n",
       "      <td>99</td>\n",
       "      <td>12</td>\n",
       "    </tr>\n",
       "    <tr>\n",
       "      <th>...</th>\n",
       "      <td>...</td>\n",
       "      <td>...</td>\n",
       "      <td>...</td>\n",
       "      <td>...</td>\n",
       "      <td>...</td>\n",
       "      <td>...</td>\n",
       "      <td>...</td>\n",
       "      <td>...</td>\n",
       "      <td>...</td>\n",
       "    </tr>\n",
       "    <tr>\n",
       "      <th>1745</th>\n",
       "      <td>2019</td>\n",
       "      <td>Venezuela, Bolivarian Republic of</td>\n",
       "      <td>1334</td>\n",
       "      <td>696</td>\n",
       "      <td>117</td>\n",
       "      <td>1022</td>\n",
       "      <td>63</td>\n",
       "      <td>1122</td>\n",
       "      <td>93</td>\n",
       "    </tr>\n",
       "    <tr>\n",
       "      <th>1746</th>\n",
       "      <td>2019</td>\n",
       "      <td>Viet Nam</td>\n",
       "      <td>26023</td>\n",
       "      <td>29675</td>\n",
       "      <td>932</td>\n",
       "      <td>25353</td>\n",
       "      <td>10516</td>\n",
       "      <td>108747</td>\n",
       "      <td>17284</td>\n",
       "    </tr>\n",
       "    <tr>\n",
       "      <th>1747</th>\n",
       "      <td>2019</td>\n",
       "      <td>Yemen</td>\n",
       "      <td>1871</td>\n",
       "      <td>331</td>\n",
       "      <td>60</td>\n",
       "      <td>1363</td>\n",
       "      <td>214</td>\n",
       "      <td>467</td>\n",
       "      <td>71</td>\n",
       "    </tr>\n",
       "    <tr>\n",
       "      <th>1748</th>\n",
       "      <td>2019</td>\n",
       "      <td>Zambia</td>\n",
       "      <td>570</td>\n",
       "      <td>1436</td>\n",
       "      <td>71</td>\n",
       "      <td>1624</td>\n",
       "      <td>259</td>\n",
       "      <td>2185</td>\n",
       "      <td>51</td>\n",
       "    </tr>\n",
       "    <tr>\n",
       "      <th>1749</th>\n",
       "      <td>2019</td>\n",
       "      <td>Zimbabwe</td>\n",
       "      <td>404</td>\n",
       "      <td>895</td>\n",
       "      <td>13</td>\n",
       "      <td>1502</td>\n",
       "      <td>144</td>\n",
       "      <td>1160</td>\n",
       "      <td>66</td>\n",
       "    </tr>\n",
       "  </tbody>\n",
       "</table>\n",
       "<p>1750 rows × 9 columns</p>\n",
       "</div>"
      ],
      "text/plain": [
       "      Year                  Reporting Economy  Agricultural products  \\\n",
       "0     2010                        Afghanistan                    706   \n",
       "1     2010                            Albania                    872   \n",
       "2     2010                            Algeria                   7350   \n",
       "3     2010                             Angola                   2882   \n",
       "4     2010                Antigua and Barbuda                    113   \n",
       "...    ...                                ...                    ...   \n",
       "1745  2019  Venezuela, Bolivarian Republic of                   1334   \n",
       "1746  2019                           Viet Nam                  26023   \n",
       "1747  2019                              Yemen                   1871   \n",
       "1748  2019                             Zambia                    570   \n",
       "1749  2019                           Zimbabwe                    404   \n",
       "\n",
       "      Chemicals  Clothing  Fuels and mining products  Iron and steel  \\\n",
       "0            82        12                       1090              42   \n",
       "1           464       173                        802             209   \n",
       "2          4452       183                       1493            5235   \n",
       "3           963       127                       3233            1046   \n",
       "4            33         8                          6               6   \n",
       "...         ...       ...                        ...             ...   \n",
       "1745        696       117                       1022              63   \n",
       "1746      29675       932                      25353           10516   \n",
       "1747        331        60                       1363             214   \n",
       "1748       1436        71                       1624             259   \n",
       "1749        895        13                       1502             144   \n",
       "\n",
       "      Machinery and transport equipment  Textiles  \n",
       "0                                   339       118  \n",
       "1                                   875       168  \n",
       "2                                 16716       351  \n",
       "3                                  6475       108  \n",
       "4                                    99        12  \n",
       "...                                 ...       ...  \n",
       "1745                               1122        93  \n",
       "1746                             108747     17284  \n",
       "1747                                467        71  \n",
       "1748                               2185        51  \n",
       "1749                               1160        66  \n",
       "\n",
       "[1750 rows x 9 columns]"
      ]
     },
     "metadata": {},
     "output_type": "display_data"
    },
    {
     "name": "stdout",
     "output_type": "stream",
     "text": [
      "-------- Export the final dataframe --------\n",
      "DataFrame is written to Excel File successfully...\n"
     ]
    }
   ],
   "source": [
    "print('-------- Display the final dataframe --------')\n",
    "display(df)\n",
    "\n",
    "print('-------- Export the final dataframe --------')\n",
    "file_name = 'final_dataframe_export.xlsx'\n",
    "df.to_excel(f'output/data/{file_name}', index=False)\n",
    "print('DataFrame is written to Excel File successfully...')"
   ]
  },
  {
   "cell_type": "markdown",
   "metadata": {},
   "source": [
    "# <h1 align=\"center\"> Data Analysis </h1>"
   ]
  },
  {
   "cell_type": "markdown",
   "metadata": {},
   "source": [
    "#### Descriptive Statistical Analysis"
   ]
  },
  {
   "cell_type": "code",
   "execution_count": null,
   "metadata": {},
   "outputs": [],
   "source": [
    "# basic statistical measures such as measurements of central tendancy such as mean, median and mode.\n",
    "print('------ Average ------')\n",
    "display(df.mean())\n",
    "\n",
    "print('------ Median ------')\n",
    "display(df.median())\n",
    "\n",
    "print('------ Skewness ------')\n",
    "display(df.skew())\n",
    "\n",
    "print('------ Max ------')\n",
    "display(df.max())\n",
    "\n",
    "print('------ Standard Deviation ------')\n",
    "display(df.std())"
   ]
  },
  {
   "cell_type": "code",
   "execution_count": null,
   "metadata": {},
   "outputs": [],
   "source": [
    "# Describe the dataset\n",
    "df.describe()"
   ]
  },
  {
   "cell_type": "markdown",
   "metadata": {},
   "source": [
    "#### Distribution of Variables"
   ]
  },
  {
   "cell_type": "code",
   "execution_count": null,
   "metadata": {},
   "outputs": [],
   "source": [
    "# Pairplot\n",
    "sns.pairplot(df)\n",
    "plt.show()"
   ]
  },
  {
   "cell_type": "markdown",
   "metadata": {},
   "source": [
    "####  Correlation of all variables"
   ]
  },
  {
   "cell_type": "code",
   "execution_count": null,
   "metadata": {},
   "outputs": [],
   "source": [
    "# Correlation of variables\n",
    "corr = df.corr()\n",
    "corr"
   ]
  },
  {
   "cell_type": "code",
   "execution_count": null,
   "metadata": {},
   "outputs": [],
   "source": [
    "# Heatmap for visualization\n",
    "plt.figure(figsize=(14,10))\n",
    "heatmap = sns.heatmap(corr, cmap=\"RdYlGn\", cbar=False, annot=True, linecolor='white', linewidths=2, vmin=-1, vmax=1) \n",
    "plt.title('Heatmap for the Data', fontsize = 16)\n",
    "plt.show()"
   ]
  },
  {
   "cell_type": "markdown",
   "metadata": {},
   "source": [
    "#### Outliers in the dataset"
   ]
  },
  {
   "cell_type": "markdown",
   "metadata": {},
   "source": [
    ">##### 1. Outlier detection using visualization (Boxplot)"
   ]
  },
  {
   "cell_type": "code",
   "execution_count": null,
   "metadata": {},
   "outputs": [],
   "source": [
    "# Define a function called \"plt_boxplot\"\n",
    "def plt_boxplot(df, col):\n",
    "    plt.figure(figsize=(20,4))\n",
    "    sns.boxplot(df[col])\n",
    "    plt.show()"
   ]
  },
  {
   "cell_type": "code",
   "execution_count": null,
   "metadata": {},
   "outputs": [],
   "source": [
    "df.columns"
   ]
  },
  {
   "cell_type": "code",
   "execution_count": null,
   "metadata": {},
   "outputs": [],
   "source": [
    "# Identify if there are any outliers in the dataset based on statistical measures.\n",
    "cols = df.iloc[:,2:].columns\n",
    "\n",
    "for col in cols:\n",
    "    plt_boxplot(df, col)"
   ]
  },
  {
   "cell_type": "markdown",
   "metadata": {},
   "source": [
    "**Conclusion**: as we can see in our boxplots we identified so many outliers in our data..."
   ]
  },
  {
   "cell_type": "markdown",
   "metadata": {},
   "source": [
    ">##### 2. Deal with our outliers"
   ]
  },
  {
   "cell_type": "code",
   "execution_count": null,
   "metadata": {},
   "outputs": [],
   "source": [
    "# "
   ]
  },
  {
   "cell_type": "code",
   "execution_count": null,
   "metadata": {},
   "outputs": [],
   "source": []
  },
  {
   "cell_type": "code",
   "execution_count": null,
   "metadata": {},
   "outputs": [],
   "source": []
  },
  {
   "cell_type": "code",
   "execution_count": null,
   "metadata": {},
   "outputs": [],
   "source": []
  },
  {
   "cell_type": "markdown",
   "metadata": {},
   "source": [
    "#### Analytical Transformations"
   ]
  },
  {
   "cell_type": "code",
   "execution_count": null,
   "metadata": {},
   "outputs": [],
   "source": [
    "# Review our columns\n",
    "df.columns"
   ]
  },
  {
   "cell_type": "code",
   "execution_count": null,
   "metadata": {},
   "outputs": [],
   "source": [
    "# We will drop ['Year','Reporting Economy']\n",
    "X = df.drop(['Year','Reporting Economy'], axis=1)\n",
    "y = df['Reporting Economy']\n",
    "\n",
    "'''\n",
    "Checking the shape of:\n",
    "'''\n",
    "# --> the data\n",
    "print('X:', X.shape)\n",
    "    \n",
    "# --> the target variable\n",
    "print('y:', y.shape)"
   ]
  },
  {
   "cell_type": "markdown",
   "metadata": {},
   "source": [
    ">##### Scaling the data"
   ]
  },
  {
   "cell_type": "code",
   "execution_count": null,
   "metadata": {},
   "outputs": [],
   "source": [
    "# Importing the StandardScaler & MinMaxScaler Module from Sklearn\n",
    "from sklearn.preprocessing import StandardScaler as ss, MinMaxScaler"
   ]
  },
  {
   "cell_type": "code",
   "execution_count": null,
   "metadata": {},
   "outputs": [],
   "source": [
    "# Creating object for the MinMaxScaler function\n",
    "scala = MinMaxScaler()"
   ]
  },
  {
   "cell_type": "code",
   "execution_count": null,
   "metadata": {},
   "outputs": [],
   "source": [
    "scala.fit_transform(X)\n",
    "\n",
    "scaled_array = scala.transform(X)\n",
    "scaled_array"
   ]
  },
  {
   "cell_type": "code",
   "execution_count": null,
   "metadata": {},
   "outputs": [],
   "source": [
    "# Convert the scaled array to dataframe\n",
    "X = pd.DataFrame(scaled_array, columns=list(X.columns))"
   ]
  },
  {
   "cell_type": "code",
   "execution_count": null,
   "metadata": {},
   "outputs": [],
   "source": [
    "# Display the Scale Dataframe\n",
    "display(X.head())\n",
    "display(X.shape)"
   ]
  },
  {
   "cell_type": "markdown",
   "metadata": {},
   "source": [
    ">#####  PCA: Principal Component Analysis"
   ]
  },
  {
   "cell_type": "code",
   "execution_count": null,
   "metadata": {},
   "outputs": [],
   "source": [
    "# PCA with data scaled with MinMaxScaler()\n",
    "from sklearn.decomposition import PCA\n",
    "pca = PCA(n_components= 2)"
   ]
  },
  {
   "cell_type": "code",
   "execution_count": null,
   "metadata": {},
   "outputs": [],
   "source": [
    "pca_array = pca.fit_transform(X)"
   ]
  },
  {
   "cell_type": "code",
   "execution_count": null,
   "metadata": {},
   "outputs": [],
   "source": [
    "pca_array"
   ]
  },
  {
   "cell_type": "code",
   "execution_count": null,
   "metadata": {},
   "outputs": [],
   "source": [
    "# Convert to dataframe\n",
    "df_pca = pd.DataFrame(data=pca_array, columns=['PCA1','PCA2'])"
   ]
  },
  {
   "cell_type": "code",
   "execution_count": null,
   "metadata": {},
   "outputs": [],
   "source": [
    "# Overview the data\n",
    "df_pca"
   ]
  },
  {
   "cell_type": "code",
   "execution_count": null,
   "metadata": {},
   "outputs": [],
   "source": [
    "# Visualize with scatterplot\n",
    "plt.figure(figsize=(11,6))\n",
    "sns.scatterplot(data=df_pca, x='PCA1', y='PCA2')\n",
    "plt.show()"
   ]
  },
  {
   "cell_type": "code",
   "execution_count": null,
   "metadata": {},
   "outputs": [],
   "source": []
  },
  {
   "cell_type": "markdown",
   "metadata": {},
   "source": [
    "#### Creating clusters using K-Means algorithms"
   ]
  },
  {
   "cell_type": "markdown",
   "metadata": {},
   "source": [
    ">##### 1. Find the optimal K for the cluster using Elbow method"
   ]
  },
  {
   "cell_type": "code",
   "execution_count": null,
   "metadata": {},
   "outputs": [],
   "source": [
    "# Yellowbrick\n",
    "from yellowbrick.cluster import KElbowVisualizer"
   ]
  },
  {
   "cell_type": "code",
   "execution_count": null,
   "metadata": {},
   "outputs": [],
   "source": [
    "# Yellowbrick\n",
    "model = KMeans()\n",
    "plt.figure(figsize=(16,8))\n",
    "visualizer = KElbowVisualizer(model, k=(1,12))\n",
    "visualizer.fit(X)\n",
    "visualizer.show()"
   ]
  },
  {
   "cell_type": "markdown",
   "metadata": {},
   "source": [
    "**Conclusion**: as we can see in the graph above, the KElbowVisualizer is at k=3 this means the optimal k for the dataset is 3"
   ]
  },
  {
   "cell_type": "markdown",
   "metadata": {},
   "source": [
    ">##### 2. Evaluation with the silhouette method"
   ]
  },
  {
   "cell_type": "code",
   "execution_count": null,
   "metadata": {},
   "outputs": [],
   "source": [
    "# Import Silhouette module\n",
    "from sklearn.metrics import silhouette_score,silhouette_samples"
   ]
  },
  {
   "cell_type": "code",
   "execution_count": null,
   "metadata": {},
   "outputs": [],
   "source": [
    "silh = {}\n",
    "\n",
    "for k in range(2,15):\n",
    "    km = KMeans(n_clusters=k)\n",
    "    preds = km.fit_predict(X)\n",
    "    centers = km.cluster_centers_\n",
    "    \n",
    "    silh = silhouette_score(X, preds)\n",
    "    \n",
    "    \n",
    "    print(\"For number of cluster = {}, The silhouette score is {}\".format(k, silh))"
   ]
  },
  {
   "cell_type": "markdown",
   "metadata": {},
   "source": [
    "**Conclusion**: as we can see the best cluster to use here is also 3"
   ]
  },
  {
   "cell_type": "markdown",
   "metadata": {},
   "source": [
    ">##### 3. Creating our K-Means modele"
   ]
  },
  {
   "cell_type": "code",
   "execution_count": null,
   "metadata": {},
   "outputs": [],
   "source": [
    "# init model\n",
    "k_model = KMeans(n_clusters=3)\n",
    "\n",
    "k_model.fit(X)"
   ]
  },
  {
   "cell_type": "code",
   "execution_count": null,
   "metadata": {},
   "outputs": [],
   "source": [
    "# Labels and Inertia\n",
    "\n",
    "y_kmeans = k_model.labels_\n",
    "\n",
    "print('Labels:',k_model.labels_)\n",
    "print('Inertia:',k_model.inertia_)"
   ]
  },
  {
   "cell_type": "code",
   "execution_count": null,
   "metadata": {},
   "outputs": [],
   "source": [
    "# Centroid/Cluster Centers\n",
    "centroids = k_model.cluster_centers_\n",
    "print('Labels:', centroids)"
   ]
  },
  {
   "cell_type": "code",
   "execution_count": null,
   "metadata": {},
   "outputs": [],
   "source": [
    "# Add the labels to the dataframe\n",
    "X['Labels_Clusters'] = y_kmeans\n",
    "X['Labels_Clusters'].value_counts()"
   ]
  },
  {
   "cell_type": "markdown",
   "metadata": {},
   "source": [
    ">##### 3. Visualizing the clusters"
   ]
  },
  {
   "cell_type": "code",
   "execution_count": null,
   "metadata": {},
   "outputs": [],
   "source": [
    "X"
   ]
  },
  {
   "cell_type": "code",
   "execution_count": null,
   "metadata": {},
   "outputs": [],
   "source": []
  },
  {
   "cell_type": "markdown",
   "metadata": {},
   "source": [
    "<br><br>"
   ]
  },
  {
   "cell_type": "markdown",
   "metadata": {},
   "source": [
    "<h1 align=\"center\"> Reflections </h1>"
   ]
  },
  {
   "cell_type": "markdown",
   "metadata": {},
   "source": [
    "#### Summary of Data Analysis"
   ]
  },
  {
   "cell_type": "markdown",
   "metadata": {},
   "source": [
    ">##### Total Products imported by countries from 2010 to 2019"
   ]
  },
  {
   "cell_type": "code",
   "execution_count": null,
   "metadata": {},
   "outputs": [],
   "source": [
    "# Reviews the cleaned df\n",
    "df.head(3)"
   ]
  },
  {
   "cell_type": "code",
   "execution_count": null,
   "metadata": {},
   "outputs": [],
   "source": [
    "# Calculate the total imported per countries & Per Year products\n",
    "df['Total'] = df.iloc[:,2:].sum(axis=1)"
   ]
  },
  {
   "cell_type": "code",
   "execution_count": null,
   "metadata": {},
   "outputs": [],
   "source": [
    "# The Dataframe with the new ['Total'] column\n",
    "df.tail(2)"
   ]
  },
  {
   "cell_type": "code",
   "execution_count": null,
   "metadata": {},
   "outputs": [],
   "source": [
    "# GroupBy Years\n",
    "gb_y = df.groupby(by='Year')\n",
    "gb_y.sum()"
   ]
  },
  {
   "cell_type": "code",
   "execution_count": null,
   "metadata": {},
   "outputs": [],
   "source": [
    "gb_total = df.groupby(by=['Year', 'Reporting Economy']).sum()\n",
    "gb_total"
   ]
  },
  {
   "cell_type": "code",
   "execution_count": null,
   "metadata": {},
   "outputs": [],
   "source": [
    "# Display a graph to show more details\n",
    "gb_total = df.groupby(by='Reporting Economy').sum()"
   ]
  },
  {
   "cell_type": "code",
   "execution_count": null,
   "metadata": {},
   "outputs": [],
   "source": []
  },
  {
   "cell_type": "code",
   "execution_count": null,
   "metadata": {},
   "outputs": [],
   "source": []
  },
  {
   "cell_type": "code",
   "execution_count": null,
   "metadata": {},
   "outputs": [],
   "source": [
    "# Figure 1\n",
    "plt.figure(figsize=(16,7))\n",
    "\n",
    "sns.lineplot(x ='Year', y='Agricultural products', data=df)\n",
    "plt.show()"
   ]
  },
  {
   "cell_type": "code",
   "execution_count": null,
   "metadata": {},
   "outputs": [],
   "source": [
    "# Figure 2\n"
   ]
  },
  {
   "cell_type": "markdown",
   "metadata": {},
   "source": [
    "#### Questions unanswered"
   ]
  },
  {
   "cell_type": "code",
   "execution_count": null,
   "metadata": {},
   "outputs": [],
   "source": [
    "# What aspects of the research question were we unable to answer and why?"
   ]
  },
  {
   "cell_type": "code",
   "execution_count": null,
   "metadata": {},
   "outputs": [],
   "source": [
    "# Ki pi bon ko"
   ]
  },
  {
   "cell_type": "code",
   "execution_count": null,
   "metadata": {},
   "outputs": [],
   "source": []
  },
  {
   "cell_type": "code",
   "execution_count": null,
   "metadata": {},
   "outputs": [],
   "source": []
  },
  {
   "cell_type": "markdown",
   "metadata": {},
   "source": [
    "#### Recommendations"
   ]
  },
  {
   "cell_type": "code",
   "execution_count": null,
   "metadata": {},
   "outputs": [],
   "source": [
    "# Identify if there are any outliers in the dataset based on statistical measures."
   ]
  },
  {
   "cell_type": "code",
   "execution_count": null,
   "metadata": {},
   "outputs": [],
   "source": []
  },
  {
   "cell_type": "code",
   "execution_count": null,
   "metadata": {},
   "outputs": [],
   "source": []
  },
  {
   "cell_type": "markdown",
   "metadata": {},
   "source": [
    "#### Next Steps"
   ]
  },
  {
   "cell_type": "code",
   "execution_count": null,
   "metadata": {},
   "outputs": [],
   "source": [
    "# What will the analyst do next based on the analysis?"
   ]
  },
  {
   "cell_type": "code",
   "execution_count": null,
   "metadata": {},
   "outputs": [],
   "source": []
  },
  {
   "cell_type": "code",
   "execution_count": null,
   "metadata": {},
   "outputs": [],
   "source": []
  }
 ],
 "metadata": {
  "interpreter": {
   "hash": "aee8b7b246df8f9039afb4144a1f6fd8d2ca17a180786b69acc140d282b71a49"
  },
  "kernelspec": {
   "display_name": "Python 3",
   "language": "python",
   "name": "python3"
  },
  "language_info": {
   "codemirror_mode": {
    "name": "ipython",
    "version": 3
   },
   "file_extension": ".py",
   "mimetype": "text/x-python",
   "name": "python",
   "nbconvert_exporter": "python",
   "pygments_lexer": "ipython3",
   "version": "3.8.5"
  }
 },
 "nbformat": 4,
 "nbformat_minor": 4
}
