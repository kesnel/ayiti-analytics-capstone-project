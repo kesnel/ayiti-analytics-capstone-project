{
 "cells": [
  {
   "cell_type": "markdown",
   "metadata": {},
   "source": [
    "<h1 align=\"center\"> Project Setup </h1>"
   ]
  },
  {
   "cell_type": "markdown",
   "metadata": {},
   "source": [
    "#### Install all requirements for the project"
   ]
  },
  {
   "cell_type": "code",
   "execution_count": 1,
   "metadata": {},
   "outputs": [
    {
     "name": "stdout",
     "output_type": "stream",
     "text": [
      "--- Upgrading pip ---\n",
      "Requirement already satisfied: pip in /Users/kesnel/opt/anaconda3/lib/python3.8/site-packages (21.2.4)\n",
      "--- Cheking pip version ---\n",
      "pip 21.2.4 from /Users/kesnel/opt/anaconda3/lib/python3.8/site-packages/pip (python 3.8)\n"
     ]
    }
   ],
   "source": [
    "print('--- Upgrading pip ---')\n",
    "!pip install --upgrade pip\n",
    "print('--- Cheking pip version ---')\n",
    "!pip --version"
   ]
  },
  {
   "cell_type": "markdown",
   "metadata": {},
   "source": [
    "#### Importing Dependencies"
   ]
  },
  {
   "cell_type": "code",
   "execution_count": 2,
   "metadata": {},
   "outputs": [],
   "source": [
    "import os\n",
    "import sys\n",
    "\n",
    "import numpy as np\n",
    "import pandas as pd\n",
    "import matplotlib.pyplot as plt\n",
    "import seaborn as sns\n",
    "\n",
    "from sklearn.cluster import KMeans"
   ]
  },
  {
   "cell_type": "markdown",
   "metadata": {},
   "source": [
    "#### Importing Datasets"
   ]
  },
  {
   "cell_type": "code",
   "execution_count": 3,
   "metadata": {},
   "outputs": [],
   "source": [
    "# Display all columns in the DataFrame using pandas settings\n",
    "pd.set_option('display.max_columns', None)"
   ]
  },
  {
   "cell_type": "code",
   "execution_count": 11,
   "metadata": {},
   "outputs": [],
   "source": [
    "df_imports = pd.read_excel('data/WtoData_worldwide_import_from_2010_to_2022.xlsx')"
   ]
  },
  {
   "cell_type": "markdown",
   "metadata": {},
   "source": [
    "<br><br>"
   ]
  },
  {
   "cell_type": "markdown",
   "metadata": {},
   "source": [
    "<h1 align=\"center\"> Summary</h1>"
   ]
  },
  {
   "cell_type": "markdown",
   "metadata": {},
   "source": [
    "### Objective"
   ]
  },
  {
   "cell_type": "markdown",
   "metadata": {},
   "source": [
    "This project focuses on how the country will be able to know the right market to export their products. This will allow the country to get a good guide on foreign trade, and know which countries have High demand in different sectors, especially agricultural products.\n",
    "\n",
    "The specific objectives of this project are:\n",
    "1. Analyzethedatasetthatwearegoingtocollecttobetterunderstandandgive\n",
    "some insight on the international trade\n",
    "2. ChoosethebestplacewiththeHighdemandforagriculturalproductssothat Haiti can promote and sell its products"
   ]
  },
  {
   "cell_type": "markdown",
   "metadata": {},
   "source": [
    "<hr>"
   ]
  },
  {
   "cell_type": "markdown",
   "metadata": {},
   "source": [
    "### Hypothesis: Research Question?"
   ]
  },
  {
   "cell_type": "markdown",
   "metadata": {},
   "source": [
    "What is the question that you would like to answer in order to make a decision."
   ]
  },
  {
   "cell_type": "markdown",
   "metadata": {},
   "source": [
    "<hr>"
   ]
  },
  {
   "cell_type": "markdown",
   "metadata": {},
   "source": [
    "### Data Source"
   ]
  },
  {
   "cell_type": "markdown",
   "metadata": {},
   "source": [
    "For this project we will be using the World Trade Organization(WTO) data portal to have access to. The WTO Data portal contains statistical indicators, Available time series cover merchandise trade and trade in services statistics, market access indicators (bound, applied & preferential tariffs), non-tariff information as well as other indicators."
   ]
  },
  {
   "cell_type": "markdown",
   "metadata": {},
   "source": [
    "<br><br>"
   ]
  },
  {
   "cell_type": "markdown",
   "metadata": {},
   "source": [
    "<h1 align=\"center\"> Data Cleaning </h1>"
   ]
  },
  {
   "cell_type": "markdown",
   "metadata": {},
   "source": [
    "#### Data Overview"
   ]
  },
  {
   "cell_type": "code",
   "execution_count": 13,
   "metadata": {},
   "outputs": [
    {
     "name": "stdout",
     "output_type": "stream",
     "text": [
      "------ Imports Dataset ------\n"
     ]
    },
    {
     "data": {
      "text/html": [
       "<div>\n",
       "<style scoped>\n",
       "    .dataframe tbody tr th:only-of-type {\n",
       "        vertical-align: middle;\n",
       "    }\n",
       "\n",
       "    .dataframe tbody tr th {\n",
       "        vertical-align: top;\n",
       "    }\n",
       "\n",
       "    .dataframe thead th {\n",
       "        text-align: right;\n",
       "    }\n",
       "</style>\n",
       "<table border=\"1\" class=\"dataframe\">\n",
       "  <thead>\n",
       "    <tr style=\"text-align: right;\">\n",
       "      <th></th>\n",
       "      <th>Indicator</th>\n",
       "      <th>Merchandise imports by product group – annual (Million US dollar)</th>\n",
       "      <th>Unnamed: 2</th>\n",
       "      <th>Unnamed: 3</th>\n",
       "      <th>Unnamed: 4</th>\n",
       "      <th>Unnamed: 5</th>\n",
       "      <th>Unnamed: 6</th>\n",
       "      <th>Unnamed: 7</th>\n",
       "      <th>Unnamed: 8</th>\n",
       "      <th>Unnamed: 9</th>\n",
       "      <th>Unnamed: 10</th>\n",
       "      <th>Unnamed: 11</th>\n",
       "      <th>Unnamed: 12</th>\n",
       "      <th>Unnamed: 13</th>\n",
       "    </tr>\n",
       "  </thead>\n",
       "  <tbody>\n",
       "    <tr>\n",
       "      <th>0</th>\n",
       "      <td>NaN</td>\n",
       "      <td>NaN</td>\n",
       "      <td>NaN</td>\n",
       "      <td>NaN</td>\n",
       "      <td>NaN</td>\n",
       "      <td>NaN</td>\n",
       "      <td>NaN</td>\n",
       "      <td>NaN</td>\n",
       "      <td>NaN</td>\n",
       "      <td>NaN</td>\n",
       "      <td>NaN</td>\n",
       "      <td>NaN</td>\n",
       "      <td>NaN</td>\n",
       "      <td>NaN</td>\n",
       "    </tr>\n",
       "    <tr>\n",
       "      <th>1</th>\n",
       "      <td>Reporting Economy</td>\n",
       "      <td>Product/Sector</td>\n",
       "      <td>Partner Economy</td>\n",
       "      <td>2010.0</td>\n",
       "      <td>2011.0</td>\n",
       "      <td>2012.0</td>\n",
       "      <td>2013.0</td>\n",
       "      <td>2014.0</td>\n",
       "      <td>2015.0</td>\n",
       "      <td>2016.0</td>\n",
       "      <td>2017.0</td>\n",
       "      <td>2018.0</td>\n",
       "      <td>2019.0</td>\n",
       "      <td>2020.0</td>\n",
       "    </tr>\n",
       "    <tr>\n",
       "      <th>2</th>\n",
       "      <td>World</td>\n",
       "      <td>SI3_AGG - TO - Total merchandise</td>\n",
       "      <td>World</td>\n",
       "      <td>15438092.0</td>\n",
       "      <td>18438364.0</td>\n",
       "      <td>18657296.0</td>\n",
       "      <td>18966119.0</td>\n",
       "      <td>19060809.0</td>\n",
       "      <td>16733507.0</td>\n",
       "      <td>16211194.0</td>\n",
       "      <td>17985896.0</td>\n",
       "      <td>19836342.0</td>\n",
       "      <td>19284167.0</td>\n",
       "      <td>17812107.0</td>\n",
       "    </tr>\n",
       "    <tr>\n",
       "      <th>3</th>\n",
       "      <td>World</td>\n",
       "      <td>SI3_AGG - AG - Agricultural products</td>\n",
       "      <td>World</td>\n",
       "      <td>1391529.0</td>\n",
       "      <td>1701893.0</td>\n",
       "      <td>1681611.0</td>\n",
       "      <td>1756648.0</td>\n",
       "      <td>1798003.0</td>\n",
       "      <td>1594510.0</td>\n",
       "      <td>1599989.0</td>\n",
       "      <td>1759978.0</td>\n",
       "      <td>1851346.0</td>\n",
       "      <td>1823105.0</td>\n",
       "      <td>NaN</td>\n",
       "    </tr>\n",
       "  </tbody>\n",
       "</table>\n",
       "</div>"
      ],
      "text/plain": [
       "           Indicator  \\\n",
       "0                NaN   \n",
       "1  Reporting Economy   \n",
       "2              World   \n",
       "3              World   \n",
       "\n",
       "    Merchandise imports by product group – annual (Million US dollar)  \\\n",
       "0                                                NaN                    \n",
       "1                                     Product/Sector                    \n",
       "2                   SI3_AGG - TO - Total merchandise                    \n",
       "3               SI3_AGG - AG - Agricultural products                    \n",
       "\n",
       "        Unnamed: 2  Unnamed: 3  Unnamed: 4  Unnamed: 5  Unnamed: 6  \\\n",
       "0              NaN         NaN         NaN         NaN         NaN   \n",
       "1  Partner Economy      2010.0      2011.0      2012.0      2013.0   \n",
       "2            World  15438092.0  18438364.0  18657296.0  18966119.0   \n",
       "3            World   1391529.0   1701893.0   1681611.0   1756648.0   \n",
       "\n",
       "   Unnamed: 7  Unnamed: 8  Unnamed: 9  Unnamed: 10  Unnamed: 11  Unnamed: 12  \\\n",
       "0         NaN         NaN         NaN          NaN          NaN          NaN   \n",
       "1      2014.0      2015.0      2016.0       2017.0       2018.0       2019.0   \n",
       "2  19060809.0  16733507.0  16211194.0   17985896.0   19836342.0   19284167.0   \n",
       "3   1798003.0   1594510.0   1599989.0    1759978.0    1851346.0    1823105.0   \n",
       "\n",
       "   Unnamed: 13  \n",
       "0          NaN  \n",
       "1       2020.0  \n",
       "2   17812107.0  \n",
       "3          NaN  "
      ]
     },
     "metadata": {},
     "output_type": "display_data"
    }
   ],
   "source": [
    "# Displaying the dataframe\n",
    "print('------ Imports Dataset ------')\n",
    "display(df_imports.head(4))"
   ]
  },
  {
   "cell_type": "code",
   "execution_count": 14,
   "metadata": {},
   "outputs": [
    {
     "name": "stdout",
     "output_type": "stream",
     "text": [
      "------------------------------ Dataset Shape ------------------------------\n",
      "The Imports dataset has 3461 Rows and 14 columns\n",
      "------------------------------ Imports dataset Columns ------------------------------\n"
     ]
    },
    {
     "data": {
      "text/plain": [
       "Index(['Indicator',\n",
       "       '  Merchandise imports by product group – annual (Million US dollar)',\n",
       "       'Unnamed: 2', 'Unnamed: 3', 'Unnamed: 4', 'Unnamed: 5', 'Unnamed: 6',\n",
       "       'Unnamed: 7', 'Unnamed: 8', 'Unnamed: 9', 'Unnamed: 10', 'Unnamed: 11',\n",
       "       'Unnamed: 12', 'Unnamed: 13'],\n",
       "      dtype='object')"
      ]
     },
     "metadata": {},
     "output_type": "display_data"
    },
    {
     "name": "stdout",
     "output_type": "stream",
     "text": [
      "------------------------------ Imports Data types ------------------------------\n"
     ]
    },
    {
     "data": {
      "text/plain": [
       "Indicator                                                               object\n",
       "  Merchandise imports by product group – annual (Million US dollar)     object\n",
       "Unnamed: 2                                                              object\n",
       "Unnamed: 3                                                             float64\n",
       "Unnamed: 4                                                             float64\n",
       "Unnamed: 5                                                             float64\n",
       "Unnamed: 6                                                             float64\n",
       "Unnamed: 7                                                             float64\n",
       "Unnamed: 8                                                             float64\n",
       "Unnamed: 9                                                             float64\n",
       "Unnamed: 10                                                            float64\n",
       "Unnamed: 11                                                            float64\n",
       "Unnamed: 12                                                            float64\n",
       "Unnamed: 13                                                            float64\n",
       "dtype: object"
      ]
     },
     "metadata": {},
     "output_type": "display_data"
    },
    {
     "name": "stdout",
     "output_type": "stream",
     "text": [
      "------------------------------ Imports dataframe info ------------------------------\n",
      "<class 'pandas.core.frame.DataFrame'>\n",
      "RangeIndex: 3461 entries, 0 to 3460\n",
      "Data columns (total 14 columns):\n",
      " #   Column                                                               Non-Null Count  Dtype  \n",
      "---  ------                                                               --------------  -----  \n",
      " 0   Indicator                                                            3460 non-null   object \n",
      " 1     Merchandise imports by product group – annual (Million US dollar)  3460 non-null   object \n",
      " 2   Unnamed: 2                                                           3460 non-null   object \n",
      " 3   Unnamed: 3                                                           3313 non-null   float64\n",
      " 4   Unnamed: 4                                                           3349 non-null   float64\n",
      " 5   Unnamed: 5                                                           3303 non-null   float64\n",
      " 6   Unnamed: 6                                                           3283 non-null   float64\n",
      " 7   Unnamed: 7                                                           3272 non-null   float64\n",
      " 8   Unnamed: 8                                                           3288 non-null   float64\n",
      " 9   Unnamed: 9                                                           3274 non-null   float64\n",
      " 10  Unnamed: 10                                                          3307 non-null   float64\n",
      " 11  Unnamed: 11                                                          3308 non-null   float64\n",
      " 12  Unnamed: 12                                                          3308 non-null   float64\n",
      " 13  Unnamed: 13                                                          261 non-null    float64\n",
      "dtypes: float64(11), object(3)\n",
      "memory usage: 378.7+ KB\n"
     ]
    },
    {
     "data": {
      "text/plain": [
       "None"
      ]
     },
     "metadata": {},
     "output_type": "display_data"
    },
    {
     "name": "stdout",
     "output_type": "stream",
     "text": [
      "------------------------------ Imports dataframe info ------------------------------\n"
     ]
    },
    {
     "data": {
      "text/html": [
       "<div>\n",
       "<style scoped>\n",
       "    .dataframe tbody tr th:only-of-type {\n",
       "        vertical-align: middle;\n",
       "    }\n",
       "\n",
       "    .dataframe tbody tr th {\n",
       "        vertical-align: top;\n",
       "    }\n",
       "\n",
       "    .dataframe thead th {\n",
       "        text-align: right;\n",
       "    }\n",
       "</style>\n",
       "<table border=\"1\" class=\"dataframe\">\n",
       "  <thead>\n",
       "    <tr style=\"text-align: right;\">\n",
       "      <th></th>\n",
       "      <th>Unnamed: 3</th>\n",
       "      <th>Unnamed: 4</th>\n",
       "      <th>Unnamed: 5</th>\n",
       "      <th>Unnamed: 6</th>\n",
       "      <th>Unnamed: 7</th>\n",
       "      <th>Unnamed: 8</th>\n",
       "      <th>Unnamed: 9</th>\n",
       "      <th>Unnamed: 10</th>\n",
       "      <th>Unnamed: 11</th>\n",
       "      <th>Unnamed: 12</th>\n",
       "      <th>Unnamed: 13</th>\n",
       "    </tr>\n",
       "  </thead>\n",
       "  <tbody>\n",
       "    <tr>\n",
       "      <th>count</th>\n",
       "      <td>3.313000e+03</td>\n",
       "      <td>3.349000e+03</td>\n",
       "      <td>3.303000e+03</td>\n",
       "      <td>3.283000e+03</td>\n",
       "      <td>3.272000e+03</td>\n",
       "      <td>3.288000e+03</td>\n",
       "      <td>3.274000e+03</td>\n",
       "      <td>3.307000e+03</td>\n",
       "      <td>3.308000e+03</td>\n",
       "      <td>3.308000e+03</td>\n",
       "      <td>2.610000e+02</td>\n",
       "    </tr>\n",
       "    <tr>\n",
       "      <th>mean</th>\n",
       "      <td>6.058404e+04</td>\n",
       "      <td>7.107347e+04</td>\n",
       "      <td>7.200046e+04</td>\n",
       "      <td>7.383176e+04</td>\n",
       "      <td>7.479535e+04</td>\n",
       "      <td>6.536848e+04</td>\n",
       "      <td>6.404206e+04</td>\n",
       "      <td>7.071302e+04</td>\n",
       "      <td>7.807287e+04</td>\n",
       "      <td>7.583848e+04</td>\n",
       "      <td>5.011247e+05</td>\n",
       "    </tr>\n",
       "    <tr>\n",
       "      <th>std</th>\n",
       "      <td>5.523083e+05</td>\n",
       "      <td>6.535578e+05</td>\n",
       "      <td>6.604516e+05</td>\n",
       "      <td>6.741555e+05</td>\n",
       "      <td>6.811720e+05</td>\n",
       "      <td>6.004346e+05</td>\n",
       "      <td>5.867944e+05</td>\n",
       "      <td>6.484204e+05</td>\n",
       "      <td>7.143228e+05</td>\n",
       "      <td>6.946708e+05</td>\n",
       "      <td>1.994239e+06</td>\n",
       "    </tr>\n",
       "    <tr>\n",
       "      <th>min</th>\n",
       "      <td>0.000000e+00</td>\n",
       "      <td>0.000000e+00</td>\n",
       "      <td>0.000000e+00</td>\n",
       "      <td>0.000000e+00</td>\n",
       "      <td>0.000000e+00</td>\n",
       "      <td>0.000000e+00</td>\n",
       "      <td>0.000000e+00</td>\n",
       "      <td>0.000000e+00</td>\n",
       "      <td>0.000000e+00</td>\n",
       "      <td>0.000000e+00</td>\n",
       "      <td>0.000000e+00</td>\n",
       "    </tr>\n",
       "    <tr>\n",
       "      <th>25%</th>\n",
       "      <td>1.190000e+02</td>\n",
       "      <td>1.310000e+02</td>\n",
       "      <td>1.420000e+02</td>\n",
       "      <td>1.540000e+02</td>\n",
       "      <td>1.677500e+02</td>\n",
       "      <td>1.527500e+02</td>\n",
       "      <td>1.630000e+02</td>\n",
       "      <td>1.785000e+02</td>\n",
       "      <td>1.907500e+02</td>\n",
       "      <td>1.917500e+02</td>\n",
       "      <td>2.458000e+03</td>\n",
       "    </tr>\n",
       "    <tr>\n",
       "      <th>50%</th>\n",
       "      <td>8.840000e+02</td>\n",
       "      <td>1.022000e+03</td>\n",
       "      <td>1.092000e+03</td>\n",
       "      <td>1.158000e+03</td>\n",
       "      <td>1.241500e+03</td>\n",
       "      <td>1.119000e+03</td>\n",
       "      <td>1.081000e+03</td>\n",
       "      <td>1.151000e+03</td>\n",
       "      <td>1.308000e+03</td>\n",
       "      <td>1.290500e+03</td>\n",
       "      <td>1.479600e+04</td>\n",
       "    </tr>\n",
       "    <tr>\n",
       "      <th>75%</th>\n",
       "      <td>6.461000e+03</td>\n",
       "      <td>7.529000e+03</td>\n",
       "      <td>8.006500e+03</td>\n",
       "      <td>8.368500e+03</td>\n",
       "      <td>8.515500e+03</td>\n",
       "      <td>7.243250e+03</td>\n",
       "      <td>6.934250e+03</td>\n",
       "      <td>7.720500e+03</td>\n",
       "      <td>8.520750e+03</td>\n",
       "      <td>8.158000e+03</td>\n",
       "      <td>1.529940e+05</td>\n",
       "    </tr>\n",
       "    <tr>\n",
       "      <th>max</th>\n",
       "      <td>1.543809e+07</td>\n",
       "      <td>1.843836e+07</td>\n",
       "      <td>1.865730e+07</td>\n",
       "      <td>1.896612e+07</td>\n",
       "      <td>1.906081e+07</td>\n",
       "      <td>1.673351e+07</td>\n",
       "      <td>1.621119e+07</td>\n",
       "      <td>1.798590e+07</td>\n",
       "      <td>1.983634e+07</td>\n",
       "      <td>1.928417e+07</td>\n",
       "      <td>1.781211e+07</td>\n",
       "    </tr>\n",
       "  </tbody>\n",
       "</table>\n",
       "</div>"
      ],
      "text/plain": [
       "         Unnamed: 3    Unnamed: 4    Unnamed: 5    Unnamed: 6    Unnamed: 7  \\\n",
       "count  3.313000e+03  3.349000e+03  3.303000e+03  3.283000e+03  3.272000e+03   \n",
       "mean   6.058404e+04  7.107347e+04  7.200046e+04  7.383176e+04  7.479535e+04   \n",
       "std    5.523083e+05  6.535578e+05  6.604516e+05  6.741555e+05  6.811720e+05   \n",
       "min    0.000000e+00  0.000000e+00  0.000000e+00  0.000000e+00  0.000000e+00   \n",
       "25%    1.190000e+02  1.310000e+02  1.420000e+02  1.540000e+02  1.677500e+02   \n",
       "50%    8.840000e+02  1.022000e+03  1.092000e+03  1.158000e+03  1.241500e+03   \n",
       "75%    6.461000e+03  7.529000e+03  8.006500e+03  8.368500e+03  8.515500e+03   \n",
       "max    1.543809e+07  1.843836e+07  1.865730e+07  1.896612e+07  1.906081e+07   \n",
       "\n",
       "         Unnamed: 8    Unnamed: 9   Unnamed: 10   Unnamed: 11   Unnamed: 12  \\\n",
       "count  3.288000e+03  3.274000e+03  3.307000e+03  3.308000e+03  3.308000e+03   \n",
       "mean   6.536848e+04  6.404206e+04  7.071302e+04  7.807287e+04  7.583848e+04   \n",
       "std    6.004346e+05  5.867944e+05  6.484204e+05  7.143228e+05  6.946708e+05   \n",
       "min    0.000000e+00  0.000000e+00  0.000000e+00  0.000000e+00  0.000000e+00   \n",
       "25%    1.527500e+02  1.630000e+02  1.785000e+02  1.907500e+02  1.917500e+02   \n",
       "50%    1.119000e+03  1.081000e+03  1.151000e+03  1.308000e+03  1.290500e+03   \n",
       "75%    7.243250e+03  6.934250e+03  7.720500e+03  8.520750e+03  8.158000e+03   \n",
       "max    1.673351e+07  1.621119e+07  1.798590e+07  1.983634e+07  1.928417e+07   \n",
       "\n",
       "        Unnamed: 13  \n",
       "count  2.610000e+02  \n",
       "mean   5.011247e+05  \n",
       "std    1.994239e+06  \n",
       "min    0.000000e+00  \n",
       "25%    2.458000e+03  \n",
       "50%    1.479600e+04  \n",
       "75%    1.529940e+05  \n",
       "max    1.781211e+07  "
      ]
     },
     "metadata": {},
     "output_type": "display_data"
    }
   ],
   "source": [
    "print('------------------------------ Dataset Shape ------------------------------')\n",
    "print('The Imports dataset has',df_imports.shape[0], 'Rows and', df_imports.shape[1],'columns')\n",
    "\n",
    "print('------------------------------ Imports dataset Columns ------------------------------')\n",
    "display(df_imports.columns)\n",
    "\n",
    "print('------------------------------ Imports Data types ------------------------------')\n",
    "display(df_imports.dtypes)\n",
    "\n",
    "print('------------------------------ Imports dataframe info ------------------------------')\n",
    "display(df_imports.info())\n",
    "\n",
    "print('------------------------------ Imports dataframe info ------------------------------')\n",
    "display(df_imports.describe())"
   ]
  },
  {
   "cell_type": "code",
   "execution_count": 15,
   "metadata": {},
   "outputs": [
    {
     "name": "stdout",
     "output_type": "stream",
     "text": [
      "-------- Default column names --------\n"
     ]
    },
    {
     "data": {
      "text/plain": [
       "Index(['Indicator',\n",
       "       '  Merchandise imports by product group – annual (Million US dollar)',\n",
       "       'Unnamed: 2', 'Unnamed: 3', 'Unnamed: 4', 'Unnamed: 5', 'Unnamed: 6',\n",
       "       'Unnamed: 7', 'Unnamed: 8', 'Unnamed: 9', 'Unnamed: 10', 'Unnamed: 11',\n",
       "       'Unnamed: 12', 'Unnamed: 13'],\n",
       "      dtype='object')"
      ]
     },
     "metadata": {},
     "output_type": "display_data"
    },
    {
     "name": "stdout",
     "output_type": "stream",
     "text": [
      "-------- With new column names --------\n"
     ]
    },
    {
     "data": {
      "text/html": [
       "<div>\n",
       "<style scoped>\n",
       "    .dataframe tbody tr th:only-of-type {\n",
       "        vertical-align: middle;\n",
       "    }\n",
       "\n",
       "    .dataframe tbody tr th {\n",
       "        vertical-align: top;\n",
       "    }\n",
       "\n",
       "    .dataframe thead th {\n",
       "        text-align: right;\n",
       "    }\n",
       "</style>\n",
       "<table border=\"1\" class=\"dataframe\">\n",
       "  <thead>\n",
       "    <tr style=\"text-align: right;\">\n",
       "      <th></th>\n",
       "      <th>Reporting Economy</th>\n",
       "      <th>Product/Sector</th>\n",
       "      <th>Partner Economy</th>\n",
       "      <th>2010</th>\n",
       "      <th>2011</th>\n",
       "      <th>2012</th>\n",
       "      <th>2013</th>\n",
       "      <th>2014</th>\n",
       "      <th>2015</th>\n",
       "      <th>2016</th>\n",
       "      <th>2017</th>\n",
       "      <th>2018</th>\n",
       "      <th>2019</th>\n",
       "      <th>2020</th>\n",
       "    </tr>\n",
       "  </thead>\n",
       "  <tbody>\n",
       "    <tr>\n",
       "      <th>0</th>\n",
       "      <td>NaN</td>\n",
       "      <td>NaN</td>\n",
       "      <td>NaN</td>\n",
       "      <td>NaN</td>\n",
       "      <td>NaN</td>\n",
       "      <td>NaN</td>\n",
       "      <td>NaN</td>\n",
       "      <td>NaN</td>\n",
       "      <td>NaN</td>\n",
       "      <td>NaN</td>\n",
       "      <td>NaN</td>\n",
       "      <td>NaN</td>\n",
       "      <td>NaN</td>\n",
       "      <td>NaN</td>\n",
       "    </tr>\n",
       "    <tr>\n",
       "      <th>1</th>\n",
       "      <td>Reporting Economy</td>\n",
       "      <td>Product/Sector</td>\n",
       "      <td>Partner Economy</td>\n",
       "      <td>2010.0</td>\n",
       "      <td>2011.0</td>\n",
       "      <td>2012.0</td>\n",
       "      <td>2013.0</td>\n",
       "      <td>2014.0</td>\n",
       "      <td>2015.0</td>\n",
       "      <td>2016.0</td>\n",
       "      <td>2017.0</td>\n",
       "      <td>2018.0</td>\n",
       "      <td>2019.0</td>\n",
       "      <td>2020.0</td>\n",
       "    </tr>\n",
       "    <tr>\n",
       "      <th>2</th>\n",
       "      <td>World</td>\n",
       "      <td>SI3_AGG - TO - Total merchandise</td>\n",
       "      <td>World</td>\n",
       "      <td>15438092.0</td>\n",
       "      <td>18438364.0</td>\n",
       "      <td>18657296.0</td>\n",
       "      <td>18966119.0</td>\n",
       "      <td>19060809.0</td>\n",
       "      <td>16733507.0</td>\n",
       "      <td>16211194.0</td>\n",
       "      <td>17985896.0</td>\n",
       "      <td>19836342.0</td>\n",
       "      <td>19284167.0</td>\n",
       "      <td>17812107.0</td>\n",
       "    </tr>\n",
       "  </tbody>\n",
       "</table>\n",
       "</div>"
      ],
      "text/plain": [
       "   Reporting Economy                    Product/Sector  Partner Economy  \\\n",
       "0                NaN                               NaN              NaN   \n",
       "1  Reporting Economy                    Product/Sector  Partner Economy   \n",
       "2              World  SI3_AGG - TO - Total merchandise            World   \n",
       "\n",
       "         2010        2011        2012        2013        2014        2015  \\\n",
       "0         NaN         NaN         NaN         NaN         NaN         NaN   \n",
       "1      2010.0      2011.0      2012.0      2013.0      2014.0      2015.0   \n",
       "2  15438092.0  18438364.0  18657296.0  18966119.0  19060809.0  16733507.0   \n",
       "\n",
       "         2016        2017        2018        2019        2020  \n",
       "0         NaN         NaN         NaN         NaN         NaN  \n",
       "1      2016.0      2017.0      2018.0      2019.0      2020.0  \n",
       "2  16211194.0  17985896.0  19836342.0  19284167.0  17812107.0  "
      ]
     },
     "metadata": {},
     "output_type": "display_data"
    }
   ],
   "source": [
    "# Display all columns\n",
    "print('-------- Default column names --------')\n",
    "display(df_imports.columns)\n",
    "\n",
    "# Change columns name\n",
    "map_cols_name = {\n",
    "    'Indicator':'Reporting Economy',\n",
    "    '  Merchandise imports by product group – annual (Million US dollar)': 'Product/Sector',\n",
    "    'Unnamed: 2': 'Partner Economy',\n",
    "    'Unnamed: 3': '2010',\n",
    "    'Unnamed: 4': '2011',\n",
    "    'Unnamed: 5': '2012',\n",
    "    'Unnamed: 6': '2013',\n",
    "    'Unnamed: 7': '2014',\n",
    "    'Unnamed: 8': '2015',\n",
    "    'Unnamed: 9': '2016',\n",
    "    'Unnamed: 10': '2017',\n",
    "    'Unnamed: 11': '2018',\n",
    "    'Unnamed: 12': '2019',\n",
    "    'Unnamed: 13': '2020',\n",
    "}\n",
    "\n",
    "# Change all default column names\n",
    "print('-------- With new column names --------')\n",
    "renamed_cols_df = df_imports.rename(columns=map_cols_name)\n",
    "display(renamed_cols_df.head(3))"
   ]
  },
  {
   "cell_type": "code",
   "execution_count": 40,
   "metadata": {},
   "outputs": [
    {
     "data": {
      "text/plain": [
       "RangeIndex(start=0, stop=2, step=1)"
      ]
     },
     "metadata": {},
     "output_type": "display_data"
    },
    {
     "data": {
      "text/html": [
       "<div>\n",
       "<style scoped>\n",
       "    .dataframe tbody tr th:only-of-type {\n",
       "        vertical-align: middle;\n",
       "    }\n",
       "\n",
       "    .dataframe tbody tr th {\n",
       "        vertical-align: top;\n",
       "    }\n",
       "\n",
       "    .dataframe thead th {\n",
       "        text-align: right;\n",
       "    }\n",
       "</style>\n",
       "<table border=\"1\" class=\"dataframe\">\n",
       "  <thead>\n",
       "    <tr style=\"text-align: right;\">\n",
       "      <th></th>\n",
       "      <th>Reporting Economy</th>\n",
       "      <th>Product/Sector</th>\n",
       "      <th>Partner Economy</th>\n",
       "      <th>2010</th>\n",
       "      <th>2011</th>\n",
       "      <th>2012</th>\n",
       "      <th>2013</th>\n",
       "      <th>2014</th>\n",
       "      <th>2015</th>\n",
       "      <th>2016</th>\n",
       "      <th>2017</th>\n",
       "      <th>2018</th>\n",
       "      <th>2019</th>\n",
       "      <th>2020</th>\n",
       "    </tr>\n",
       "  </thead>\n",
       "  <tbody>\n",
       "    <tr>\n",
       "      <th>0</th>\n",
       "      <td>World</td>\n",
       "      <td>SI3_AGG - TO - Total merchandise</td>\n",
       "      <td>World</td>\n",
       "      <td>15438092.0</td>\n",
       "      <td>18438364.0</td>\n",
       "      <td>18657296.0</td>\n",
       "      <td>18966119.0</td>\n",
       "      <td>19060809.0</td>\n",
       "      <td>16733507.0</td>\n",
       "      <td>16211194.0</td>\n",
       "      <td>17985896.0</td>\n",
       "      <td>19836342.0</td>\n",
       "      <td>19284167.0</td>\n",
       "      <td>17812107.0</td>\n",
       "    </tr>\n",
       "    <tr>\n",
       "      <th>1</th>\n",
       "      <td>World</td>\n",
       "      <td>SI3_AGG - AG - Agricultural products</td>\n",
       "      <td>World</td>\n",
       "      <td>1391529.0</td>\n",
       "      <td>1701893.0</td>\n",
       "      <td>1681611.0</td>\n",
       "      <td>1756648.0</td>\n",
       "      <td>1798003.0</td>\n",
       "      <td>1594510.0</td>\n",
       "      <td>1599989.0</td>\n",
       "      <td>1759978.0</td>\n",
       "      <td>1851346.0</td>\n",
       "      <td>1823105.0</td>\n",
       "      <td>NaN</td>\n",
       "    </tr>\n",
       "    <tr>\n",
       "      <th>2</th>\n",
       "      <td>World</td>\n",
       "      <td>SI3_AGG - AGFO - Food</td>\n",
       "      <td>World</td>\n",
       "      <td>1144082.0</td>\n",
       "      <td>1387912.0</td>\n",
       "      <td>1391766.0</td>\n",
       "      <td>1465158.0</td>\n",
       "      <td>1510854.0</td>\n",
       "      <td>1340065.0</td>\n",
       "      <td>1354624.0</td>\n",
       "      <td>1482990.0</td>\n",
       "      <td>1551785.0</td>\n",
       "      <td>1547817.0</td>\n",
       "      <td>NaN</td>\n",
       "    </tr>\n",
       "    <tr>\n",
       "      <th>3</th>\n",
       "      <td>World</td>\n",
       "      <td>SI3_AGG - MI - Fuels and mining products</td>\n",
       "      <td>World</td>\n",
       "      <td>3183852.0</td>\n",
       "      <td>4278365.0</td>\n",
       "      <td>4227403.0</td>\n",
       "      <td>4208130.0</td>\n",
       "      <td>3874299.0</td>\n",
       "      <td>2489603.0</td>\n",
       "      <td>2124334.0</td>\n",
       "      <td>2755203.0</td>\n",
       "      <td>3408176.0</td>\n",
       "      <td>3168025.0</td>\n",
       "      <td>NaN</td>\n",
       "    </tr>\n",
       "    <tr>\n",
       "      <th>4</th>\n",
       "      <td>World</td>\n",
       "      <td>SI3_AGG - MIFU - Fuels</td>\n",
       "      <td>World</td>\n",
       "      <td>2462969.0</td>\n",
       "      <td>3361172.0</td>\n",
       "      <td>3401742.0</td>\n",
       "      <td>3403308.0</td>\n",
       "      <td>3091267.0</td>\n",
       "      <td>1859835.0</td>\n",
       "      <td>1528358.0</td>\n",
       "      <td>2006039.0</td>\n",
       "      <td>2570707.0</td>\n",
       "      <td>2350244.0</td>\n",
       "      <td>NaN</td>\n",
       "    </tr>\n",
       "  </tbody>\n",
       "</table>\n",
       "</div>"
      ],
      "text/plain": [
       "  Reporting Economy                            Product/Sector Partner Economy  \\\n",
       "0             World          SI3_AGG - TO - Total merchandise           World   \n",
       "1             World      SI3_AGG - AG - Agricultural products           World   \n",
       "2             World                     SI3_AGG - AGFO - Food           World   \n",
       "3             World  SI3_AGG - MI - Fuels and mining products           World   \n",
       "4             World                    SI3_AGG - MIFU - Fuels           World   \n",
       "\n",
       "         2010        2011        2012        2013        2014        2015  \\\n",
       "0  15438092.0  18438364.0  18657296.0  18966119.0  19060809.0  16733507.0   \n",
       "1   1391529.0   1701893.0   1681611.0   1756648.0   1798003.0   1594510.0   \n",
       "2   1144082.0   1387912.0   1391766.0   1465158.0   1510854.0   1340065.0   \n",
       "3   3183852.0   4278365.0   4227403.0   4208130.0   3874299.0   2489603.0   \n",
       "4   2462969.0   3361172.0   3401742.0   3403308.0   3091267.0   1859835.0   \n",
       "\n",
       "         2016        2017        2018        2019        2020  \n",
       "0  16211194.0  17985896.0  19836342.0  19284167.0  17812107.0  \n",
       "1   1599989.0   1759978.0   1851346.0   1823105.0         NaN  \n",
       "2   1354624.0   1482990.0   1551785.0   1547817.0         NaN  \n",
       "3   2124334.0   2755203.0   3408176.0   3168025.0         NaN  \n",
       "4   1528358.0   2006039.0   2570707.0   2350244.0         NaN  "
      ]
     },
     "metadata": {},
     "output_type": "display_data"
    }
   ],
   "source": [
    "# Remove the first 2 rows\n",
    "to_drop_rows = renamed_cols_df.index[:2]\n",
    "display(to_drop_rows)\n",
    "\n",
    "dropped_rows_df = renamed_cols_df.drop(to_drop_rows).reset_index(drop=True)\n",
    "display(dropped_rows_df.head())"
   ]
  },
  {
   "cell_type": "markdown",
   "metadata": {},
   "source": [
    "#### Treatment of Missing Values"
   ]
  },
  {
   "cell_type": "code",
   "execution_count": 41,
   "metadata": {},
   "outputs": [
    {
     "data": {
      "text/plain": [
       "Reporting Economy       0\n",
       "Product/Sector          0\n",
       "Partner Economy         0\n",
       "2010                  147\n",
       "2011                  111\n",
       "2012                  157\n",
       "2013                  177\n",
       "2014                  188\n",
       "2015                  172\n",
       "2016                  186\n",
       "2017                  153\n",
       "2018                  152\n",
       "2019                  152\n",
       "2020                 3199\n",
       "dtype: int64"
      ]
     },
     "execution_count": 41,
     "metadata": {},
     "output_type": "execute_result"
    }
   ],
   "source": [
    "# Checking for missing values\n",
    "dropped_rows_df.isnull().sum()"
   ]
  },
  {
   "cell_type": "code",
   "execution_count": 42,
   "metadata": {},
   "outputs": [],
   "source": [
    "# Dealing with missing values with the fillna function\n",
    "dropped_rows_df = dropped_rows_df.fillna(0)"
   ]
  },
  {
   "cell_type": "code",
   "execution_count": 45,
   "metadata": {},
   "outputs": [
    {
     "data": {
      "text/plain": [
       "Reporting Economy    0\n",
       "Product/Sector       0\n",
       "Partner Economy      0\n",
       "2010                 0\n",
       "2011                 0\n",
       "2012                 0\n",
       "2013                 0\n",
       "2014                 0\n",
       "2015                 0\n",
       "2016                 0\n",
       "2017                 0\n",
       "2018                 0\n",
       "2019                 0\n",
       "2020                 0\n",
       "dtype: int64"
      ]
     },
     "metadata": {},
     "output_type": "display_data"
    },
    {
     "name": "stdout",
     "output_type": "stream",
     "text": [
      "----------\n"
     ]
    },
    {
     "data": {
      "text/plain": [
       "'Now all of our empty values have been successfully filled with 0'"
      ]
     },
     "metadata": {},
     "output_type": "display_data"
    }
   ],
   "source": [
    "display(dropped_rows_df.isna().sum())\n",
    "print('----------')\n",
    "display('Now all of our empty values have been successfully filled with 0')"
   ]
  },
  {
   "cell_type": "code",
   "execution_count": null,
   "metadata": {},
   "outputs": [],
   "source": [
    "# If there are any missing values, how do you plan to treat those data columns?"
   ]
  },
  {
   "cell_type": "code",
   "execution_count": null,
   "metadata": {},
   "outputs": [],
   "source": [
    "# Perform any transformation on the columns in the dataset to enable further analysis."
   ]
  },
  {
   "cell_type": "markdown",
   "metadata": {},
   "source": [
    "#### Final Dataframe"
   ]
  },
  {
   "cell_type": "code",
   "execution_count": null,
   "metadata": {},
   "outputs": [],
   "source": [
    "# Change data type to int"
   ]
  },
  {
   "cell_type": "code",
   "execution_count": null,
   "metadata": {},
   "outputs": [],
   "source": [
    "# Change date type\n",
    "# display(dropped_rows_df.dtypes)\n",
    "\n",
    "# Change Float to DateTime(Year)\n",
    "# to_dt_y = dropped_rows_df.iloc[:,3:]"
   ]
  },
  {
   "cell_type": "markdown",
   "metadata": {},
   "source": [
    "<br><br>"
   ]
  },
  {
   "cell_type": "markdown",
   "metadata": {},
   "source": [
    "<h1 align=\"center\"> Analytical Transformations </h1>"
   ]
  },
  {
   "cell_type": "code",
   "execution_count": null,
   "metadata": {},
   "outputs": [],
   "source": []
  },
  {
   "cell_type": "code",
   "execution_count": null,
   "metadata": {},
   "outputs": [],
   "source": []
  },
  {
   "cell_type": "code",
   "execution_count": null,
   "metadata": {},
   "outputs": [],
   "source": []
  },
  {
   "cell_type": "markdown",
   "metadata": {},
   "source": [
    "<h1 align=\"center\"> Data Analysis </h1>"
   ]
  },
  {
   "cell_type": "markdown",
   "metadata": {},
   "source": [
    "#### Descriptive Statistical Analysis"
   ]
  },
  {
   "cell_type": "code",
   "execution_count": null,
   "metadata": {},
   "outputs": [],
   "source": [
    "# Using basic statistical measures such as measurements of central tendancy such as mean, median and mode."
   ]
  },
  {
   "cell_type": "markdown",
   "metadata": {},
   "source": [
    "#### Distribution of Variables"
   ]
  },
  {
   "cell_type": "code",
   "execution_count": null,
   "metadata": {},
   "outputs": [],
   "source": [
    "# Identify the distribution of the data to understand the range of values and how the data is structured."
   ]
  },
  {
   "cell_type": "markdown",
   "metadata": {},
   "source": [
    "#### Outliers in the dataset"
   ]
  },
  {
   "cell_type": "code",
   "execution_count": null,
   "metadata": {},
   "outputs": [],
   "source": [
    "# Identify if there are any outliers in the dataset based on statistical measures."
   ]
  },
  {
   "cell_type": "markdown",
   "metadata": {},
   "source": [
    "<br><br>"
   ]
  },
  {
   "cell_type": "markdown",
   "metadata": {},
   "source": [
    "<h1 align=\"center\"> Reflections </h1>"
   ]
  },
  {
   "cell_type": "markdown",
   "metadata": {},
   "source": [
    "#### Summary of Data Analysis"
   ]
  },
  {
   "cell_type": "code",
   "execution_count": null,
   "metadata": {},
   "outputs": [],
   "source": [
    "# What insights should the user takeaway from EDA."
   ]
  },
  {
   "cell_type": "markdown",
   "metadata": {},
   "source": [
    "#### Questions unanswered"
   ]
  },
  {
   "cell_type": "code",
   "execution_count": null,
   "metadata": {},
   "outputs": [],
   "source": [
    "# What aspects of the research question were we unable to answer and why?"
   ]
  },
  {
   "cell_type": "markdown",
   "metadata": {},
   "source": [
    "#### Recommendations"
   ]
  },
  {
   "cell_type": "code",
   "execution_count": null,
   "metadata": {},
   "outputs": [],
   "source": [
    "# Identify if there are any outliers in the dataset based on statistical measures."
   ]
  },
  {
   "cell_type": "markdown",
   "metadata": {},
   "source": [
    "#### Next Steps"
   ]
  },
  {
   "cell_type": "code",
   "execution_count": null,
   "metadata": {},
   "outputs": [],
   "source": [
    "# What will the analyst do next based on the analysis?"
   ]
  }
 ],
 "metadata": {
  "interpreter": {
   "hash": "aee8b7b246df8f9039afb4144a1f6fd8d2ca17a180786b69acc140d282b71a49"
  },
  "kernelspec": {
   "display_name": "Python 3",
   "language": "python",
   "name": "python3"
  },
  "language_info": {
   "codemirror_mode": {
    "name": "ipython",
    "version": 3
   },
   "file_extension": ".py",
   "mimetype": "text/x-python",
   "name": "python",
   "nbconvert_exporter": "python",
   "pygments_lexer": "ipython3",
   "version": "3.8.5"
  }
 },
 "nbformat": 4,
 "nbformat_minor": 4
}
