{
 "cells": [
  {
   "cell_type": "markdown",
   "metadata": {},
   "source": [
    "<h1 align=\"center\"> Project Setup </h1>"
   ]
  },
  {
   "cell_type": "markdown",
   "metadata": {},
   "source": [
    "#### Importing Dependencies"
   ]
  },
  {
   "cell_type": "code",
   "execution_count": 1,
   "metadata": {},
   "outputs": [],
   "source": [
    "import os\n",
    "import sys\n",
    "\n",
    "import numpy as np\n",
    "import pandas as pd\n",
    "import matplotlib.pyplot as plt\n",
    "import seaborn as sns\n",
    "\n",
    "from sklearn.cluster import KMeans"
   ]
  },
  {
   "cell_type": "markdown",
   "metadata": {},
   "source": [
    "#### Importing Datasets"
   ]
  },
  {
   "cell_type": "code",
   "execution_count": 2,
   "metadata": {},
   "outputs": [],
   "source": [
    "# Display all columns in the DataFrame using pandas settings\n",
    "pd.set_option('display.max_columns', None)"
   ]
  },
  {
   "cell_type": "code",
   "execution_count": 3,
   "metadata": {},
   "outputs": [],
   "source": [
    "df_imports = pd.read_excel('data/WtoData_worldwide_import_from_2010_to_2022_all_countries.xlsx')"
   ]
  },
  {
   "cell_type": "markdown",
   "metadata": {},
   "source": [
    "<br><br>"
   ]
  },
  {
   "cell_type": "markdown",
   "metadata": {},
   "source": [
    "<h1 align=\"center\"> Summary</h1>"
   ]
  },
  {
   "cell_type": "markdown",
   "metadata": {},
   "source": [
    "### Objective"
   ]
  },
  {
   "cell_type": "markdown",
   "metadata": {},
   "source": [
    "This project focuses on how the country will be able to know the right market to export their products. This will allow the country to get a good guide on foreign trade, and know which countries have High demand in different sectors, especially agricultural products.\n",
    "\n",
    "The specific objectives of this project are:\n",
    "1. Analyzethedatasetthatwearegoingtocollecttobetterunderstandandgive\n",
    "some insight on the international trade\n",
    "2. ChoosethebestplacewiththeHighdemandforagriculturalproductssothat Haiti can promote and sell its products"
   ]
  },
  {
   "cell_type": "markdown",
   "metadata": {},
   "source": [
    "<hr>"
   ]
  },
  {
   "cell_type": "markdown",
   "metadata": {},
   "source": [
    "### Hypothesis: Research Question?"
   ]
  },
  {
   "cell_type": "markdown",
   "metadata": {},
   "source": [
    "What is the question that you would like to answer in order to make a decision."
   ]
  },
  {
   "cell_type": "markdown",
   "metadata": {},
   "source": [
    "<hr>"
   ]
  },
  {
   "cell_type": "markdown",
   "metadata": {},
   "source": [
    "### Data Source"
   ]
  },
  {
   "cell_type": "markdown",
   "metadata": {},
   "source": [
    "For this project we will be using the World Trade Organization(WTO) data portal to have access to. The WTO Data portal contains statistical indicators, Available time series cover merchandise trade and trade in services statistics, market access indicators (bound, applied & preferential tariffs), non-tariff information as well as other indicators."
   ]
  },
  {
   "cell_type": "markdown",
   "metadata": {},
   "source": [
    "<br><br>"
   ]
  },
  {
   "cell_type": "markdown",
   "metadata": {},
   "source": [
    "<h1 align=\"center\"> Data Cleaning </h1>"
   ]
  },
  {
   "cell_type": "markdown",
   "metadata": {},
   "source": [
    "#### Data Overview"
   ]
  },
  {
   "cell_type": "code",
   "execution_count": 4,
   "metadata": {},
   "outputs": [
    {
     "name": "stdout",
     "output_type": "stream",
     "text": [
      "------ Imports Dataset ------\n"
     ]
    },
    {
     "data": {
      "text/html": [
       "<div>\n",
       "<style scoped>\n",
       "    .dataframe tbody tr th:only-of-type {\n",
       "        vertical-align: middle;\n",
       "    }\n",
       "\n",
       "    .dataframe tbody tr th {\n",
       "        vertical-align: top;\n",
       "    }\n",
       "\n",
       "    .dataframe thead th {\n",
       "        text-align: right;\n",
       "    }\n",
       "</style>\n",
       "<table border=\"1\" class=\"dataframe\">\n",
       "  <thead>\n",
       "    <tr style=\"text-align: right;\">\n",
       "      <th></th>\n",
       "      <th>Indicator</th>\n",
       "      <th>Merchandise imports by product group – annual (Million US dollar)</th>\n",
       "      <th>Unnamed: 2</th>\n",
       "      <th>Unnamed: 3</th>\n",
       "      <th>Unnamed: 4</th>\n",
       "      <th>Unnamed: 5</th>\n",
       "      <th>Unnamed: 6</th>\n",
       "      <th>Unnamed: 7</th>\n",
       "      <th>Unnamed: 8</th>\n",
       "      <th>Unnamed: 9</th>\n",
       "      <th>Unnamed: 10</th>\n",
       "      <th>Unnamed: 11</th>\n",
       "      <th>Unnamed: 12</th>\n",
       "      <th>Unnamed: 13</th>\n",
       "    </tr>\n",
       "  </thead>\n",
       "  <tbody>\n",
       "    <tr>\n",
       "      <th>0</th>\n",
       "      <td>NaN</td>\n",
       "      <td>NaN</td>\n",
       "      <td>NaN</td>\n",
       "      <td>NaN</td>\n",
       "      <td>NaN</td>\n",
       "      <td>NaN</td>\n",
       "      <td>NaN</td>\n",
       "      <td>NaN</td>\n",
       "      <td>NaN</td>\n",
       "      <td>NaN</td>\n",
       "      <td>NaN</td>\n",
       "      <td>NaN</td>\n",
       "      <td>NaN</td>\n",
       "      <td>NaN</td>\n",
       "    </tr>\n",
       "    <tr>\n",
       "      <th>1</th>\n",
       "      <td>Reporting Economy</td>\n",
       "      <td>Product/Sector</td>\n",
       "      <td>Partner Economy</td>\n",
       "      <td>2010.0</td>\n",
       "      <td>2011.0</td>\n",
       "      <td>2012.0</td>\n",
       "      <td>2013.0</td>\n",
       "      <td>2014.0</td>\n",
       "      <td>2015.0</td>\n",
       "      <td>2016.0</td>\n",
       "      <td>2017.0</td>\n",
       "      <td>2018.0</td>\n",
       "      <td>2019.0</td>\n",
       "      <td>2020.0</td>\n",
       "    </tr>\n",
       "    <tr>\n",
       "      <th>2</th>\n",
       "      <td>World</td>\n",
       "      <td>SI3_AGG - TO - Total merchandise</td>\n",
       "      <td>World</td>\n",
       "      <td>15438092.0</td>\n",
       "      <td>18438364.0</td>\n",
       "      <td>18657296.0</td>\n",
       "      <td>18966119.0</td>\n",
       "      <td>19060809.0</td>\n",
       "      <td>16733507.0</td>\n",
       "      <td>16211194.0</td>\n",
       "      <td>17985896.0</td>\n",
       "      <td>19836342.0</td>\n",
       "      <td>19284167.0</td>\n",
       "      <td>17812107.0</td>\n",
       "    </tr>\n",
       "    <tr>\n",
       "      <th>3</th>\n",
       "      <td>World</td>\n",
       "      <td>SI3_AGG - AG - Agricultural products</td>\n",
       "      <td>World</td>\n",
       "      <td>1391529.0</td>\n",
       "      <td>1701893.0</td>\n",
       "      <td>1681611.0</td>\n",
       "      <td>1756648.0</td>\n",
       "      <td>1798003.0</td>\n",
       "      <td>1594510.0</td>\n",
       "      <td>1599989.0</td>\n",
       "      <td>1759978.0</td>\n",
       "      <td>1851346.0</td>\n",
       "      <td>1823105.0</td>\n",
       "      <td>NaN</td>\n",
       "    </tr>\n",
       "  </tbody>\n",
       "</table>\n",
       "</div>"
      ],
      "text/plain": [
       "           Indicator  \\\n",
       "0                NaN   \n",
       "1  Reporting Economy   \n",
       "2              World   \n",
       "3              World   \n",
       "\n",
       "    Merchandise imports by product group – annual (Million US dollar)  \\\n",
       "0                                                NaN                    \n",
       "1                                     Product/Sector                    \n",
       "2                   SI3_AGG - TO - Total merchandise                    \n",
       "3               SI3_AGG - AG - Agricultural products                    \n",
       "\n",
       "        Unnamed: 2  Unnamed: 3  Unnamed: 4  Unnamed: 5  Unnamed: 6  \\\n",
       "0              NaN         NaN         NaN         NaN         NaN   \n",
       "1  Partner Economy      2010.0      2011.0      2012.0      2013.0   \n",
       "2            World  15438092.0  18438364.0  18657296.0  18966119.0   \n",
       "3            World   1391529.0   1701893.0   1681611.0   1756648.0   \n",
       "\n",
       "   Unnamed: 7  Unnamed: 8  Unnamed: 9  Unnamed: 10  Unnamed: 11  Unnamed: 12  \\\n",
       "0         NaN         NaN         NaN          NaN          NaN          NaN   \n",
       "1      2014.0      2015.0      2016.0       2017.0       2018.0       2019.0   \n",
       "2  19060809.0  16733507.0  16211194.0   17985896.0   19836342.0   19284167.0   \n",
       "3   1798003.0   1594510.0   1599989.0    1759978.0    1851346.0    1823105.0   \n",
       "\n",
       "   Unnamed: 13  \n",
       "0          NaN  \n",
       "1       2020.0  \n",
       "2   17812107.0  \n",
       "3          NaN  "
      ]
     },
     "metadata": {},
     "output_type": "display_data"
    }
   ],
   "source": [
    "# Displaying the countries import product dataframe\n",
    "print('------ Imports Dataset ------')\n",
    "display(df_imports.head(4))"
   ]
  },
  {
   "cell_type": "code",
   "execution_count": 5,
   "metadata": {},
   "outputs": [
    {
     "name": "stdout",
     "output_type": "stream",
     "text": [
      "------------------------------ Dataset Shape ------------------------------\n",
      "The Imports dataset has 3287 Rows and 14 columns\n",
      "------------------------------ Dataframe Columns ------------------------------\n"
     ]
    },
    {
     "data": {
      "text/plain": [
       "Index(['Indicator',\n",
       "       '  Merchandise imports by product group – annual (Million US dollar)',\n",
       "       'Unnamed: 2', 'Unnamed: 3', 'Unnamed: 4', 'Unnamed: 5', 'Unnamed: 6',\n",
       "       'Unnamed: 7', 'Unnamed: 8', 'Unnamed: 9', 'Unnamed: 10', 'Unnamed: 11',\n",
       "       'Unnamed: 12', 'Unnamed: 13'],\n",
       "      dtype='object')"
      ]
     },
     "metadata": {},
     "output_type": "display_data"
    },
    {
     "name": "stdout",
     "output_type": "stream",
     "text": [
      "------------------------------ Data types ------------------------------\n"
     ]
    },
    {
     "data": {
      "text/plain": [
       "Indicator                                                               object\n",
       "  Merchandise imports by product group – annual (Million US dollar)     object\n",
       "Unnamed: 2                                                              object\n",
       "Unnamed: 3                                                             float64\n",
       "Unnamed: 4                                                             float64\n",
       "Unnamed: 5                                                             float64\n",
       "Unnamed: 6                                                             float64\n",
       "Unnamed: 7                                                             float64\n",
       "Unnamed: 8                                                             float64\n",
       "Unnamed: 9                                                             float64\n",
       "Unnamed: 10                                                            float64\n",
       "Unnamed: 11                                                            float64\n",
       "Unnamed: 12                                                            float64\n",
       "Unnamed: 13                                                            float64\n",
       "dtype: object"
      ]
     },
     "metadata": {},
     "output_type": "display_data"
    },
    {
     "name": "stdout",
     "output_type": "stream",
     "text": [
      "------------------------------ dataframe info ------------------------------\n",
      "<class 'pandas.core.frame.DataFrame'>\n",
      "RangeIndex: 3287 entries, 0 to 3286\n",
      "Data columns (total 14 columns):\n",
      " #   Column                                                               Non-Null Count  Dtype  \n",
      "---  ------                                                               --------------  -----  \n",
      " 0   Indicator                                                            3286 non-null   object \n",
      " 1     Merchandise imports by product group – annual (Million US dollar)  3286 non-null   object \n",
      " 2   Unnamed: 2                                                           3286 non-null   object \n",
      " 3   Unnamed: 3                                                           3140 non-null   float64\n",
      " 4   Unnamed: 4                                                           3177 non-null   float64\n",
      " 5   Unnamed: 5                                                           3131 non-null   float64\n",
      " 6   Unnamed: 6                                                           3111 non-null   float64\n",
      " 7   Unnamed: 7                                                           3100 non-null   float64\n",
      " 8   Unnamed: 8                                                           3116 non-null   float64\n",
      " 9   Unnamed: 9                                                           3101 non-null   float64\n",
      " 10  Unnamed: 10                                                          3135 non-null   float64\n",
      " 11  Unnamed: 11                                                          3136 non-null   float64\n",
      " 12  Unnamed: 12                                                          3136 non-null   float64\n",
      " 13  Unnamed: 13                                                          208 non-null    float64\n",
      "dtypes: float64(11), object(3)\n",
      "memory usage: 359.6+ KB\n"
     ]
    },
    {
     "data": {
      "text/plain": [
       "None"
      ]
     },
     "metadata": {},
     "output_type": "display_data"
    },
    {
     "name": "stdout",
     "output_type": "stream",
     "text": [
      "------------------------------ Statistical data ------------------------------\n"
     ]
    },
    {
     "data": {
      "text/html": [
       "<div>\n",
       "<style scoped>\n",
       "    .dataframe tbody tr th:only-of-type {\n",
       "        vertical-align: middle;\n",
       "    }\n",
       "\n",
       "    .dataframe tbody tr th {\n",
       "        vertical-align: top;\n",
       "    }\n",
       "\n",
       "    .dataframe thead th {\n",
       "        text-align: right;\n",
       "    }\n",
       "</style>\n",
       "<table border=\"1\" class=\"dataframe\">\n",
       "  <thead>\n",
       "    <tr style=\"text-align: right;\">\n",
       "      <th></th>\n",
       "      <th>Unnamed: 3</th>\n",
       "      <th>Unnamed: 4</th>\n",
       "      <th>Unnamed: 5</th>\n",
       "      <th>Unnamed: 6</th>\n",
       "      <th>Unnamed: 7</th>\n",
       "      <th>Unnamed: 8</th>\n",
       "      <th>Unnamed: 9</th>\n",
       "      <th>Unnamed: 10</th>\n",
       "      <th>Unnamed: 11</th>\n",
       "      <th>Unnamed: 12</th>\n",
       "      <th>Unnamed: 13</th>\n",
       "    </tr>\n",
       "  </thead>\n",
       "  <tbody>\n",
       "    <tr>\n",
       "      <th>count</th>\n",
       "      <td>3.140000e+03</td>\n",
       "      <td>3.177000e+03</td>\n",
       "      <td>3.131000e+03</td>\n",
       "      <td>3.111000e+03</td>\n",
       "      <td>3.100000e+03</td>\n",
       "      <td>3.116000e+03</td>\n",
       "      <td>3.101000e+03</td>\n",
       "      <td>3.135000e+03</td>\n",
       "      <td>3.136000e+03</td>\n",
       "      <td>3.136000e+03</td>\n",
       "      <td>2.080000e+02</td>\n",
       "    </tr>\n",
       "    <tr>\n",
       "      <th>mean</th>\n",
       "      <td>3.143869e+04</td>\n",
       "      <td>3.675237e+04</td>\n",
       "      <td>3.758531e+04</td>\n",
       "      <td>3.860113e+04</td>\n",
       "      <td>3.913586e+04</td>\n",
       "      <td>3.433887e+04</td>\n",
       "      <td>3.362719e+04</td>\n",
       "      <td>3.711064e+04</td>\n",
       "      <td>4.083153e+04</td>\n",
       "      <td>3.967764e+04</td>\n",
       "      <td>1.818519e+05</td>\n",
       "    </tr>\n",
       "    <tr>\n",
       "      <th>std</th>\n",
       "      <td>3.675592e+05</td>\n",
       "      <td>4.329523e+05</td>\n",
       "      <td>4.398730e+05</td>\n",
       "      <td>4.502819e+05</td>\n",
       "      <td>4.557177e+05</td>\n",
       "      <td>4.060061e+05</td>\n",
       "      <td>3.974724e+05</td>\n",
       "      <td>4.376012e+05</td>\n",
       "      <td>4.794420e+05</td>\n",
       "      <td>4.672140e+05</td>\n",
       "      <td>1.262847e+06</td>\n",
       "    </tr>\n",
       "    <tr>\n",
       "      <th>min</th>\n",
       "      <td>0.000000e+00</td>\n",
       "      <td>0.000000e+00</td>\n",
       "      <td>0.000000e+00</td>\n",
       "      <td>0.000000e+00</td>\n",
       "      <td>0.000000e+00</td>\n",
       "      <td>0.000000e+00</td>\n",
       "      <td>0.000000e+00</td>\n",
       "      <td>0.000000e+00</td>\n",
       "      <td>0.000000e+00</td>\n",
       "      <td>0.000000e+00</td>\n",
       "      <td>0.000000e+00</td>\n",
       "    </tr>\n",
       "    <tr>\n",
       "      <th>25%</th>\n",
       "      <td>1.127500e+02</td>\n",
       "      <td>1.210000e+02</td>\n",
       "      <td>1.360000e+02</td>\n",
       "      <td>1.440000e+02</td>\n",
       "      <td>1.600000e+02</td>\n",
       "      <td>1.437500e+02</td>\n",
       "      <td>1.540000e+02</td>\n",
       "      <td>1.710000e+02</td>\n",
       "      <td>1.830000e+02</td>\n",
       "      <td>1.820000e+02</td>\n",
       "      <td>1.714250e+03</td>\n",
       "    </tr>\n",
       "    <tr>\n",
       "      <th>50%</th>\n",
       "      <td>8.240000e+02</td>\n",
       "      <td>9.460000e+02</td>\n",
       "      <td>1.000000e+03</td>\n",
       "      <td>1.061000e+03</td>\n",
       "      <td>1.133000e+03</td>\n",
       "      <td>1.032500e+03</td>\n",
       "      <td>1.003000e+03</td>\n",
       "      <td>1.095000e+03</td>\n",
       "      <td>1.213500e+03</td>\n",
       "      <td>1.206000e+03</td>\n",
       "      <td>7.946000e+03</td>\n",
       "    </tr>\n",
       "    <tr>\n",
       "      <th>75%</th>\n",
       "      <td>5.285750e+03</td>\n",
       "      <td>6.199000e+03</td>\n",
       "      <td>6.518000e+03</td>\n",
       "      <td>6.834500e+03</td>\n",
       "      <td>7.124500e+03</td>\n",
       "      <td>6.023250e+03</td>\n",
       "      <td>5.817000e+03</td>\n",
       "      <td>6.286500e+03</td>\n",
       "      <td>6.971000e+03</td>\n",
       "      <td>6.792750e+03</td>\n",
       "      <td>4.433500e+04</td>\n",
       "    </tr>\n",
       "    <tr>\n",
       "      <th>max</th>\n",
       "      <td>1.543809e+07</td>\n",
       "      <td>1.843836e+07</td>\n",
       "      <td>1.865730e+07</td>\n",
       "      <td>1.896612e+07</td>\n",
       "      <td>1.906081e+07</td>\n",
       "      <td>1.673351e+07</td>\n",
       "      <td>1.621119e+07</td>\n",
       "      <td>1.798590e+07</td>\n",
       "      <td>1.983634e+07</td>\n",
       "      <td>1.928417e+07</td>\n",
       "      <td>1.781211e+07</td>\n",
       "    </tr>\n",
       "  </tbody>\n",
       "</table>\n",
       "</div>"
      ],
      "text/plain": [
       "         Unnamed: 3    Unnamed: 4    Unnamed: 5    Unnamed: 6    Unnamed: 7  \\\n",
       "count  3.140000e+03  3.177000e+03  3.131000e+03  3.111000e+03  3.100000e+03   \n",
       "mean   3.143869e+04  3.675237e+04  3.758531e+04  3.860113e+04  3.913586e+04   \n",
       "std    3.675592e+05  4.329523e+05  4.398730e+05  4.502819e+05  4.557177e+05   \n",
       "min    0.000000e+00  0.000000e+00  0.000000e+00  0.000000e+00  0.000000e+00   \n",
       "25%    1.127500e+02  1.210000e+02  1.360000e+02  1.440000e+02  1.600000e+02   \n",
       "50%    8.240000e+02  9.460000e+02  1.000000e+03  1.061000e+03  1.133000e+03   \n",
       "75%    5.285750e+03  6.199000e+03  6.518000e+03  6.834500e+03  7.124500e+03   \n",
       "max    1.543809e+07  1.843836e+07  1.865730e+07  1.896612e+07  1.906081e+07   \n",
       "\n",
       "         Unnamed: 8    Unnamed: 9   Unnamed: 10   Unnamed: 11   Unnamed: 12  \\\n",
       "count  3.116000e+03  3.101000e+03  3.135000e+03  3.136000e+03  3.136000e+03   \n",
       "mean   3.433887e+04  3.362719e+04  3.711064e+04  4.083153e+04  3.967764e+04   \n",
       "std    4.060061e+05  3.974724e+05  4.376012e+05  4.794420e+05  4.672140e+05   \n",
       "min    0.000000e+00  0.000000e+00  0.000000e+00  0.000000e+00  0.000000e+00   \n",
       "25%    1.437500e+02  1.540000e+02  1.710000e+02  1.830000e+02  1.820000e+02   \n",
       "50%    1.032500e+03  1.003000e+03  1.095000e+03  1.213500e+03  1.206000e+03   \n",
       "75%    6.023250e+03  5.817000e+03  6.286500e+03  6.971000e+03  6.792750e+03   \n",
       "max    1.673351e+07  1.621119e+07  1.798590e+07  1.983634e+07  1.928417e+07   \n",
       "\n",
       "        Unnamed: 13  \n",
       "count  2.080000e+02  \n",
       "mean   1.818519e+05  \n",
       "std    1.262847e+06  \n",
       "min    0.000000e+00  \n",
       "25%    1.714250e+03  \n",
       "50%    7.946000e+03  \n",
       "75%    4.433500e+04  \n",
       "max    1.781211e+07  "
      ]
     },
     "metadata": {},
     "output_type": "display_data"
    }
   ],
   "source": [
    "print('------------------------------ Dataset Shape ------------------------------')\n",
    "print('The Imports dataset has',df_imports.shape[0], 'Rows and', df_imports.shape[1],'columns')\n",
    "\n",
    "print('------------------------------ Dataframe Columns ------------------------------')\n",
    "display(df_imports.columns)\n",
    "\n",
    "print('------------------------------ Data types ------------------------------')\n",
    "display(df_imports.dtypes)\n",
    "\n",
    "print('------------------------------ dataframe info ------------------------------')\n",
    "display(df_imports.info())\n",
    "\n",
    "print('------------------------------ Statistical data ------------------------------')\n",
    "display(df_imports.describe())"
   ]
  },
  {
   "cell_type": "code",
   "execution_count": 6,
   "metadata": {},
   "outputs": [
    {
     "name": "stdout",
     "output_type": "stream",
     "text": [
      "-------- Imports column names --------\n"
     ]
    },
    {
     "data": {
      "text/plain": [
       "Index(['Indicator',\n",
       "       '  Merchandise imports by product group – annual (Million US dollar)',\n",
       "       'Unnamed: 2', 'Unnamed: 3', 'Unnamed: 4', 'Unnamed: 5', 'Unnamed: 6',\n",
       "       'Unnamed: 7', 'Unnamed: 8', 'Unnamed: 9', 'Unnamed: 10', 'Unnamed: 11',\n",
       "       'Unnamed: 12', 'Unnamed: 13'],\n",
       "      dtype='object')"
      ]
     },
     "metadata": {},
     "output_type": "display_data"
    },
    {
     "name": "stdout",
     "output_type": "stream",
     "text": [
      "-------- Imports Dataframe with new cols names --------\n"
     ]
    },
    {
     "data": {
      "text/html": [
       "<div>\n",
       "<style scoped>\n",
       "    .dataframe tbody tr th:only-of-type {\n",
       "        vertical-align: middle;\n",
       "    }\n",
       "\n",
       "    .dataframe tbody tr th {\n",
       "        vertical-align: top;\n",
       "    }\n",
       "\n",
       "    .dataframe thead th {\n",
       "        text-align: right;\n",
       "    }\n",
       "</style>\n",
       "<table border=\"1\" class=\"dataframe\">\n",
       "  <thead>\n",
       "    <tr style=\"text-align: right;\">\n",
       "      <th></th>\n",
       "      <th>Reporting Economy</th>\n",
       "      <th>Product/Sector</th>\n",
       "      <th>Partner Economy</th>\n",
       "      <th>2010</th>\n",
       "      <th>2011</th>\n",
       "      <th>2012</th>\n",
       "      <th>2013</th>\n",
       "      <th>2014</th>\n",
       "      <th>2015</th>\n",
       "      <th>2016</th>\n",
       "      <th>2017</th>\n",
       "      <th>2018</th>\n",
       "      <th>2019</th>\n",
       "      <th>2020</th>\n",
       "    </tr>\n",
       "  </thead>\n",
       "  <tbody>\n",
       "    <tr>\n",
       "      <th>0</th>\n",
       "      <td>NaN</td>\n",
       "      <td>NaN</td>\n",
       "      <td>NaN</td>\n",
       "      <td>NaN</td>\n",
       "      <td>NaN</td>\n",
       "      <td>NaN</td>\n",
       "      <td>NaN</td>\n",
       "      <td>NaN</td>\n",
       "      <td>NaN</td>\n",
       "      <td>NaN</td>\n",
       "      <td>NaN</td>\n",
       "      <td>NaN</td>\n",
       "      <td>NaN</td>\n",
       "      <td>NaN</td>\n",
       "    </tr>\n",
       "    <tr>\n",
       "      <th>1</th>\n",
       "      <td>Reporting Economy</td>\n",
       "      <td>Product/Sector</td>\n",
       "      <td>Partner Economy</td>\n",
       "      <td>2010.0</td>\n",
       "      <td>2011.0</td>\n",
       "      <td>2012.0</td>\n",
       "      <td>2013.0</td>\n",
       "      <td>2014.0</td>\n",
       "      <td>2015.0</td>\n",
       "      <td>2016.0</td>\n",
       "      <td>2017.0</td>\n",
       "      <td>2018.0</td>\n",
       "      <td>2019.0</td>\n",
       "      <td>2020.0</td>\n",
       "    </tr>\n",
       "    <tr>\n",
       "      <th>2</th>\n",
       "      <td>World</td>\n",
       "      <td>SI3_AGG - TO - Total merchandise</td>\n",
       "      <td>World</td>\n",
       "      <td>15438092.0</td>\n",
       "      <td>18438364.0</td>\n",
       "      <td>18657296.0</td>\n",
       "      <td>18966119.0</td>\n",
       "      <td>19060809.0</td>\n",
       "      <td>16733507.0</td>\n",
       "      <td>16211194.0</td>\n",
       "      <td>17985896.0</td>\n",
       "      <td>19836342.0</td>\n",
       "      <td>19284167.0</td>\n",
       "      <td>17812107.0</td>\n",
       "    </tr>\n",
       "    <tr>\n",
       "      <th>3</th>\n",
       "      <td>World</td>\n",
       "      <td>SI3_AGG - AG - Agricultural products</td>\n",
       "      <td>World</td>\n",
       "      <td>1391529.0</td>\n",
       "      <td>1701893.0</td>\n",
       "      <td>1681611.0</td>\n",
       "      <td>1756648.0</td>\n",
       "      <td>1798003.0</td>\n",
       "      <td>1594510.0</td>\n",
       "      <td>1599989.0</td>\n",
       "      <td>1759978.0</td>\n",
       "      <td>1851346.0</td>\n",
       "      <td>1823105.0</td>\n",
       "      <td>NaN</td>\n",
       "    </tr>\n",
       "    <tr>\n",
       "      <th>4</th>\n",
       "      <td>World</td>\n",
       "      <td>SI3_AGG - AGFO - Food</td>\n",
       "      <td>World</td>\n",
       "      <td>1144082.0</td>\n",
       "      <td>1387912.0</td>\n",
       "      <td>1391766.0</td>\n",
       "      <td>1465158.0</td>\n",
       "      <td>1510854.0</td>\n",
       "      <td>1340065.0</td>\n",
       "      <td>1354624.0</td>\n",
       "      <td>1482990.0</td>\n",
       "      <td>1551785.0</td>\n",
       "      <td>1547817.0</td>\n",
       "      <td>NaN</td>\n",
       "    </tr>\n",
       "  </tbody>\n",
       "</table>\n",
       "</div>"
      ],
      "text/plain": [
       "   Reporting Economy                        Product/Sector  Partner Economy  \\\n",
       "0                NaN                                   NaN              NaN   \n",
       "1  Reporting Economy                        Product/Sector  Partner Economy   \n",
       "2              World      SI3_AGG - TO - Total merchandise            World   \n",
       "3              World  SI3_AGG - AG - Agricultural products            World   \n",
       "4              World                 SI3_AGG - AGFO - Food            World   \n",
       "\n",
       "         2010        2011        2012        2013        2014        2015  \\\n",
       "0         NaN         NaN         NaN         NaN         NaN         NaN   \n",
       "1      2010.0      2011.0      2012.0      2013.0      2014.0      2015.0   \n",
       "2  15438092.0  18438364.0  18657296.0  18966119.0  19060809.0  16733507.0   \n",
       "3   1391529.0   1701893.0   1681611.0   1756648.0   1798003.0   1594510.0   \n",
       "4   1144082.0   1387912.0   1391766.0   1465158.0   1510854.0   1340065.0   \n",
       "\n",
       "         2016        2017        2018        2019        2020  \n",
       "0         NaN         NaN         NaN         NaN         NaN  \n",
       "1      2016.0      2017.0      2018.0      2019.0      2020.0  \n",
       "2  16211194.0  17985896.0  19836342.0  19284167.0  17812107.0  \n",
       "3   1599989.0   1759978.0   1851346.0   1823105.0         NaN  \n",
       "4   1354624.0   1482990.0   1551785.0   1547817.0         NaN  "
      ]
     },
     "metadata": {},
     "output_type": "display_data"
    }
   ],
   "source": [
    "# Display all columns\n",
    "print('-------- Imports column names --------')\n",
    "display(df_imports.columns)\n",
    "\n",
    "# Change columns name\n",
    "map_cols_name = {\n",
    "    'Indicator':'Reporting Economy',\n",
    "    '  Merchandise imports by product group – annual (Million US dollar)': 'Product/Sector',\n",
    "    'Unnamed: 2': 'Partner Economy',\n",
    "    'Unnamed: 3': '2010',\n",
    "    'Unnamed: 4': '2011',\n",
    "    'Unnamed: 5': '2012',\n",
    "    'Unnamed: 6': '2013',\n",
    "    'Unnamed: 7': '2014',\n",
    "    'Unnamed: 8': '2015',\n",
    "    'Unnamed: 9': '2016',\n",
    "    'Unnamed: 10': '2017',\n",
    "    'Unnamed: 11': '2018',\n",
    "    'Unnamed: 12': '2019',\n",
    "    'Unnamed: 13': '2020',\n",
    "}\n",
    "\n",
    "# Change all default column names\n",
    "renamed_cols_df = df_imports.rename(columns=map_cols_name)\n",
    "\n",
    "print('-------- Imports Dataframe with new cols names --------')\n",
    "display(renamed_cols_df.head(5))"
   ]
  },
  {
   "cell_type": "code",
   "execution_count": 7,
   "metadata": {},
   "outputs": [
    {
     "data": {
      "text/html": [
       "<div>\n",
       "<style scoped>\n",
       "    .dataframe tbody tr th:only-of-type {\n",
       "        vertical-align: middle;\n",
       "    }\n",
       "\n",
       "    .dataframe tbody tr th {\n",
       "        vertical-align: top;\n",
       "    }\n",
       "\n",
       "    .dataframe thead th {\n",
       "        text-align: right;\n",
       "    }\n",
       "</style>\n",
       "<table border=\"1\" class=\"dataframe\">\n",
       "  <thead>\n",
       "    <tr style=\"text-align: right;\">\n",
       "      <th></th>\n",
       "      <th>Reporting Economy</th>\n",
       "      <th>Product/Sector</th>\n",
       "      <th>Partner Economy</th>\n",
       "      <th>2010</th>\n",
       "      <th>2011</th>\n",
       "      <th>2012</th>\n",
       "      <th>2013</th>\n",
       "      <th>2014</th>\n",
       "      <th>2015</th>\n",
       "      <th>2016</th>\n",
       "      <th>2017</th>\n",
       "      <th>2018</th>\n",
       "      <th>2019</th>\n",
       "      <th>2020</th>\n",
       "    </tr>\n",
       "  </thead>\n",
       "  <tbody>\n",
       "    <tr>\n",
       "      <th>0</th>\n",
       "      <td>World</td>\n",
       "      <td>SI3_AGG - TO - Total merchandise</td>\n",
       "      <td>World</td>\n",
       "      <td>15438092.0</td>\n",
       "      <td>18438364.0</td>\n",
       "      <td>18657296.0</td>\n",
       "      <td>18966119.0</td>\n",
       "      <td>19060809.0</td>\n",
       "      <td>16733507.0</td>\n",
       "      <td>16211194.0</td>\n",
       "      <td>17985896.0</td>\n",
       "      <td>19836342.0</td>\n",
       "      <td>19284167.0</td>\n",
       "      <td>17812107.0</td>\n",
       "    </tr>\n",
       "    <tr>\n",
       "      <th>1</th>\n",
       "      <td>World</td>\n",
       "      <td>SI3_AGG - AG - Agricultural products</td>\n",
       "      <td>World</td>\n",
       "      <td>1391529.0</td>\n",
       "      <td>1701893.0</td>\n",
       "      <td>1681611.0</td>\n",
       "      <td>1756648.0</td>\n",
       "      <td>1798003.0</td>\n",
       "      <td>1594510.0</td>\n",
       "      <td>1599989.0</td>\n",
       "      <td>1759978.0</td>\n",
       "      <td>1851346.0</td>\n",
       "      <td>1823105.0</td>\n",
       "      <td>NaN</td>\n",
       "    </tr>\n",
       "    <tr>\n",
       "      <th>2</th>\n",
       "      <td>World</td>\n",
       "      <td>SI3_AGG - AGFO - Food</td>\n",
       "      <td>World</td>\n",
       "      <td>1144082.0</td>\n",
       "      <td>1387912.0</td>\n",
       "      <td>1391766.0</td>\n",
       "      <td>1465158.0</td>\n",
       "      <td>1510854.0</td>\n",
       "      <td>1340065.0</td>\n",
       "      <td>1354624.0</td>\n",
       "      <td>1482990.0</td>\n",
       "      <td>1551785.0</td>\n",
       "      <td>1547817.0</td>\n",
       "      <td>NaN</td>\n",
       "    </tr>\n",
       "    <tr>\n",
       "      <th>3</th>\n",
       "      <td>World</td>\n",
       "      <td>SI3_AGG - MI - Fuels and mining products</td>\n",
       "      <td>World</td>\n",
       "      <td>3183852.0</td>\n",
       "      <td>4278365.0</td>\n",
       "      <td>4227403.0</td>\n",
       "      <td>4208130.0</td>\n",
       "      <td>3874299.0</td>\n",
       "      <td>2489603.0</td>\n",
       "      <td>2124334.0</td>\n",
       "      <td>2755203.0</td>\n",
       "      <td>3408176.0</td>\n",
       "      <td>3168025.0</td>\n",
       "      <td>NaN</td>\n",
       "    </tr>\n",
       "    <tr>\n",
       "      <th>4</th>\n",
       "      <td>World</td>\n",
       "      <td>SI3_AGG - MIFU - Fuels</td>\n",
       "      <td>World</td>\n",
       "      <td>2462969.0</td>\n",
       "      <td>3361172.0</td>\n",
       "      <td>3401742.0</td>\n",
       "      <td>3403308.0</td>\n",
       "      <td>3091267.0</td>\n",
       "      <td>1859835.0</td>\n",
       "      <td>1528358.0</td>\n",
       "      <td>2006039.0</td>\n",
       "      <td>2570707.0</td>\n",
       "      <td>2350244.0</td>\n",
       "      <td>NaN</td>\n",
       "    </tr>\n",
       "  </tbody>\n",
       "</table>\n",
       "</div>"
      ],
      "text/plain": [
       "  Reporting Economy                            Product/Sector Partner Economy  \\\n",
       "0             World          SI3_AGG - TO - Total merchandise           World   \n",
       "1             World      SI3_AGG - AG - Agricultural products           World   \n",
       "2             World                     SI3_AGG - AGFO - Food           World   \n",
       "3             World  SI3_AGG - MI - Fuels and mining products           World   \n",
       "4             World                    SI3_AGG - MIFU - Fuels           World   \n",
       "\n",
       "         2010        2011        2012        2013        2014        2015  \\\n",
       "0  15438092.0  18438364.0  18657296.0  18966119.0  19060809.0  16733507.0   \n",
       "1   1391529.0   1701893.0   1681611.0   1756648.0   1798003.0   1594510.0   \n",
       "2   1144082.0   1387912.0   1391766.0   1465158.0   1510854.0   1340065.0   \n",
       "3   3183852.0   4278365.0   4227403.0   4208130.0   3874299.0   2489603.0   \n",
       "4   2462969.0   3361172.0   3401742.0   3403308.0   3091267.0   1859835.0   \n",
       "\n",
       "         2016        2017        2018        2019        2020  \n",
       "0  16211194.0  17985896.0  19836342.0  19284167.0  17812107.0  \n",
       "1   1599989.0   1759978.0   1851346.0   1823105.0         NaN  \n",
       "2   1354624.0   1482990.0   1551785.0   1547817.0         NaN  \n",
       "3   2124334.0   2755203.0   3408176.0   3168025.0         NaN  \n",
       "4   1528358.0   2006039.0   2570707.0   2350244.0         NaN  "
      ]
     },
     "metadata": {},
     "output_type": "display_data"
    }
   ],
   "source": [
    "# Remove the first 2 rows in the imports dataframe\n",
    "to_drop_rows = renamed_cols_df.index[:2]\n",
    "\n",
    "dropped_rows_df = renamed_cols_df.drop(to_drop_rows).reset_index(drop=True)\n",
    "\n",
    "display(dropped_rows_df.head())"
   ]
  },
  {
   "cell_type": "markdown",
   "metadata": {},
   "source": [
    "#### Treatment of Missing Values"
   ]
  },
  {
   "cell_type": "code",
   "execution_count": 8,
   "metadata": {},
   "outputs": [
    {
     "data": {
      "text/plain": [
       "Reporting Economy       0\n",
       "Product/Sector          0\n",
       "Partner Economy         0\n",
       "2010                  146\n",
       "2011                  109\n",
       "2012                  155\n",
       "2013                  175\n",
       "2014                  186\n",
       "2015                  170\n",
       "2016                  185\n",
       "2017                  151\n",
       "2018                  150\n",
       "2019                  150\n",
       "2020                 3078\n",
       "dtype: int64"
      ]
     },
     "execution_count": 8,
     "metadata": {},
     "output_type": "execute_result"
    }
   ],
   "source": [
    "# Checking for missing values in the import dataset\n",
    "dropped_rows_df.isnull().sum()"
   ]
  },
  {
   "cell_type": "code",
   "execution_count": 9,
   "metadata": {},
   "outputs": [
    {
     "name": "stdout",
     "output_type": "stream",
     "text": [
      "0 value\n"
     ]
    }
   ],
   "source": [
    "# check if we don't have Duplicated values in the dataframe\n",
    "print(dropped_rows_df.duplicated().sum(), 'value')"
   ]
  },
  {
   "cell_type": "code",
   "execution_count": 10,
   "metadata": {},
   "outputs": [],
   "source": [
    "# Dealing with missing values with the fillna function\n",
    "dropped_rows_df = dropped_rows_df.fillna(0)"
   ]
  },
  {
   "cell_type": "code",
   "execution_count": 11,
   "metadata": {},
   "outputs": [
    {
     "name": "stdout",
     "output_type": "stream",
     "text": [
      "---- World import data ----\n"
     ]
    },
    {
     "data": {
      "text/plain": [
       "Reporting Economy    0\n",
       "Product/Sector       0\n",
       "Partner Economy      0\n",
       "2010                 0\n",
       "2011                 0\n",
       "2012                 0\n",
       "2013                 0\n",
       "2014                 0\n",
       "2015                 0\n",
       "2016                 0\n",
       "2017                 0\n",
       "2018                 0\n",
       "2019                 0\n",
       "2020                 0\n",
       "dtype: int64"
      ]
     },
     "metadata": {},
     "output_type": "display_data"
    },
    {
     "name": "stdout",
     "output_type": "stream",
     "text": [
      "---------------\n"
     ]
    },
    {
     "data": {
      "text/plain": [
       "'Now all of our empty values have been successfully filled with 0'"
      ]
     },
     "metadata": {},
     "output_type": "display_data"
    }
   ],
   "source": [
    "print('---- World import data ----')\n",
    "display(dropped_rows_df.isna().sum())\n",
    "\n",
    "\n",
    "print('---------------')\n",
    "display('Now all of our empty values have been successfully filled with 0')"
   ]
  },
  {
   "cell_type": "markdown",
   "metadata": {},
   "source": [
    "#### Final Dataframe"
   ]
  },
  {
   "cell_type": "code",
   "execution_count": 12,
   "metadata": {},
   "outputs": [
    {
     "name": "stdout",
     "output_type": "stream",
     "text": [
      "-------- import old data type --------\n"
     ]
    },
    {
     "data": {
      "text/plain": [
       "Reporting Economy     object\n",
       "Product/Sector        object\n",
       "Partner Economy       object\n",
       "2010                 float64\n",
       "2011                 float64\n",
       "2012                 float64\n",
       "2013                 float64\n",
       "2014                 float64\n",
       "2015                 float64\n",
       "2016                 float64\n",
       "2017                 float64\n",
       "2018                 float64\n",
       "2019                 float64\n",
       "2020                 float64\n",
       "dtype: object"
      ]
     },
     "metadata": {},
     "output_type": "display_data"
    },
    {
     "name": "stdout",
     "output_type": "stream",
     "text": [
      "-------- New import data type --------\n"
     ]
    },
    {
     "data": {
      "text/plain": [
       "Reporting Economy    object\n",
       "Product/Sector       object\n",
       "Partner Economy      object\n",
       "2010                  int32\n",
       "2011                  int32\n",
       "2012                  int32\n",
       "2013                  int32\n",
       "2014                  int32\n",
       "2015                  int32\n",
       "2016                  int32\n",
       "2017                  int32\n",
       "2018                  int32\n",
       "2019                  int32\n",
       "2020                  int32\n",
       "dtype: object"
      ]
     },
     "metadata": {},
     "output_type": "display_data"
    }
   ],
   "source": [
    "# Change date type on both dataset\n",
    "print('-------- import old data type --------')\n",
    "display(dropped_rows_df.dtypes)\n",
    "\n",
    "\n",
    "# Change Float to Integer on both datasets\n",
    "cols = ['2010','2011','2012','2013','2014','2015','2016','2017','2018','2019','2020']\n",
    "\n",
    "dropped_rows_df[cols] = dropped_rows_df[cols].apply(np.int32)\n",
    "\n",
    "\n",
    "print('-------- New import data type --------')\n",
    "display(dropped_rows_df.dtypes)"
   ]
  },
  {
   "cell_type": "code",
   "execution_count": 13,
   "metadata": {},
   "outputs": [
    {
     "name": "stdout",
     "output_type": "stream",
     "text": [
      "------------ Display values in the Product/Sectors on the Import dataset columns ------------\n"
     ]
    },
    {
     "data": {
      "text/plain": [
       "SI3_AGG - TO - Total merchandise                                        207\n",
       "SI3_AGG - MA - Manufactures                                             182\n",
       "SI3_AGG - MACH - Chemicals                                              182\n",
       "SI3_AGG - MI - Fuels and mining products                                182\n",
       "SI3_AGG - MIFU - Fuels                                                  182\n",
       "SI3_AGG - AGFO - Food                                                   182\n",
       "SI3_AGG - MAMT - Machinery and transport equipment                      182\n",
       "SI3_AGG - AG - Agricultural products                                    182\n",
       "SI3_AGG - MACL - Clothing                                               181\n",
       "SI3_AGG - MAMTTE - Transport equipment                                  181\n",
       "SI3_AGG - MAMTAU - Automotive products                                  181\n",
       "SI3_AGG - MAMTOTTL - Telecommunications equipment                       181\n",
       "SI3_AGG - MAIS - Iron and steel                                         181\n",
       "SI3_AGG - MAMTOF - Office and telecom equipment                         181\n",
       "SI3_AGG - MACHPH - Pharmaceuticals                                      180\n",
       "SI3_AGG - MATE - Textiles                                               180\n",
       "SI3_AGG - MAMTOTIC - Integrated circuits and electronic components      179\n",
       "SI3_AGG - MAMTOTEP - Electronic data processing and office equipment    179\n",
       "Name: Product/Sector, dtype: int64"
      ]
     },
     "metadata": {},
     "output_type": "display_data"
    },
    {
     "name": "stdout",
     "output_type": "stream",
     "text": [
      "---- Final import dataframe ----\n"
     ]
    },
    {
     "data": {
      "text/html": [
       "<div>\n",
       "<style scoped>\n",
       "    .dataframe tbody tr th:only-of-type {\n",
       "        vertical-align: middle;\n",
       "    }\n",
       "\n",
       "    .dataframe tbody tr th {\n",
       "        vertical-align: top;\n",
       "    }\n",
       "\n",
       "    .dataframe thead th {\n",
       "        text-align: right;\n",
       "    }\n",
       "</style>\n",
       "<table border=\"1\" class=\"dataframe\">\n",
       "  <thead>\n",
       "    <tr style=\"text-align: right;\">\n",
       "      <th></th>\n",
       "      <th>Reporting Economy</th>\n",
       "      <th>Product/Sector</th>\n",
       "      <th>2010</th>\n",
       "      <th>2011</th>\n",
       "      <th>2012</th>\n",
       "      <th>2013</th>\n",
       "      <th>2014</th>\n",
       "      <th>2015</th>\n",
       "      <th>2016</th>\n",
       "      <th>2017</th>\n",
       "      <th>2018</th>\n",
       "      <th>2019</th>\n",
       "      <th>2020</th>\n",
       "    </tr>\n",
       "  </thead>\n",
       "  <tbody>\n",
       "    <tr>\n",
       "      <th>0</th>\n",
       "      <td>World</td>\n",
       "      <td>Total merchandise</td>\n",
       "      <td>15438092</td>\n",
       "      <td>18438364</td>\n",
       "      <td>18657296</td>\n",
       "      <td>18966119</td>\n",
       "      <td>19060809</td>\n",
       "      <td>16733507</td>\n",
       "      <td>16211194</td>\n",
       "      <td>17985896</td>\n",
       "      <td>19836342</td>\n",
       "      <td>19284167</td>\n",
       "      <td>17812107</td>\n",
       "    </tr>\n",
       "    <tr>\n",
       "      <th>1</th>\n",
       "      <td>World</td>\n",
       "      <td>Agricultural products</td>\n",
       "      <td>1391529</td>\n",
       "      <td>1701893</td>\n",
       "      <td>1681611</td>\n",
       "      <td>1756648</td>\n",
       "      <td>1798003</td>\n",
       "      <td>1594510</td>\n",
       "      <td>1599989</td>\n",
       "      <td>1759978</td>\n",
       "      <td>1851346</td>\n",
       "      <td>1823105</td>\n",
       "      <td>0</td>\n",
       "    </tr>\n",
       "    <tr>\n",
       "      <th>2</th>\n",
       "      <td>World</td>\n",
       "      <td>Food</td>\n",
       "      <td>1144082</td>\n",
       "      <td>1387912</td>\n",
       "      <td>1391766</td>\n",
       "      <td>1465158</td>\n",
       "      <td>1510854</td>\n",
       "      <td>1340065</td>\n",
       "      <td>1354624</td>\n",
       "      <td>1482990</td>\n",
       "      <td>1551785</td>\n",
       "      <td>1547817</td>\n",
       "      <td>0</td>\n",
       "    </tr>\n",
       "    <tr>\n",
       "      <th>3</th>\n",
       "      <td>World</td>\n",
       "      <td>Fuels and mining products</td>\n",
       "      <td>3183852</td>\n",
       "      <td>4278365</td>\n",
       "      <td>4227403</td>\n",
       "      <td>4208130</td>\n",
       "      <td>3874299</td>\n",
       "      <td>2489603</td>\n",
       "      <td>2124334</td>\n",
       "      <td>2755203</td>\n",
       "      <td>3408176</td>\n",
       "      <td>3168025</td>\n",
       "      <td>0</td>\n",
       "    </tr>\n",
       "    <tr>\n",
       "      <th>4</th>\n",
       "      <td>World</td>\n",
       "      <td>Fuels</td>\n",
       "      <td>2462969</td>\n",
       "      <td>3361172</td>\n",
       "      <td>3401742</td>\n",
       "      <td>3403308</td>\n",
       "      <td>3091267</td>\n",
       "      <td>1859835</td>\n",
       "      <td>1528358</td>\n",
       "      <td>2006039</td>\n",
       "      <td>2570707</td>\n",
       "      <td>2350244</td>\n",
       "      <td>0</td>\n",
       "    </tr>\n",
       "  </tbody>\n",
       "</table>\n",
       "</div>"
      ],
      "text/plain": [
       "  Reporting Economy              Product/Sector      2010      2011      2012  \\\n",
       "0             World           Total merchandise  15438092  18438364  18657296   \n",
       "1             World       Agricultural products   1391529   1701893   1681611   \n",
       "2             World                        Food   1144082   1387912   1391766   \n",
       "3             World   Fuels and mining products   3183852   4278365   4227403   \n",
       "4             World                       Fuels   2462969   3361172   3401742   \n",
       "\n",
       "       2013      2014      2015      2016      2017      2018      2019  \\\n",
       "0  18966119  19060809  16733507  16211194  17985896  19836342  19284167   \n",
       "1   1756648   1798003   1594510   1599989   1759978   1851346   1823105   \n",
       "2   1465158   1510854   1340065   1354624   1482990   1551785   1547817   \n",
       "3   4208130   3874299   2489603   2124334   2755203   3408176   3168025   \n",
       "4   3403308   3091267   1859835   1528358   2006039   2570707   2350244   \n",
       "\n",
       "       2020  \n",
       "0  17812107  \n",
       "1         0  \n",
       "2         0  \n",
       "3         0  \n",
       "4         0  "
      ]
     },
     "metadata": {},
     "output_type": "display_data"
    }
   ],
   "source": [
    "print('------------ Display values in the Product/Sectors on the Import dataset columns ------------')\n",
    "display(dropped_rows_df['Product/Sector'].value_counts())\n",
    "\n",
    "# Remove all non use coverage CODE before the last hyphen in all value in the \"Product/sector\" column\n",
    "dropped_rows_df['Product/Sector'] = dropped_rows_df['Product/Sector'].apply(lambda x: x.split('-')[-1])\n",
    "\n",
    "# Also drop the ['Partner Economy']columns\n",
    "df = dropped_rows_df.drop(['Partner Economy'],axis=1)\n",
    "\n",
    "print('---- Final import dataframe ----')\n",
    "display(df.head())"
   ]
  },
  {
   "cell_type": "markdown",
   "metadata": {},
   "source": [
    "<br><br>"
   ]
  },
  {
   "cell_type": "markdown",
   "metadata": {},
   "source": [
    "<h1 align=\"center\"> Analytical Transformations </h1>"
   ]
  },
  {
   "cell_type": "code",
   "execution_count": 14,
   "metadata": {},
   "outputs": [],
   "source": [
    "# Perform any transformation on the columns in the dataset to enable further analysis.\n",
    "df_melt = df.copy()"
   ]
  },
  {
   "cell_type": "code",
   "execution_count": 29,
   "metadata": {},
   "outputs": [],
   "source": [
    "# Melt the Dataframe\n",
    "df_melt = pd.melt(frame=df, \n",
    "                  id_vars=['Product/Sector','Reporting Economy'], \n",
    "                  var_name='Year', \n",
    "                  value_name=\"Million US dollar\")\n",
    "\n",
    "# Reshape the dataframe using pivot_table\n",
    "reshape = df_melt.pivot_table(columns='Product/Sector',\n",
    "                             index=['Year','Reporting Economy'],\n",
    "                             values=\"Million US dollar\").fillna(0)\n",
    "\n",
    "# Convert the new dataframe to int\n",
    "reshape = reshape.astype(int)\n",
    "\n",
    "# Reset the index to have a beautifull dataframe\n",
    "reshape = reshape.reset_index()\n",
    "\n",
    "# Remove Index name\n",
    "reshape = reshape.rename_axis(None, axis=1)"
   ]
  },
  {
   "cell_type": "code",
   "execution_count": 33,
   "metadata": {},
   "outputs": [
    {
     "data": {
      "text/html": [
       "<div>\n",
       "<style scoped>\n",
       "    .dataframe tbody tr th:only-of-type {\n",
       "        vertical-align: middle;\n",
       "    }\n",
       "\n",
       "    .dataframe tbody tr th {\n",
       "        vertical-align: top;\n",
       "    }\n",
       "\n",
       "    .dataframe thead th {\n",
       "        text-align: right;\n",
       "    }\n",
       "</style>\n",
       "<table border=\"1\" class=\"dataframe\">\n",
       "  <thead>\n",
       "    <tr style=\"text-align: right;\">\n",
       "      <th></th>\n",
       "      <th>Year</th>\n",
       "      <th>Reporting Economy</th>\n",
       "      <th>Agricultural products</th>\n",
       "      <th>Automotive products</th>\n",
       "      <th>Chemicals</th>\n",
       "      <th>Clothing</th>\n",
       "      <th>Electronic data processing and office equipment</th>\n",
       "      <th>Food</th>\n",
       "      <th>Fuels</th>\n",
       "      <th>Fuels and mining products</th>\n",
       "      <th>Integrated circuits and electronic components</th>\n",
       "      <th>Iron and steel</th>\n",
       "      <th>Machinery and transport equipment</th>\n",
       "      <th>Manufactures</th>\n",
       "      <th>Office and telecom equipment</th>\n",
       "      <th>Pharmaceuticals</th>\n",
       "      <th>Telecommunications equipment</th>\n",
       "      <th>Textiles</th>\n",
       "      <th>Total merchandise</th>\n",
       "      <th>Transport equipment</th>\n",
       "    </tr>\n",
       "  </thead>\n",
       "  <tbody>\n",
       "    <tr>\n",
       "      <th>0</th>\n",
       "      <td>2010</td>\n",
       "      <td>Afghanistan</td>\n",
       "      <td>706</td>\n",
       "      <td>193</td>\n",
       "      <td>82</td>\n",
       "      <td>12</td>\n",
       "      <td>0</td>\n",
       "      <td>706</td>\n",
       "      <td>1075</td>\n",
       "      <td>1090</td>\n",
       "      <td>0</td>\n",
       "      <td>42</td>\n",
       "      <td>339</td>\n",
       "      <td>984</td>\n",
       "      <td>19</td>\n",
       "      <td>0</td>\n",
       "      <td>19</td>\n",
       "      <td>118</td>\n",
       "      <td>5154</td>\n",
       "      <td>197</td>\n",
       "    </tr>\n",
       "    <tr>\n",
       "      <th>1</th>\n",
       "      <td>2010</td>\n",
       "      <td>Albania</td>\n",
       "      <td>872</td>\n",
       "      <td>217</td>\n",
       "      <td>464</td>\n",
       "      <td>173</td>\n",
       "      <td>63</td>\n",
       "      <td>826</td>\n",
       "      <td>635</td>\n",
       "      <td>802</td>\n",
       "      <td>14</td>\n",
       "      <td>209</td>\n",
       "      <td>875</td>\n",
       "      <td>2731</td>\n",
       "      <td>176</td>\n",
       "      <td>155</td>\n",
       "      <td>99</td>\n",
       "      <td>168</td>\n",
       "      <td>4406</td>\n",
       "      <td>241</td>\n",
       "    </tr>\n",
       "    <tr>\n",
       "      <th>2</th>\n",
       "      <td>2010</td>\n",
       "      <td>Algeria</td>\n",
       "      <td>7350</td>\n",
       "      <td>3981</td>\n",
       "      <td>4452</td>\n",
       "      <td>183</td>\n",
       "      <td>520</td>\n",
       "      <td>6683</td>\n",
       "      <td>867</td>\n",
       "      <td>1493</td>\n",
       "      <td>96</td>\n",
       "      <td>5235</td>\n",
       "      <td>16716</td>\n",
       "      <td>31367</td>\n",
       "      <td>1215</td>\n",
       "      <td>1719</td>\n",
       "      <td>599</td>\n",
       "      <td>351</td>\n",
       "      <td>40473</td>\n",
       "      <td>5108</td>\n",
       "    </tr>\n",
       "    <tr>\n",
       "      <th>3</th>\n",
       "      <td>2010</td>\n",
       "      <td>Andorra</td>\n",
       "      <td>0</td>\n",
       "      <td>0</td>\n",
       "      <td>0</td>\n",
       "      <td>0</td>\n",
       "      <td>0</td>\n",
       "      <td>0</td>\n",
       "      <td>0</td>\n",
       "      <td>0</td>\n",
       "      <td>0</td>\n",
       "      <td>0</td>\n",
       "      <td>0</td>\n",
       "      <td>0</td>\n",
       "      <td>0</td>\n",
       "      <td>0</td>\n",
       "      <td>0</td>\n",
       "      <td>0</td>\n",
       "      <td>0</td>\n",
       "      <td>0</td>\n",
       "    </tr>\n",
       "    <tr>\n",
       "      <th>4</th>\n",
       "      <td>2010</td>\n",
       "      <td>Angola</td>\n",
       "      <td>2882</td>\n",
       "      <td>1204</td>\n",
       "      <td>963</td>\n",
       "      <td>127</td>\n",
       "      <td>174</td>\n",
       "      <td>2764</td>\n",
       "      <td>3105</td>\n",
       "      <td>3233</td>\n",
       "      <td>19</td>\n",
       "      <td>1046</td>\n",
       "      <td>6475</td>\n",
       "      <td>10521</td>\n",
       "      <td>561</td>\n",
       "      <td>148</td>\n",
       "      <td>369</td>\n",
       "      <td>108</td>\n",
       "      <td>16667</td>\n",
       "      <td>2090</td>\n",
       "    </tr>\n",
       "  </tbody>\n",
       "</table>\n",
       "</div>"
      ],
      "text/plain": [
       "   Year Reporting Economy   Agricultural products   Automotive products  \\\n",
       "0  2010       Afghanistan                     706                   193   \n",
       "1  2010           Albania                     872                   217   \n",
       "2  2010           Algeria                    7350                  3981   \n",
       "3  2010           Andorra                       0                     0   \n",
       "4  2010            Angola                    2882                  1204   \n",
       "\n",
       "    Chemicals   Clothing   Electronic data processing and office equipment  \\\n",
       "0          82         12                                                 0   \n",
       "1         464        173                                                63   \n",
       "2        4452        183                                               520   \n",
       "3           0          0                                                 0   \n",
       "4         963        127                                               174   \n",
       "\n",
       "    Food   Fuels   Fuels and mining products  \\\n",
       "0    706    1075                        1090   \n",
       "1    826     635                         802   \n",
       "2   6683     867                        1493   \n",
       "3      0       0                           0   \n",
       "4   2764    3105                        3233   \n",
       "\n",
       "    Integrated circuits and electronic components   Iron and steel  \\\n",
       "0                                               0               42   \n",
       "1                                              14              209   \n",
       "2                                              96             5235   \n",
       "3                                               0                0   \n",
       "4                                              19             1046   \n",
       "\n",
       "    Machinery and transport equipment   Manufactures  \\\n",
       "0                                 339            984   \n",
       "1                                 875           2731   \n",
       "2                               16716          31367   \n",
       "3                                   0              0   \n",
       "4                                6475          10521   \n",
       "\n",
       "    Office and telecom equipment   Pharmaceuticals  \\\n",
       "0                             19                 0   \n",
       "1                            176               155   \n",
       "2                           1215              1719   \n",
       "3                              0                 0   \n",
       "4                            561               148   \n",
       "\n",
       "    Telecommunications equipment   Textiles   Total merchandise  \\\n",
       "0                             19        118                5154   \n",
       "1                             99        168                4406   \n",
       "2                            599        351               40473   \n",
       "3                              0          0                   0   \n",
       "4                            369        108               16667   \n",
       "\n",
       "    Transport equipment  \n",
       "0                   197  \n",
       "1                   241  \n",
       "2                  5108  \n",
       "3                     0  \n",
       "4                  2090  "
      ]
     },
     "execution_count": 33,
     "metadata": {},
     "output_type": "execute_result"
    }
   ],
   "source": [
    "# Display our new dataframe\n",
    "reshape.head(5)"
   ]
  },
  {
   "cell_type": "markdown",
   "metadata": {},
   "source": [
    "# <h1 align=\"center\"> Data Analysis </h1>"
   ]
  },
  {
   "cell_type": "markdown",
   "metadata": {},
   "source": [
    "#### Descriptive Statistical Analysis"
   ]
  },
  {
   "cell_type": "code",
   "execution_count": null,
   "metadata": {},
   "outputs": [],
   "source": [
    "# Using basic statistical measures such as measurements of central tendancy such as mean, median and mode."
   ]
  },
  {
   "cell_type": "code",
   "execution_count": null,
   "metadata": {},
   "outputs": [],
   "source": [
    "# Find the average for each numeric columns\n",
    "df.mean()"
   ]
  },
  {
   "cell_type": "code",
   "execution_count": null,
   "metadata": {},
   "outputs": [],
   "source": [
    "# Describe\n",
    "df.describe()"
   ]
  },
  {
   "cell_type": "code",
   "execution_count": null,
   "metadata": {},
   "outputs": [],
   "source": [
    "df.corr()"
   ]
  },
  {
   "cell_type": "code",
   "execution_count": null,
   "metadata": {},
   "outputs": [],
   "source": [
    "# Make a pairwise scatterplot"
   ]
  },
  {
   "cell_type": "markdown",
   "metadata": {},
   "source": [
    "#### Distribution of Variables"
   ]
  },
  {
   "cell_type": "code",
   "execution_count": null,
   "metadata": {},
   "outputs": [],
   "source": [
    "# Identify the distribution of the data to understand the range of values and how the data is structured."
   ]
  },
  {
   "cell_type": "code",
   "execution_count": null,
   "metadata": {},
   "outputs": [],
   "source": []
  },
  {
   "cell_type": "code",
   "execution_count": null,
   "metadata": {},
   "outputs": [],
   "source": []
  },
  {
   "cell_type": "markdown",
   "metadata": {},
   "source": [
    "#### Outliers in the dataset"
   ]
  },
  {
   "cell_type": "code",
   "execution_count": null,
   "metadata": {},
   "outputs": [],
   "source": [
    "# Identify if there are any outliers in the dataset based on statistical measures."
   ]
  },
  {
   "cell_type": "code",
   "execution_count": null,
   "metadata": {},
   "outputs": [],
   "source": []
  },
  {
   "cell_type": "code",
   "execution_count": null,
   "metadata": {},
   "outputs": [],
   "source": []
  },
  {
   "cell_type": "markdown",
   "metadata": {},
   "source": [
    "<br><br>"
   ]
  },
  {
   "cell_type": "markdown",
   "metadata": {},
   "source": [
    "<h1 align=\"center\"> Reflections </h1>"
   ]
  },
  {
   "cell_type": "markdown",
   "metadata": {},
   "source": [
    "#### Summary of Data Analysis"
   ]
  },
  {
   "cell_type": "code",
   "execution_count": null,
   "metadata": {},
   "outputs": [],
   "source": [
    "# What insights should the user takeaway from EDA."
   ]
  },
  {
   "cell_type": "code",
   "execution_count": null,
   "metadata": {},
   "outputs": [],
   "source": []
  },
  {
   "cell_type": "code",
   "execution_count": null,
   "metadata": {},
   "outputs": [],
   "source": []
  },
  {
   "cell_type": "markdown",
   "metadata": {},
   "source": [
    "#### Questions unanswered"
   ]
  },
  {
   "cell_type": "code",
   "execution_count": null,
   "metadata": {},
   "outputs": [],
   "source": [
    "# What aspects of the research question were we unable to answer and why?"
   ]
  },
  {
   "cell_type": "code",
   "execution_count": null,
   "metadata": {},
   "outputs": [],
   "source": []
  },
  {
   "cell_type": "code",
   "execution_count": null,
   "metadata": {},
   "outputs": [],
   "source": []
  },
  {
   "cell_type": "markdown",
   "metadata": {},
   "source": [
    "#### Recommendations"
   ]
  },
  {
   "cell_type": "code",
   "execution_count": null,
   "metadata": {},
   "outputs": [],
   "source": [
    "# Identify if there are any outliers in the dataset based on statistical measures."
   ]
  },
  {
   "cell_type": "code",
   "execution_count": null,
   "metadata": {},
   "outputs": [],
   "source": []
  },
  {
   "cell_type": "code",
   "execution_count": null,
   "metadata": {},
   "outputs": [],
   "source": []
  },
  {
   "cell_type": "markdown",
   "metadata": {},
   "source": [
    "#### Next Steps"
   ]
  },
  {
   "cell_type": "code",
   "execution_count": null,
   "metadata": {},
   "outputs": [],
   "source": [
    "# What will the analyst do next based on the analysis?"
   ]
  },
  {
   "cell_type": "code",
   "execution_count": null,
   "metadata": {},
   "outputs": [],
   "source": []
  },
  {
   "cell_type": "code",
   "execution_count": null,
   "metadata": {},
   "outputs": [],
   "source": []
  }
 ],
 "metadata": {
  "interpreter": {
   "hash": "aee8b7b246df8f9039afb4144a1f6fd8d2ca17a180786b69acc140d282b71a49"
  },
  "kernelspec": {
   "display_name": "Python 3",
   "language": "python",
   "name": "python3"
  },
  "language_info": {
   "codemirror_mode": {
    "name": "ipython",
    "version": 3
   },
   "file_extension": ".py",
   "mimetype": "text/x-python",
   "name": "python",
   "nbconvert_exporter": "python",
   "pygments_lexer": "ipython3",
   "version": "3.8.5"
  }
 },
 "nbformat": 4,
 "nbformat_minor": 4
}
