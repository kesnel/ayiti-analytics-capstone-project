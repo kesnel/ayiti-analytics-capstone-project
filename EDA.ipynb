{
 "cells": [
  {
   "cell_type": "markdown",
   "metadata": {},
   "source": [
    "<h1 align=\"center\"> Project Setup </h1>"
   ]
  },
  {
   "cell_type": "markdown",
   "metadata": {},
   "source": [
    "#### Install all requirements for the project"
   ]
  },
  {
   "cell_type": "code",
   "execution_count": 1,
   "metadata": {},
   "outputs": [
    {
     "name": "stdout",
     "output_type": "stream",
     "text": [
      "--- Upgrading pip ---\n",
      "Requirement already satisfied: pip in /Users/kesnel/opt/anaconda3/lib/python3.8/site-packages (21.2.4)\n",
      "--- Cheking pip version ---\n",
      "pip 21.2.4 from /Users/kesnel/opt/anaconda3/lib/python3.8/site-packages/pip (python 3.8)\n"
     ]
    }
   ],
   "source": [
    "print('--- Upgrading pip ---')\n",
    "!pip install --upgrade pip\n",
    "print('--- Cheking pip version ---')\n",
    "!pip --version"
   ]
  },
  {
   "cell_type": "markdown",
   "metadata": {},
   "source": [
    "#### Importing Dependencies"
   ]
  },
  {
   "cell_type": "code",
   "execution_count": 2,
   "metadata": {},
   "outputs": [],
   "source": [
    "import os\n",
    "import sys\n",
    "\n",
    "import numpy as np\n",
    "import pandas as pd\n",
    "import matplotlib.pyplot as plt\n",
    "import seaborn as sns\n",
    "\n",
    "from sklearn.cluster import KMeans"
   ]
  },
  {
   "cell_type": "markdown",
   "metadata": {},
   "source": [
    "#### Importing Datasets"
   ]
  },
  {
   "cell_type": "code",
   "execution_count": 3,
   "metadata": {},
   "outputs": [],
   "source": [
    "# Display all columns in the DataFrame using pandas settings\n",
    "pd.set_option('display.max_columns', None)"
   ]
  },
  {
   "cell_type": "code",
   "execution_count": 4,
   "metadata": {},
   "outputs": [],
   "source": [
    "df = pd.read_excel('data/WtoData_import_by_countries.xlsx')"
   ]
  },
  {
   "cell_type": "markdown",
   "metadata": {},
   "source": [
    "<br><br>"
   ]
  },
  {
   "cell_type": "markdown",
   "metadata": {},
   "source": [
    "<h1 align=\"center\"> Summary</h1>"
   ]
  },
  {
   "cell_type": "markdown",
   "metadata": {},
   "source": [
    "### Objective"
   ]
  },
  {
   "cell_type": "markdown",
   "metadata": {},
   "source": [
    "What is the objective or goal that you are trying to accomplish? What is the decision that you must make?"
   ]
  },
  {
   "cell_type": "markdown",
   "metadata": {},
   "source": [
    "<hr>"
   ]
  },
  {
   "cell_type": "markdown",
   "metadata": {},
   "source": [
    "### Hypothesis: Research Question?"
   ]
  },
  {
   "cell_type": "markdown",
   "metadata": {},
   "source": [
    "What is the question that you would like to answer in order to make a decision."
   ]
  },
  {
   "cell_type": "markdown",
   "metadata": {},
   "source": [
    "<hr>"
   ]
  },
  {
   "cell_type": "markdown",
   "metadata": {},
   "source": [
    "### Data Source"
   ]
  },
  {
   "cell_type": "markdown",
   "metadata": {},
   "source": [
    "Explain where did you get the data. How can you trust this data? Who produced this data and what were their motiviations?"
   ]
  },
  {
   "cell_type": "markdown",
   "metadata": {},
   "source": [
    "<br><br>"
   ]
  },
  {
   "cell_type": "markdown",
   "metadata": {},
   "source": [
    "<h1 align=\"center\"> Data Cleaning </h1>"
   ]
  },
  {
   "cell_type": "markdown",
   "metadata": {},
   "source": [
    "#### Data Overview"
   ]
  },
  {
   "cell_type": "code",
   "execution_count": 5,
   "metadata": {},
   "outputs": [
    {
     "data": {
      "text/html": [
       "<div>\n",
       "<style scoped>\n",
       "    .dataframe tbody tr th:only-of-type {\n",
       "        vertical-align: middle;\n",
       "    }\n",
       "\n",
       "    .dataframe tbody tr th {\n",
       "        vertical-align: top;\n",
       "    }\n",
       "\n",
       "    .dataframe thead th {\n",
       "        text-align: right;\n",
       "    }\n",
       "</style>\n",
       "<table border=\"1\" class=\"dataframe\">\n",
       "  <thead>\n",
       "    <tr style=\"text-align: right;\">\n",
       "      <th></th>\n",
       "      <th>Indicator</th>\n",
       "      <th>Merchandise imports by product group – annual (Million US dollar)</th>\n",
       "      <th>Unnamed: 2</th>\n",
       "      <th>Unnamed: 3</th>\n",
       "      <th>Unnamed: 4</th>\n",
       "      <th>Unnamed: 5</th>\n",
       "      <th>Unnamed: 6</th>\n",
       "      <th>Unnamed: 7</th>\n",
       "      <th>Unnamed: 8</th>\n",
       "      <th>Unnamed: 9</th>\n",
       "      <th>Unnamed: 10</th>\n",
       "      <th>Unnamed: 11</th>\n",
       "      <th>Unnamed: 12</th>\n",
       "      <th>Unnamed: 13</th>\n",
       "      <th>Unnamed: 14</th>\n",
       "      <th>Unnamed: 15</th>\n",
       "      <th>Unnamed: 16</th>\n",
       "      <th>Unnamed: 17</th>\n",
       "      <th>Unnamed: 18</th>\n",
       "      <th>Unnamed: 19</th>\n",
       "      <th>Unnamed: 20</th>\n",
       "      <th>Unnamed: 21</th>\n",
       "      <th>Unnamed: 22</th>\n",
       "      <th>Unnamed: 23</th>\n",
       "    </tr>\n",
       "  </thead>\n",
       "  <tbody>\n",
       "    <tr>\n",
       "      <th>0</th>\n",
       "      <td>NaN</td>\n",
       "      <td>NaN</td>\n",
       "      <td>NaN</td>\n",
       "      <td>NaN</td>\n",
       "      <td>NaN</td>\n",
       "      <td>NaN</td>\n",
       "      <td>NaN</td>\n",
       "      <td>NaN</td>\n",
       "      <td>NaN</td>\n",
       "      <td>NaN</td>\n",
       "      <td>NaN</td>\n",
       "      <td>NaN</td>\n",
       "      <td>NaN</td>\n",
       "      <td>NaN</td>\n",
       "      <td>NaN</td>\n",
       "      <td>NaN</td>\n",
       "      <td>NaN</td>\n",
       "      <td>NaN</td>\n",
       "      <td>NaN</td>\n",
       "      <td>NaN</td>\n",
       "      <td>NaN</td>\n",
       "      <td>NaN</td>\n",
       "      <td>NaN</td>\n",
       "      <td>NaN</td>\n",
       "    </tr>\n",
       "    <tr>\n",
       "      <th>1</th>\n",
       "      <td>Reporting Economy</td>\n",
       "      <td>Product/Sector</td>\n",
       "      <td>Partner Economy</td>\n",
       "      <td>2000.0</td>\n",
       "      <td>2001.0</td>\n",
       "      <td>2002.0</td>\n",
       "      <td>2003.0</td>\n",
       "      <td>2004.0</td>\n",
       "      <td>2005.0</td>\n",
       "      <td>2006.0</td>\n",
       "      <td>2007.0</td>\n",
       "      <td>2008.0</td>\n",
       "      <td>2009.0</td>\n",
       "      <td>2010.0</td>\n",
       "      <td>2011.0</td>\n",
       "      <td>2012.0</td>\n",
       "      <td>2013.0</td>\n",
       "      <td>2014.0</td>\n",
       "      <td>2015.0</td>\n",
       "      <td>2016.0</td>\n",
       "      <td>2017.0</td>\n",
       "      <td>2018.0</td>\n",
       "      <td>2019.0</td>\n",
       "      <td>2020.0</td>\n",
       "    </tr>\n",
       "    <tr>\n",
       "      <th>2</th>\n",
       "      <td>World</td>\n",
       "      <td>SI3_AGG - TO - Total merchandise</td>\n",
       "      <td>World</td>\n",
       "      <td>6647491.0</td>\n",
       "      <td>6406946.0</td>\n",
       "      <td>6656539.0</td>\n",
       "      <td>7771071.0</td>\n",
       "      <td>9473361.0</td>\n",
       "      <td>10785263.0</td>\n",
       "      <td>12368788.0</td>\n",
       "      <td>14268847.0</td>\n",
       "      <td>16496984.0</td>\n",
       "      <td>12714737.0</td>\n",
       "      <td>15438092.0</td>\n",
       "      <td>18438364.0</td>\n",
       "      <td>18657296.0</td>\n",
       "      <td>18966119.0</td>\n",
       "      <td>19060809.0</td>\n",
       "      <td>16733507.0</td>\n",
       "      <td>16211194.0</td>\n",
       "      <td>17985896.0</td>\n",
       "      <td>19836342.0</td>\n",
       "      <td>19284167.0</td>\n",
       "      <td>17812107.0</td>\n",
       "    </tr>\n",
       "    <tr>\n",
       "      <th>3</th>\n",
       "      <td>World</td>\n",
       "      <td>SI3_AGG - AG - Agricultural products</td>\n",
       "      <td>World</td>\n",
       "      <td>593983.0</td>\n",
       "      <td>592783.0</td>\n",
       "      <td>629944.0</td>\n",
       "      <td>729839.0</td>\n",
       "      <td>842060.0</td>\n",
       "      <td>898926.0</td>\n",
       "      <td>981757.0</td>\n",
       "      <td>1184138.0</td>\n",
       "      <td>1400442.0</td>\n",
       "      <td>1216279.0</td>\n",
       "      <td>1391529.0</td>\n",
       "      <td>1701893.0</td>\n",
       "      <td>1681611.0</td>\n",
       "      <td>1756648.0</td>\n",
       "      <td>1798003.0</td>\n",
       "      <td>1594510.0</td>\n",
       "      <td>1599989.0</td>\n",
       "      <td>1759978.0</td>\n",
       "      <td>1851346.0</td>\n",
       "      <td>1823105.0</td>\n",
       "      <td>NaN</td>\n",
       "    </tr>\n",
       "  </tbody>\n",
       "</table>\n",
       "</div>"
      ],
      "text/plain": [
       "           Indicator  \\\n",
       "0                NaN   \n",
       "1  Reporting Economy   \n",
       "2              World   \n",
       "3              World   \n",
       "\n",
       "    Merchandise imports by product group – annual (Million US dollar)  \\\n",
       "0                                                NaN                    \n",
       "1                                     Product/Sector                    \n",
       "2                   SI3_AGG - TO - Total merchandise                    \n",
       "3               SI3_AGG - AG - Agricultural products                    \n",
       "\n",
       "        Unnamed: 2  Unnamed: 3  Unnamed: 4  Unnamed: 5  Unnamed: 6  \\\n",
       "0              NaN         NaN         NaN         NaN         NaN   \n",
       "1  Partner Economy      2000.0      2001.0      2002.0      2003.0   \n",
       "2            World   6647491.0   6406946.0   6656539.0   7771071.0   \n",
       "3            World    593983.0    592783.0    629944.0    729839.0   \n",
       "\n",
       "   Unnamed: 7  Unnamed: 8  Unnamed: 9  Unnamed: 10  Unnamed: 11  Unnamed: 12  \\\n",
       "0         NaN         NaN         NaN          NaN          NaN          NaN   \n",
       "1      2004.0      2005.0      2006.0       2007.0       2008.0       2009.0   \n",
       "2   9473361.0  10785263.0  12368788.0   14268847.0   16496984.0   12714737.0   \n",
       "3    842060.0    898926.0    981757.0    1184138.0    1400442.0    1216279.0   \n",
       "\n",
       "   Unnamed: 13  Unnamed: 14  Unnamed: 15  Unnamed: 16  Unnamed: 17  \\\n",
       "0          NaN          NaN          NaN          NaN          NaN   \n",
       "1       2010.0       2011.0       2012.0       2013.0       2014.0   \n",
       "2   15438092.0   18438364.0   18657296.0   18966119.0   19060809.0   \n",
       "3    1391529.0    1701893.0    1681611.0    1756648.0    1798003.0   \n",
       "\n",
       "   Unnamed: 18  Unnamed: 19  Unnamed: 20  Unnamed: 21  Unnamed: 22  \\\n",
       "0          NaN          NaN          NaN          NaN          NaN   \n",
       "1       2015.0       2016.0       2017.0       2018.0       2019.0   \n",
       "2   16733507.0   16211194.0   17985896.0   19836342.0   19284167.0   \n",
       "3    1594510.0    1599989.0    1759978.0    1851346.0    1823105.0   \n",
       "\n",
       "   Unnamed: 23  \n",
       "0          NaN  \n",
       "1       2020.0  \n",
       "2   17812107.0  \n",
       "3          NaN  "
      ]
     },
     "execution_count": 5,
     "metadata": {},
     "output_type": "execute_result"
    }
   ],
   "source": [
    "# Displaying the dataframe\n",
    "df.head(4)"
   ]
  },
  {
   "cell_type": "code",
   "execution_count": 6,
   "metadata": {},
   "outputs": [
    {
     "name": "stdout",
     "output_type": "stream",
     "text": [
      "------------------------------ Shape ------------------------------\n",
      "The dataset has 3580 Rows and 24 columns\n",
      "------------------------------ Columns ------------------------------\n"
     ]
    },
    {
     "data": {
      "text/plain": [
       "Index(['Indicator',\n",
       "       '  Merchandise imports by product group – annual (Million US dollar)',\n",
       "       'Unnamed: 2', 'Unnamed: 3', 'Unnamed: 4', 'Unnamed: 5', 'Unnamed: 6',\n",
       "       'Unnamed: 7', 'Unnamed: 8', 'Unnamed: 9', 'Unnamed: 10', 'Unnamed: 11',\n",
       "       'Unnamed: 12', 'Unnamed: 13', 'Unnamed: 14', 'Unnamed: 15',\n",
       "       'Unnamed: 16', 'Unnamed: 17', 'Unnamed: 18', 'Unnamed: 19',\n",
       "       'Unnamed: 20', 'Unnamed: 21', 'Unnamed: 22', 'Unnamed: 23'],\n",
       "      dtype='object')"
      ]
     },
     "metadata": {},
     "output_type": "display_data"
    },
    {
     "name": "stdout",
     "output_type": "stream",
     "text": [
      "------------------------------ Data types ------------------------------\n"
     ]
    },
    {
     "data": {
      "text/plain": [
       "Indicator                                                               object\n",
       "  Merchandise imports by product group – annual (Million US dollar)     object\n",
       "Unnamed: 2                                                              object\n",
       "Unnamed: 3                                                             float64\n",
       "Unnamed: 4                                                             float64\n",
       "Unnamed: 5                                                             float64\n",
       "Unnamed: 6                                                             float64\n",
       "Unnamed: 7                                                             float64\n",
       "Unnamed: 8                                                             float64\n",
       "Unnamed: 9                                                             float64\n",
       "Unnamed: 10                                                            float64\n",
       "Unnamed: 11                                                            float64\n",
       "Unnamed: 12                                                            float64\n",
       "Unnamed: 13                                                            float64\n",
       "Unnamed: 14                                                            float64\n",
       "Unnamed: 15                                                            float64\n",
       "Unnamed: 16                                                            float64\n",
       "Unnamed: 17                                                            float64\n",
       "Unnamed: 18                                                            float64\n",
       "Unnamed: 19                                                            float64\n",
       "Unnamed: 20                                                            float64\n",
       "Unnamed: 21                                                            float64\n",
       "Unnamed: 22                                                            float64\n",
       "Unnamed: 23                                                            float64\n",
       "dtype: object"
      ]
     },
     "metadata": {},
     "output_type": "display_data"
    },
    {
     "name": "stdout",
     "output_type": "stream",
     "text": [
      "------------------------------ Info ------------------------------\n",
      "<class 'pandas.core.frame.DataFrame'>\n",
      "RangeIndex: 3580 entries, 0 to 3579\n",
      "Data columns (total 24 columns):\n",
      " #   Column                                                               Non-Null Count  Dtype  \n",
      "---  ------                                                               --------------  -----  \n",
      " 0   Indicator                                                            3579 non-null   object \n",
      " 1     Merchandise imports by product group – annual (Million US dollar)  3579 non-null   object \n",
      " 2   Unnamed: 2                                                           3579 non-null   object \n",
      " 3   Unnamed: 3                                                           3021 non-null   float64\n",
      " 4   Unnamed: 4                                                           3072 non-null   float64\n",
      " 5   Unnamed: 5                                                           3107 non-null   float64\n",
      " 6   Unnamed: 6                                                           3182 non-null   float64\n",
      " 7   Unnamed: 7                                                           3202 non-null   float64\n",
      " 8   Unnamed: 8                                                           3209 non-null   float64\n",
      " 9   Unnamed: 9                                                           3187 non-null   float64\n",
      " 10  Unnamed: 10                                                          3226 non-null   float64\n",
      " 11  Unnamed: 11                                                          3253 non-null   float64\n",
      " 12  Unnamed: 12                                                          3245 non-null   float64\n",
      " 13  Unnamed: 13                                                          3313 non-null   float64\n",
      " 14  Unnamed: 14                                                          3349 non-null   float64\n",
      " 15  Unnamed: 15                                                          3303 non-null   float64\n",
      " 16  Unnamed: 16                                                          3283 non-null   float64\n",
      " 17  Unnamed: 17                                                          3272 non-null   float64\n",
      " 18  Unnamed: 18                                                          3288 non-null   float64\n",
      " 19  Unnamed: 19                                                          3274 non-null   float64\n",
      " 20  Unnamed: 20                                                          3307 non-null   float64\n",
      " 21  Unnamed: 21                                                          3308 non-null   float64\n",
      " 22  Unnamed: 22                                                          3308 non-null   float64\n",
      " 23  Unnamed: 23                                                          261 non-null    float64\n",
      "dtypes: float64(21), object(3)\n",
      "memory usage: 671.4+ KB\n"
     ]
    },
    {
     "data": {
      "text/plain": [
       "None"
      ]
     },
     "metadata": {},
     "output_type": "display_data"
    },
    {
     "name": "stdout",
     "output_type": "stream",
     "text": [
      "------------------------------ Describe ------------------------------\n"
     ]
    },
    {
     "data": {
      "text/html": [
       "<div>\n",
       "<style scoped>\n",
       "    .dataframe tbody tr th:only-of-type {\n",
       "        vertical-align: middle;\n",
       "    }\n",
       "\n",
       "    .dataframe tbody tr th {\n",
       "        vertical-align: top;\n",
       "    }\n",
       "\n",
       "    .dataframe thead th {\n",
       "        text-align: right;\n",
       "    }\n",
       "</style>\n",
       "<table border=\"1\" class=\"dataframe\">\n",
       "  <thead>\n",
       "    <tr style=\"text-align: right;\">\n",
       "      <th></th>\n",
       "      <th>Unnamed: 3</th>\n",
       "      <th>Unnamed: 4</th>\n",
       "      <th>Unnamed: 5</th>\n",
       "      <th>Unnamed: 6</th>\n",
       "      <th>Unnamed: 7</th>\n",
       "      <th>Unnamed: 8</th>\n",
       "      <th>Unnamed: 9</th>\n",
       "      <th>Unnamed: 10</th>\n",
       "      <th>Unnamed: 11</th>\n",
       "      <th>Unnamed: 12</th>\n",
       "      <th>Unnamed: 13</th>\n",
       "      <th>Unnamed: 14</th>\n",
       "      <th>Unnamed: 15</th>\n",
       "      <th>Unnamed: 16</th>\n",
       "      <th>Unnamed: 17</th>\n",
       "      <th>Unnamed: 18</th>\n",
       "      <th>Unnamed: 19</th>\n",
       "      <th>Unnamed: 20</th>\n",
       "      <th>Unnamed: 21</th>\n",
       "      <th>Unnamed: 22</th>\n",
       "      <th>Unnamed: 23</th>\n",
       "    </tr>\n",
       "  </thead>\n",
       "  <tbody>\n",
       "    <tr>\n",
       "      <th>count</th>\n",
       "      <td>3.021000e+03</td>\n",
       "      <td>3.072000e+03</td>\n",
       "      <td>3.107000e+03</td>\n",
       "      <td>3.182000e+03</td>\n",
       "      <td>3.202000e+03</td>\n",
       "      <td>3.209000e+03</td>\n",
       "      <td>3.187000e+03</td>\n",
       "      <td>3.226000e+03</td>\n",
       "      <td>3.253000e+03</td>\n",
       "      <td>3.245000e+03</td>\n",
       "      <td>3.313000e+03</td>\n",
       "      <td>3.349000e+03</td>\n",
       "      <td>3.303000e+03</td>\n",
       "      <td>3.283000e+03</td>\n",
       "      <td>3.272000e+03</td>\n",
       "      <td>3.288000e+03</td>\n",
       "      <td>3.274000e+03</td>\n",
       "      <td>3.307000e+03</td>\n",
       "      <td>3.308000e+03</td>\n",
       "      <td>3.308000e+03</td>\n",
       "      <td>2.610000e+02</td>\n",
       "    </tr>\n",
       "    <tr>\n",
       "      <th>mean</th>\n",
       "      <td>2.902974e+04</td>\n",
       "      <td>2.752395e+04</td>\n",
       "      <td>2.843011e+04</td>\n",
       "      <td>3.256947e+04</td>\n",
       "      <td>3.943733e+04</td>\n",
       "      <td>4.451192e+04</td>\n",
       "      <td>5.126932e+04</td>\n",
       "      <td>5.851477e+04</td>\n",
       "      <td>6.637870e+04</td>\n",
       "      <td>5.122396e+04</td>\n",
       "      <td>6.058404e+04</td>\n",
       "      <td>7.107347e+04</td>\n",
       "      <td>7.200046e+04</td>\n",
       "      <td>7.383176e+04</td>\n",
       "      <td>7.479535e+04</td>\n",
       "      <td>6.536848e+04</td>\n",
       "      <td>6.404206e+04</td>\n",
       "      <td>7.071302e+04</td>\n",
       "      <td>7.807287e+04</td>\n",
       "      <td>7.583848e+04</td>\n",
       "      <td>5.011247e+05</td>\n",
       "    </tr>\n",
       "    <tr>\n",
       "      <th>std</th>\n",
       "      <td>2.574918e+05</td>\n",
       "      <td>2.456516e+05</td>\n",
       "      <td>2.546064e+05</td>\n",
       "      <td>2.935627e+05</td>\n",
       "      <td>3.555187e+05</td>\n",
       "      <td>4.008227e+05</td>\n",
       "      <td>4.597467e+05</td>\n",
       "      <td>5.262328e+05</td>\n",
       "      <td>5.978074e+05</td>\n",
       "      <td>4.608235e+05</td>\n",
       "      <td>5.523083e+05</td>\n",
       "      <td>6.535578e+05</td>\n",
       "      <td>6.604516e+05</td>\n",
       "      <td>6.741555e+05</td>\n",
       "      <td>6.811720e+05</td>\n",
       "      <td>6.004346e+05</td>\n",
       "      <td>5.867944e+05</td>\n",
       "      <td>6.484204e+05</td>\n",
       "      <td>7.143228e+05</td>\n",
       "      <td>6.946708e+05</td>\n",
       "      <td>1.994239e+06</td>\n",
       "    </tr>\n",
       "    <tr>\n",
       "      <th>min</th>\n",
       "      <td>0.000000e+00</td>\n",
       "      <td>0.000000e+00</td>\n",
       "      <td>0.000000e+00</td>\n",
       "      <td>0.000000e+00</td>\n",
       "      <td>0.000000e+00</td>\n",
       "      <td>0.000000e+00</td>\n",
       "      <td>0.000000e+00</td>\n",
       "      <td>0.000000e+00</td>\n",
       "      <td>0.000000e+00</td>\n",
       "      <td>0.000000e+00</td>\n",
       "      <td>0.000000e+00</td>\n",
       "      <td>0.000000e+00</td>\n",
       "      <td>0.000000e+00</td>\n",
       "      <td>0.000000e+00</td>\n",
       "      <td>0.000000e+00</td>\n",
       "      <td>0.000000e+00</td>\n",
       "      <td>0.000000e+00</td>\n",
       "      <td>0.000000e+00</td>\n",
       "      <td>0.000000e+00</td>\n",
       "      <td>0.000000e+00</td>\n",
       "      <td>0.000000e+00</td>\n",
       "    </tr>\n",
       "    <tr>\n",
       "      <th>25%</th>\n",
       "      <td>5.700000e+01</td>\n",
       "      <td>5.600000e+01</td>\n",
       "      <td>5.650000e+01</td>\n",
       "      <td>6.400000e+01</td>\n",
       "      <td>6.900000e+01</td>\n",
       "      <td>7.600000e+01</td>\n",
       "      <td>9.450000e+01</td>\n",
       "      <td>1.062500e+02</td>\n",
       "      <td>1.190000e+02</td>\n",
       "      <td>1.090000e+02</td>\n",
       "      <td>1.190000e+02</td>\n",
       "      <td>1.310000e+02</td>\n",
       "      <td>1.420000e+02</td>\n",
       "      <td>1.540000e+02</td>\n",
       "      <td>1.677500e+02</td>\n",
       "      <td>1.527500e+02</td>\n",
       "      <td>1.630000e+02</td>\n",
       "      <td>1.785000e+02</td>\n",
       "      <td>1.907500e+02</td>\n",
       "      <td>1.917500e+02</td>\n",
       "      <td>2.458000e+03</td>\n",
       "    </tr>\n",
       "    <tr>\n",
       "      <th>50%</th>\n",
       "      <td>3.540000e+02</td>\n",
       "      <td>3.630000e+02</td>\n",
       "      <td>3.690000e+02</td>\n",
       "      <td>4.030000e+02</td>\n",
       "      <td>4.830000e+02</td>\n",
       "      <td>5.890000e+02</td>\n",
       "      <td>7.140000e+02</td>\n",
       "      <td>8.310000e+02</td>\n",
       "      <td>9.610000e+02</td>\n",
       "      <td>7.780000e+02</td>\n",
       "      <td>8.840000e+02</td>\n",
       "      <td>1.022000e+03</td>\n",
       "      <td>1.092000e+03</td>\n",
       "      <td>1.158000e+03</td>\n",
       "      <td>1.241500e+03</td>\n",
       "      <td>1.119000e+03</td>\n",
       "      <td>1.081000e+03</td>\n",
       "      <td>1.151000e+03</td>\n",
       "      <td>1.308000e+03</td>\n",
       "      <td>1.290500e+03</td>\n",
       "      <td>1.479600e+04</td>\n",
       "    </tr>\n",
       "    <tr>\n",
       "      <th>75%</th>\n",
       "      <td>2.708000e+03</td>\n",
       "      <td>2.639000e+03</td>\n",
       "      <td>2.694000e+03</td>\n",
       "      <td>3.020750e+03</td>\n",
       "      <td>3.587000e+03</td>\n",
       "      <td>4.350000e+03</td>\n",
       "      <td>5.134000e+03</td>\n",
       "      <td>6.084750e+03</td>\n",
       "      <td>7.341000e+03</td>\n",
       "      <td>5.601000e+03</td>\n",
       "      <td>6.461000e+03</td>\n",
       "      <td>7.529000e+03</td>\n",
       "      <td>8.006500e+03</td>\n",
       "      <td>8.368500e+03</td>\n",
       "      <td>8.515500e+03</td>\n",
       "      <td>7.243250e+03</td>\n",
       "      <td>6.934250e+03</td>\n",
       "      <td>7.720500e+03</td>\n",
       "      <td>8.520750e+03</td>\n",
       "      <td>8.158000e+03</td>\n",
       "      <td>1.529940e+05</td>\n",
       "    </tr>\n",
       "    <tr>\n",
       "      <th>max</th>\n",
       "      <td>6.647491e+06</td>\n",
       "      <td>6.406946e+06</td>\n",
       "      <td>6.656539e+06</td>\n",
       "      <td>7.771071e+06</td>\n",
       "      <td>9.473361e+06</td>\n",
       "      <td>1.078526e+07</td>\n",
       "      <td>1.236879e+07</td>\n",
       "      <td>1.426885e+07</td>\n",
       "      <td>1.649698e+07</td>\n",
       "      <td>1.271474e+07</td>\n",
       "      <td>1.543809e+07</td>\n",
       "      <td>1.843836e+07</td>\n",
       "      <td>1.865730e+07</td>\n",
       "      <td>1.896612e+07</td>\n",
       "      <td>1.906081e+07</td>\n",
       "      <td>1.673351e+07</td>\n",
       "      <td>1.621119e+07</td>\n",
       "      <td>1.798590e+07</td>\n",
       "      <td>1.983634e+07</td>\n",
       "      <td>1.928417e+07</td>\n",
       "      <td>1.781211e+07</td>\n",
       "    </tr>\n",
       "  </tbody>\n",
       "</table>\n",
       "</div>"
      ],
      "text/plain": [
       "         Unnamed: 3    Unnamed: 4    Unnamed: 5    Unnamed: 6    Unnamed: 7  \\\n",
       "count  3.021000e+03  3.072000e+03  3.107000e+03  3.182000e+03  3.202000e+03   \n",
       "mean   2.902974e+04  2.752395e+04  2.843011e+04  3.256947e+04  3.943733e+04   \n",
       "std    2.574918e+05  2.456516e+05  2.546064e+05  2.935627e+05  3.555187e+05   \n",
       "min    0.000000e+00  0.000000e+00  0.000000e+00  0.000000e+00  0.000000e+00   \n",
       "25%    5.700000e+01  5.600000e+01  5.650000e+01  6.400000e+01  6.900000e+01   \n",
       "50%    3.540000e+02  3.630000e+02  3.690000e+02  4.030000e+02  4.830000e+02   \n",
       "75%    2.708000e+03  2.639000e+03  2.694000e+03  3.020750e+03  3.587000e+03   \n",
       "max    6.647491e+06  6.406946e+06  6.656539e+06  7.771071e+06  9.473361e+06   \n",
       "\n",
       "         Unnamed: 8    Unnamed: 9   Unnamed: 10   Unnamed: 11   Unnamed: 12  \\\n",
       "count  3.209000e+03  3.187000e+03  3.226000e+03  3.253000e+03  3.245000e+03   \n",
       "mean   4.451192e+04  5.126932e+04  5.851477e+04  6.637870e+04  5.122396e+04   \n",
       "std    4.008227e+05  4.597467e+05  5.262328e+05  5.978074e+05  4.608235e+05   \n",
       "min    0.000000e+00  0.000000e+00  0.000000e+00  0.000000e+00  0.000000e+00   \n",
       "25%    7.600000e+01  9.450000e+01  1.062500e+02  1.190000e+02  1.090000e+02   \n",
       "50%    5.890000e+02  7.140000e+02  8.310000e+02  9.610000e+02  7.780000e+02   \n",
       "75%    4.350000e+03  5.134000e+03  6.084750e+03  7.341000e+03  5.601000e+03   \n",
       "max    1.078526e+07  1.236879e+07  1.426885e+07  1.649698e+07  1.271474e+07   \n",
       "\n",
       "        Unnamed: 13   Unnamed: 14   Unnamed: 15   Unnamed: 16   Unnamed: 17  \\\n",
       "count  3.313000e+03  3.349000e+03  3.303000e+03  3.283000e+03  3.272000e+03   \n",
       "mean   6.058404e+04  7.107347e+04  7.200046e+04  7.383176e+04  7.479535e+04   \n",
       "std    5.523083e+05  6.535578e+05  6.604516e+05  6.741555e+05  6.811720e+05   \n",
       "min    0.000000e+00  0.000000e+00  0.000000e+00  0.000000e+00  0.000000e+00   \n",
       "25%    1.190000e+02  1.310000e+02  1.420000e+02  1.540000e+02  1.677500e+02   \n",
       "50%    8.840000e+02  1.022000e+03  1.092000e+03  1.158000e+03  1.241500e+03   \n",
       "75%    6.461000e+03  7.529000e+03  8.006500e+03  8.368500e+03  8.515500e+03   \n",
       "max    1.543809e+07  1.843836e+07  1.865730e+07  1.896612e+07  1.906081e+07   \n",
       "\n",
       "        Unnamed: 18   Unnamed: 19   Unnamed: 20   Unnamed: 21   Unnamed: 22  \\\n",
       "count  3.288000e+03  3.274000e+03  3.307000e+03  3.308000e+03  3.308000e+03   \n",
       "mean   6.536848e+04  6.404206e+04  7.071302e+04  7.807287e+04  7.583848e+04   \n",
       "std    6.004346e+05  5.867944e+05  6.484204e+05  7.143228e+05  6.946708e+05   \n",
       "min    0.000000e+00  0.000000e+00  0.000000e+00  0.000000e+00  0.000000e+00   \n",
       "25%    1.527500e+02  1.630000e+02  1.785000e+02  1.907500e+02  1.917500e+02   \n",
       "50%    1.119000e+03  1.081000e+03  1.151000e+03  1.308000e+03  1.290500e+03   \n",
       "75%    7.243250e+03  6.934250e+03  7.720500e+03  8.520750e+03  8.158000e+03   \n",
       "max    1.673351e+07  1.621119e+07  1.798590e+07  1.983634e+07  1.928417e+07   \n",
       "\n",
       "        Unnamed: 23  \n",
       "count  2.610000e+02  \n",
       "mean   5.011247e+05  \n",
       "std    1.994239e+06  \n",
       "min    0.000000e+00  \n",
       "25%    2.458000e+03  \n",
       "50%    1.479600e+04  \n",
       "75%    1.529940e+05  \n",
       "max    1.781211e+07  "
      ]
     },
     "metadata": {},
     "output_type": "display_data"
    }
   ],
   "source": [
    "print('------------------------------ Shape ------------------------------')\n",
    "print('The dataset has',df.shape[0], 'Rows and', df.shape[1],'columns')\n",
    "print('------------------------------ Columns ------------------------------')\n",
    "display(df.columns)\n",
    "print('------------------------------ Data types ------------------------------')\n",
    "display(df.dtypes)\n",
    "print('------------------------------ Info ------------------------------')\n",
    "display(df.info())\n",
    "print('------------------------------ Describe ------------------------------')\n",
    "display(df.describe())"
   ]
  },
  {
   "cell_type": "markdown",
   "metadata": {},
   "source": [
    "#### Analytical Transformations"
   ]
  },
  {
   "cell_type": "code",
   "execution_count": 7,
   "metadata": {},
   "outputs": [
    {
     "name": "stdout",
     "output_type": "stream",
     "text": [
      "-------- Default column names --------\n"
     ]
    },
    {
     "data": {
      "text/plain": [
       "Index(['Indicator',\n",
       "       '  Merchandise imports by product group – annual (Million US dollar)',\n",
       "       'Unnamed: 2', 'Unnamed: 3', 'Unnamed: 4', 'Unnamed: 5', 'Unnamed: 6',\n",
       "       'Unnamed: 7', 'Unnamed: 8', 'Unnamed: 9', 'Unnamed: 10', 'Unnamed: 11',\n",
       "       'Unnamed: 12', 'Unnamed: 13', 'Unnamed: 14', 'Unnamed: 15',\n",
       "       'Unnamed: 16', 'Unnamed: 17', 'Unnamed: 18', 'Unnamed: 19',\n",
       "       'Unnamed: 20', 'Unnamed: 21', 'Unnamed: 22', 'Unnamed: 23'],\n",
       "      dtype='object')"
      ]
     },
     "metadata": {},
     "output_type": "display_data"
    },
    {
     "name": "stdout",
     "output_type": "stream",
     "text": [
      "-------- With new column names --------\n"
     ]
    },
    {
     "data": {
      "text/html": [
       "<div>\n",
       "<style scoped>\n",
       "    .dataframe tbody tr th:only-of-type {\n",
       "        vertical-align: middle;\n",
       "    }\n",
       "\n",
       "    .dataframe tbody tr th {\n",
       "        vertical-align: top;\n",
       "    }\n",
       "\n",
       "    .dataframe thead th {\n",
       "        text-align: right;\n",
       "    }\n",
       "</style>\n",
       "<table border=\"1\" class=\"dataframe\">\n",
       "  <thead>\n",
       "    <tr style=\"text-align: right;\">\n",
       "      <th></th>\n",
       "      <th>Reporting Economy</th>\n",
       "      <th>Product/Sector</th>\n",
       "      <th>Partner Economy</th>\n",
       "      <th>2000</th>\n",
       "      <th>2001</th>\n",
       "      <th>2002</th>\n",
       "      <th>2003</th>\n",
       "      <th>2004</th>\n",
       "      <th>2005</th>\n",
       "      <th>2006</th>\n",
       "      <th>2007</th>\n",
       "      <th>2008</th>\n",
       "      <th>2009</th>\n",
       "      <th>2010</th>\n",
       "      <th>2011</th>\n",
       "      <th>2012</th>\n",
       "      <th>2013</th>\n",
       "      <th>2014</th>\n",
       "      <th>2015</th>\n",
       "      <th>2016</th>\n",
       "      <th>2017</th>\n",
       "      <th>2018</th>\n",
       "      <th>2019</th>\n",
       "      <th>2020</th>\n",
       "    </tr>\n",
       "  </thead>\n",
       "  <tbody>\n",
       "    <tr>\n",
       "      <th>0</th>\n",
       "      <td>NaN</td>\n",
       "      <td>NaN</td>\n",
       "      <td>NaN</td>\n",
       "      <td>NaN</td>\n",
       "      <td>NaN</td>\n",
       "      <td>NaN</td>\n",
       "      <td>NaN</td>\n",
       "      <td>NaN</td>\n",
       "      <td>NaN</td>\n",
       "      <td>NaN</td>\n",
       "      <td>NaN</td>\n",
       "      <td>NaN</td>\n",
       "      <td>NaN</td>\n",
       "      <td>NaN</td>\n",
       "      <td>NaN</td>\n",
       "      <td>NaN</td>\n",
       "      <td>NaN</td>\n",
       "      <td>NaN</td>\n",
       "      <td>NaN</td>\n",
       "      <td>NaN</td>\n",
       "      <td>NaN</td>\n",
       "      <td>NaN</td>\n",
       "      <td>NaN</td>\n",
       "      <td>NaN</td>\n",
       "    </tr>\n",
       "    <tr>\n",
       "      <th>1</th>\n",
       "      <td>Reporting Economy</td>\n",
       "      <td>Product/Sector</td>\n",
       "      <td>Partner Economy</td>\n",
       "      <td>2000.0</td>\n",
       "      <td>2001.0</td>\n",
       "      <td>2002.0</td>\n",
       "      <td>2003.0</td>\n",
       "      <td>2004.0</td>\n",
       "      <td>2005.0</td>\n",
       "      <td>2006.0</td>\n",
       "      <td>2007.0</td>\n",
       "      <td>2008.0</td>\n",
       "      <td>2009.0</td>\n",
       "      <td>2010.0</td>\n",
       "      <td>2011.0</td>\n",
       "      <td>2012.0</td>\n",
       "      <td>2013.0</td>\n",
       "      <td>2014.0</td>\n",
       "      <td>2015.0</td>\n",
       "      <td>2016.0</td>\n",
       "      <td>2017.0</td>\n",
       "      <td>2018.0</td>\n",
       "      <td>2019.0</td>\n",
       "      <td>2020.0</td>\n",
       "    </tr>\n",
       "    <tr>\n",
       "      <th>2</th>\n",
       "      <td>World</td>\n",
       "      <td>SI3_AGG - TO - Total merchandise</td>\n",
       "      <td>World</td>\n",
       "      <td>6647491.0</td>\n",
       "      <td>6406946.0</td>\n",
       "      <td>6656539.0</td>\n",
       "      <td>7771071.0</td>\n",
       "      <td>9473361.0</td>\n",
       "      <td>10785263.0</td>\n",
       "      <td>12368788.0</td>\n",
       "      <td>14268847.0</td>\n",
       "      <td>16496984.0</td>\n",
       "      <td>12714737.0</td>\n",
       "      <td>15438092.0</td>\n",
       "      <td>18438364.0</td>\n",
       "      <td>18657296.0</td>\n",
       "      <td>18966119.0</td>\n",
       "      <td>19060809.0</td>\n",
       "      <td>16733507.0</td>\n",
       "      <td>16211194.0</td>\n",
       "      <td>17985896.0</td>\n",
       "      <td>19836342.0</td>\n",
       "      <td>19284167.0</td>\n",
       "      <td>17812107.0</td>\n",
       "    </tr>\n",
       "  </tbody>\n",
       "</table>\n",
       "</div>"
      ],
      "text/plain": [
       "   Reporting Economy                    Product/Sector  Partner Economy  \\\n",
       "0                NaN                               NaN              NaN   \n",
       "1  Reporting Economy                    Product/Sector  Partner Economy   \n",
       "2              World  SI3_AGG - TO - Total merchandise            World   \n",
       "\n",
       "        2000       2001       2002       2003       2004        2005  \\\n",
       "0        NaN        NaN        NaN        NaN        NaN         NaN   \n",
       "1     2000.0     2001.0     2002.0     2003.0     2004.0      2005.0   \n",
       "2  6647491.0  6406946.0  6656539.0  7771071.0  9473361.0  10785263.0   \n",
       "\n",
       "         2006        2007        2008        2009        2010        2011  \\\n",
       "0         NaN         NaN         NaN         NaN         NaN         NaN   \n",
       "1      2006.0      2007.0      2008.0      2009.0      2010.0      2011.0   \n",
       "2  12368788.0  14268847.0  16496984.0  12714737.0  15438092.0  18438364.0   \n",
       "\n",
       "         2012        2013        2014        2015        2016        2017  \\\n",
       "0         NaN         NaN         NaN         NaN         NaN         NaN   \n",
       "1      2012.0      2013.0      2014.0      2015.0      2016.0      2017.0   \n",
       "2  18657296.0  18966119.0  19060809.0  16733507.0  16211194.0  17985896.0   \n",
       "\n",
       "         2018        2019        2020  \n",
       "0         NaN         NaN         NaN  \n",
       "1      2018.0      2019.0      2020.0  \n",
       "2  19836342.0  19284167.0  17812107.0  "
      ]
     },
     "metadata": {},
     "output_type": "display_data"
    }
   ],
   "source": [
    "# Display all columns\n",
    "print('-------- Default column names --------')\n",
    "display(df.columns)\n",
    "\n",
    "# Change columns name\n",
    "map_cols_name = {\n",
    "    'Indicator':'Reporting Economy',\n",
    "    '  Merchandise imports by product group – annual (Million US dollar)': 'Product/Sector',\n",
    "    'Unnamed: 2': 'Partner Economy',\n",
    "    'Unnamed: 3': '2000',\n",
    "    'Unnamed: 4': '2001',\n",
    "    'Unnamed: 5': '2002',\n",
    "    'Unnamed: 6': '2003',\n",
    "    'Unnamed: 7': '2004',\n",
    "    'Unnamed: 8': '2005',\n",
    "    'Unnamed: 9': '2006',\n",
    "    'Unnamed: 10': '2007',\n",
    "    'Unnamed: 11': '2008',\n",
    "    'Unnamed: 12': '2009',\n",
    "    'Unnamed: 13': '2010',\n",
    "    'Unnamed: 14': '2011',\n",
    "    'Unnamed: 15': '2012',\n",
    "    'Unnamed: 16': '2013',\n",
    "    'Unnamed: 17': '2014',\n",
    "    'Unnamed: 18': '2015',\n",
    "    'Unnamed: 19': '2016',\n",
    "    'Unnamed: 20': '2017',\n",
    "    'Unnamed: 21': '2018',\n",
    "    'Unnamed: 22': '2019',\n",
    "    'Unnamed: 23': '2020',\n",
    "}\n",
    "\n",
    "# Change all default column names\n",
    "print('-------- With new column names --------')\n",
    "renamed_cols_df = df.rename(columns=map_cols_name)\n",
    "display(renamed_cols_df.head(3))"
   ]
  },
  {
   "cell_type": "markdown",
   "metadata": {},
   "source": [
    "#### Treatment of Missing Values"
   ]
  },
  {
   "cell_type": "code",
   "execution_count": null,
   "metadata": {},
   "outputs": [],
   "source": [
    "# Checking for missing values\n",
    "# df.isnull().sum()"
   ]
  },
  {
   "cell_type": "code",
   "execution_count": null,
   "metadata": {},
   "outputs": [],
   "source": [
    "# Dealing with missing values\n",
    "# df = df.dropna(axis='columns')"
   ]
  },
  {
   "cell_type": "code",
   "execution_count": null,
   "metadata": {},
   "outputs": [],
   "source": [
    "# If there are any missing values, how do you plan to treat those data columns?"
   ]
  },
  {
   "cell_type": "code",
   "execution_count": null,
   "metadata": {},
   "outputs": [],
   "source": [
    "# Perform any transformation on the columns in the dataset to enable further analysis."
   ]
  },
  {
   "cell_type": "markdown",
   "metadata": {},
   "source": [
    "<br><br>"
   ]
  },
  {
   "cell_type": "markdown",
   "metadata": {},
   "source": [
    "<h1 align=\"center\"> Data Analysis </h1>"
   ]
  },
  {
   "cell_type": "markdown",
   "metadata": {},
   "source": [
    "#### Descriptive Statistical Analysis"
   ]
  },
  {
   "cell_type": "code",
   "execution_count": null,
   "metadata": {},
   "outputs": [],
   "source": [
    "# Using basic statistical measures such as measurements of central tendancy such as mean, median and mode."
   ]
  },
  {
   "cell_type": "markdown",
   "metadata": {},
   "source": [
    "#### Distribution of Variables"
   ]
  },
  {
   "cell_type": "code",
   "execution_count": null,
   "metadata": {},
   "outputs": [],
   "source": [
    "# Identify the distribution of the data to understand the range of values and how the data is structured."
   ]
  },
  {
   "cell_type": "markdown",
   "metadata": {},
   "source": [
    "#### Outliers in the dataset"
   ]
  },
  {
   "cell_type": "code",
   "execution_count": null,
   "metadata": {},
   "outputs": [],
   "source": [
    "# Identify if there are any outliers in the dataset based on statistical measures."
   ]
  },
  {
   "cell_type": "markdown",
   "metadata": {},
   "source": [
    "<br><br>"
   ]
  },
  {
   "cell_type": "markdown",
   "metadata": {},
   "source": [
    "<h1 align=\"center\"> Reflections </h1>"
   ]
  },
  {
   "cell_type": "markdown",
   "metadata": {},
   "source": [
    "#### Summary of Data Analysis"
   ]
  },
  {
   "cell_type": "code",
   "execution_count": null,
   "metadata": {},
   "outputs": [],
   "source": [
    "# What insights should the user takeaway from EDA."
   ]
  },
  {
   "cell_type": "markdown",
   "metadata": {},
   "source": [
    "#### Questions unanswered"
   ]
  },
  {
   "cell_type": "code",
   "execution_count": null,
   "metadata": {},
   "outputs": [],
   "source": [
    "# What aspects of the research question were we unable to answer and why?"
   ]
  },
  {
   "cell_type": "markdown",
   "metadata": {},
   "source": [
    "#### Recommendations"
   ]
  },
  {
   "cell_type": "code",
   "execution_count": null,
   "metadata": {},
   "outputs": [],
   "source": [
    "# Identify if there are any outliers in the dataset based on statistical measures."
   ]
  },
  {
   "cell_type": "markdown",
   "metadata": {},
   "source": [
    "#### Next Steps"
   ]
  },
  {
   "cell_type": "code",
   "execution_count": null,
   "metadata": {},
   "outputs": [],
   "source": [
    "# What will the analyst do next based on the analysis?"
   ]
  }
 ],
 "metadata": {
  "interpreter": {
   "hash": "aee8b7b246df8f9039afb4144a1f6fd8d2ca17a180786b69acc140d282b71a49"
  },
  "kernelspec": {
   "display_name": "Python 3",
   "language": "python",
   "name": "python3"
  },
  "language_info": {
   "codemirror_mode": {
    "name": "ipython",
    "version": 3
   },
   "file_extension": ".py",
   "mimetype": "text/x-python",
   "name": "python",
   "nbconvert_exporter": "python",
   "pygments_lexer": "ipython3",
   "version": "3.8.5"
  }
 },
 "nbformat": 4,
 "nbformat_minor": 4
}
